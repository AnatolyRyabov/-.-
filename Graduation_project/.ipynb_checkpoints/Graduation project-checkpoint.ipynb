{
 "cells": [
  {
   "cell_type": "markdown",
   "metadata": {},
   "source": [
    "# Оглавление  \n",
    "1. [Подготовка и анализ данных.](#Шаг_1)\n",
    "    \n",
    "2. [Предобработка данных.](#Шаг_2)\n",
    "\n",
    "3. [Построение и тестирование модели.](#Шаг_3)\n",
    "\n",
    "4. [Общий вывод.](#Шаг_4)\n",
    "<a name=\"Оглавление\"></a>"
   ]
  },
  {
   "cell_type": "markdown",
   "metadata": {},
   "source": [
    "___\n",
    "<a name=\"Шаг_1\"></a>\n",
    "### Подготовка и анализ данных."
   ]
  },
  {
   "cell_type": "code",
   "execution_count": 2,
   "metadata": {},
   "outputs": [],
   "source": [
    "import pandas as pd\n",
    "import numpy as np\n",
    "import matplotlib.pyplot as plt\n",
    "import seaborn as sns\n",
    "from sklearn.model_selection import train_test_split\n",
    "from sklearn.preprocessing import StandardScaler\n",
    "from sklearn.preprocessing import OneHotEncoder\n",
    "from sklearn.preprocessing import OrdinalEncoder\n",
    "from sklearn.utils import shuffle\n",
    "from sklearn.model_selection import GridSearchCV\n",
    "\n",
    "from sklearn.linear_model import LogisticRegression\n",
    "from sklearn.ensemble import RandomForestClassifier\n",
    "from sklearn.tree import DecisionTreeClassifier\n",
    "from catboost import CatBoostClassifier\n",
    "import xgboost as xgb\n",
    "import lightgbm as lgb\n",
    "from tensorflow import keras\n",
    "from tensorflow.keras.optimizers import Adam\n",
    "from tensorflow.keras.layers import Dense, Conv2D, LSTM\n",
    "\n",
    "from sklearn.metrics import roc_auc_score\n",
    "from sklearn.metrics import accuracy_score\n",
    "from sklearn.metrics import precision_score\n",
    "from sklearn.metrics import f1_score\n",
    "from sklearn.metrics import recall_score"
   ]
  },
  {
   "cell_type": "code",
   "execution_count": 3,
   "metadata": {},
   "outputs": [],
   "source": [
    "import warnings\n",
    "warnings.filterwarnings('ignore') "
   ]
  },
  {
   "cell_type": "code",
   "execution_count": 4,
   "metadata": {},
   "outputs": [],
   "source": [
    "def upsample(features, target, repeat):\n",
    "    features_zeros = features[target == 0]\n",
    "    features_ones = features[target == 1]\n",
    "    target_zeros = target[target == 0]\n",
    "    target_ones = target[target == 1]\n",
    "    features_upsampled = pd.concat([features_zeros] + [features_ones] * repeat)\n",
    "    target_upsampled = pd.concat([target_zeros] + [target_ones] * repeat)\n",
    "    features_upsampled, target_upsampled = shuffle(features_upsampled, target_upsampled, random_state=12345)\n",
    "    return features_upsampled, target_upsampled"
   ]
  },
  {
   "cell_type": "code",
   "execution_count": 5,
   "metadata": {},
   "outputs": [],
   "source": [
    "data_contract = pd.read_csv('contract.csv')\n",
    "data_personal = pd.read_csv('personal.csv')\n",
    "data_internet = pd.read_csv('internet.csv')\n",
    "data_phone = pd.read_csv('phone.csv')"
   ]
  },
  {
   "cell_type": "markdown",
   "metadata": {},
   "source": [
    "___\n",
    "##### data_contract\n",
    "___"
   ]
  },
  {
   "cell_type": "code",
   "execution_count": 9,
   "metadata": {},
   "outputs": [
    {
     "data": {
      "text/html": [
       "<div>\n",
       "<style scoped>\n",
       "    .dataframe tbody tr th:only-of-type {\n",
       "        vertical-align: middle;\n",
       "    }\n",
       "\n",
       "    .dataframe tbody tr th {\n",
       "        vertical-align: top;\n",
       "    }\n",
       "\n",
       "    .dataframe thead th {\n",
       "        text-align: right;\n",
       "    }\n",
       "</style>\n",
       "<table border=\"1\" class=\"dataframe\">\n",
       "  <thead>\n",
       "    <tr style=\"text-align: right;\">\n",
       "      <th></th>\n",
       "      <th>customerID</th>\n",
       "      <th>BeginDate</th>\n",
       "      <th>EndDate</th>\n",
       "      <th>Type</th>\n",
       "      <th>PaperlessBilling</th>\n",
       "      <th>PaymentMethod</th>\n",
       "      <th>MonthlyCharges</th>\n",
       "      <th>TotalCharges</th>\n",
       "    </tr>\n",
       "  </thead>\n",
       "  <tbody>\n",
       "    <tr>\n",
       "      <td>0</td>\n",
       "      <td>7590-VHVEG</td>\n",
       "      <td>2020-01-01</td>\n",
       "      <td>No</td>\n",
       "      <td>Month-to-month</td>\n",
       "      <td>Yes</td>\n",
       "      <td>Electronic check</td>\n",
       "      <td>29.85</td>\n",
       "      <td>29.85</td>\n",
       "    </tr>\n",
       "    <tr>\n",
       "      <td>1</td>\n",
       "      <td>5575-GNVDE</td>\n",
       "      <td>2017-04-01</td>\n",
       "      <td>No</td>\n",
       "      <td>One year</td>\n",
       "      <td>No</td>\n",
       "      <td>Mailed check</td>\n",
       "      <td>56.95</td>\n",
       "      <td>1889.5</td>\n",
       "    </tr>\n",
       "    <tr>\n",
       "      <td>2</td>\n",
       "      <td>3668-QPYBK</td>\n",
       "      <td>2019-10-01</td>\n",
       "      <td>2019-12-01 00:00:00</td>\n",
       "      <td>Month-to-month</td>\n",
       "      <td>Yes</td>\n",
       "      <td>Mailed check</td>\n",
       "      <td>53.85</td>\n",
       "      <td>108.15</td>\n",
       "    </tr>\n",
       "  </tbody>\n",
       "</table>\n",
       "</div>"
      ],
      "text/plain": [
       "   customerID   BeginDate              EndDate            Type  \\\n",
       "0  7590-VHVEG  2020-01-01                   No  Month-to-month   \n",
       "1  5575-GNVDE  2017-04-01                   No        One year   \n",
       "2  3668-QPYBK  2019-10-01  2019-12-01 00:00:00  Month-to-month   \n",
       "\n",
       "  PaperlessBilling     PaymentMethod  MonthlyCharges TotalCharges  \n",
       "0              Yes  Electronic check           29.85        29.85  \n",
       "1               No      Mailed check           56.95       1889.5  \n",
       "2              Yes      Mailed check           53.85       108.15  "
      ]
     },
     "execution_count": 9,
     "metadata": {},
     "output_type": "execute_result"
    }
   ],
   "source": [
    "data_contract.head(3)"
   ]
  },
  {
   "cell_type": "code",
   "execution_count": 10,
   "metadata": {},
   "outputs": [
    {
     "name": "stdout",
     "output_type": "stream",
     "text": [
      "<class 'pandas.core.frame.DataFrame'>\n",
      "RangeIndex: 7043 entries, 0 to 7042\n",
      "Data columns (total 8 columns):\n",
      "customerID          7043 non-null object\n",
      "BeginDate           7043 non-null object\n",
      "EndDate             7043 non-null object\n",
      "Type                7043 non-null object\n",
      "PaperlessBilling    7043 non-null object\n",
      "PaymentMethod       7043 non-null object\n",
      "MonthlyCharges      7043 non-null float64\n",
      "TotalCharges        7043 non-null object\n",
      "dtypes: float64(1), object(7)\n",
      "memory usage: 440.3+ KB\n"
     ]
    },
    {
     "data": {
      "text/plain": [
       "((7043, 8), None)"
      ]
     },
     "execution_count": 10,
     "metadata": {},
     "output_type": "execute_result"
    }
   ],
   "source": [
    "data_contract.shape, data_contract.info()"
   ]
  },
  {
   "cell_type": "code",
   "execution_count": 11,
   "metadata": {},
   "outputs": [
    {
     "data": {
      "text/plain": [
       "2014-02-01    366\n",
       "2019-10-01    237\n",
       "2019-09-01    237\n",
       "2019-11-01    237\n",
       "2020-01-01    233\n",
       "             ... \n",
       "2020-02-01     11\n",
       "2014-01-01      7\n",
       "2013-10-01      3\n",
       "2013-12-01      3\n",
       "2013-11-01      2\n",
       "Name: BeginDate, Length: 77, dtype: int64"
      ]
     },
     "execution_count": 11,
     "metadata": {},
     "output_type": "execute_result"
    }
   ],
   "source": [
    "data_contract.BeginDate.value_counts()"
   ]
  },
  {
   "cell_type": "code",
   "execution_count": 12,
   "metadata": {},
   "outputs": [
    {
     "data": {
      "text/plain": [
       "No                     5174\n",
       "2019-11-01 00:00:00     485\n",
       "2019-12-01 00:00:00     466\n",
       "2020-01-01 00:00:00     460\n",
       "2019-10-01 00:00:00     458\n",
       "Name: EndDate, dtype: int64"
      ]
     },
     "execution_count": 12,
     "metadata": {},
     "output_type": "execute_result"
    }
   ],
   "source": [
    "data_contract.EndDate.value_counts()"
   ]
  },
  {
   "cell_type": "markdown",
   "metadata": {},
   "source": [
    "Данные актуальны на 2020-02-01. Признак EndDate не имеет этого значения, что облегчает предобработку"
   ]
  },
  {
   "cell_type": "code",
   "execution_count": 13,
   "metadata": {},
   "outputs": [
    {
     "data": {
      "text/plain": [
       "Month-to-month    3875\n",
       "Two year          1695\n",
       "One year          1473\n",
       "Name: Type, dtype: int64"
      ]
     },
     "execution_count": 13,
     "metadata": {},
     "output_type": "execute_result"
    }
   ],
   "source": [
    "data_contract.Type.value_counts()"
   ]
  },
  {
   "cell_type": "code",
   "execution_count": 14,
   "metadata": {},
   "outputs": [
    {
     "data": {
      "text/plain": [
       "Yes    4171\n",
       "No     2872\n",
       "Name: PaperlessBilling, dtype: int64"
      ]
     },
     "execution_count": 14,
     "metadata": {},
     "output_type": "execute_result"
    }
   ],
   "source": [
    "data_contract.PaperlessBilling.value_counts()"
   ]
  },
  {
   "cell_type": "code",
   "execution_count": 15,
   "metadata": {},
   "outputs": [
    {
     "data": {
      "text/plain": [
       "Electronic check             2365\n",
       "Mailed check                 1612\n",
       "Bank transfer (automatic)    1544\n",
       "Credit card (automatic)      1522\n",
       "Name: PaymentMethod, dtype: int64"
      ]
     },
     "execution_count": 15,
     "metadata": {},
     "output_type": "execute_result"
    }
   ],
   "source": [
    "data_contract.PaymentMethod.value_counts()"
   ]
  },
  {
   "cell_type": "code",
   "execution_count": 16,
   "metadata": {},
   "outputs": [
    {
     "data": {
      "text/plain": [
       "count    7043.000000\n",
       "mean       64.761692\n",
       "std        30.090047\n",
       "min        18.250000\n",
       "25%        35.500000\n",
       "50%        70.350000\n",
       "75%        89.850000\n",
       "max       118.750000\n",
       "Name: MonthlyCharges, dtype: float64"
      ]
     },
     "execution_count": 16,
     "metadata": {},
     "output_type": "execute_result"
    }
   ],
   "source": [
    "data_contract.MonthlyCharges.describe()"
   ]
  },
  {
   "cell_type": "code",
   "execution_count": 17,
   "metadata": {},
   "outputs": [
    {
     "data": {
      "text/plain": [
       "<matplotlib.axes._subplots.AxesSubplot at 0x7f7417402c10>"
      ]
     },
     "execution_count": 17,
     "metadata": {},
     "output_type": "execute_result"
    },
    {
     "data": {
      "image/png": "[encoded data removed]",
      "text/plain": [
       "<Figure size 1224x360 with 1 Axes>"
      ]
     },
     "metadata": {
      "needs_background": "light"
     },
     "output_type": "display_data"
    }
   ],
   "source": [
    "data_contract.MonthlyCharges.hist(bins = 100, figsize = (17, 5))"
   ]
  },
  {
   "cell_type": "code",
   "execution_count": 18,
   "metadata": {},
   "outputs": [
    {
     "data": {
      "text/plain": [
       "<matplotlib.axes._subplots.AxesSubplot at 0x7f74173f44d0>"
      ]
     },
     "execution_count": 18,
     "metadata": {},
     "output_type": "execute_result"
    },
    {
     "data": {
      "image/png": "[encoded data removed]",
      "text/plain": [
       "<Figure size 360x504 with 1 Axes>"
      ]
     },
     "metadata": {
      "needs_background": "light"
     },
     "output_type": "display_data"
    }
   ],
   "source": [
    "data_contract.boxplot(column=['MonthlyCharges'], figsize = (5, 7))"
   ]
  },
  {
   "cell_type": "markdown",
   "metadata": {},
   "source": [
    "Ярко выделены низкие помесячные платежи"
   ]
  },
  {
   "cell_type": "code",
   "execution_count": 19,
   "metadata": {},
   "outputs": [
    {
     "data": {
      "text/plain": [
       "count     7043\n",
       "unique    6531\n",
       "top       20.2\n",
       "freq        11\n",
       "Name: TotalCharges, dtype: object"
      ]
     },
     "execution_count": 19,
     "metadata": {},
     "output_type": "execute_result"
    }
   ],
   "source": [
    "data_contract.TotalCharges.describe()"
   ]
  },
  {
   "cell_type": "markdown",
   "metadata": {},
   "source": [
    "Пропусков в данных нет. \n",
    "- Даты (BeginDate, EndDate) имеют тип данных \"object\", требуется преобразование в тип date. \n",
    "- Следует добавить признак отдельно с общим количеством месяцев, которые клиент платит деньги. \n",
    "- Отдельным признаком обозначить ушедшего клиента. \n",
    "- Признак Type, PaperlessBilling, PaymentMethod преобразовать в числовой вариант.\n",
    "- MonthlyCharges - устраивает, максимальное значение немного выбивается, пока примем на веру\n",
    "- Тип признака TotalCharges преобразовать во float."
   ]
  },
  {
   "cell_type": "markdown",
   "metadata": {},
   "source": [
    "___\n",
    "##### data_personal\n",
    "___"
   ]
  },
  {
   "cell_type": "code",
   "execution_count": 20,
   "metadata": {
    "scrolled": true
   },
   "outputs": [
    {
     "data": {
      "text/html": [
       "<div>\n",
       "<style scoped>\n",
       "    .dataframe tbody tr th:only-of-type {\n",
       "        vertical-align: middle;\n",
       "    }\n",
       "\n",
       "    .dataframe tbody tr th {\n",
       "        vertical-align: top;\n",
       "    }\n",
       "\n",
       "    .dataframe thead th {\n",
       "        text-align: right;\n",
       "    }\n",
       "</style>\n",
       "<table border=\"1\" class=\"dataframe\">\n",
       "  <thead>\n",
       "    <tr style=\"text-align: right;\">\n",
       "      <th></th>\n",
       "      <th>customerID</th>\n",
       "      <th>gender</th>\n",
       "      <th>SeniorCitizen</th>\n",
       "      <th>Partner</th>\n",
       "      <th>Dependents</th>\n",
       "    </tr>\n",
       "  </thead>\n",
       "  <tbody>\n",
       "    <tr>\n",
       "      <td>0</td>\n",
       "      <td>7590-VHVEG</td>\n",
       "      <td>Female</td>\n",
       "      <td>0</td>\n",
       "      <td>Yes</td>\n",
       "      <td>No</td>\n",
       "    </tr>\n",
       "    <tr>\n",
       "      <td>1</td>\n",
       "      <td>5575-GNVDE</td>\n",
       "      <td>Male</td>\n",
       "      <td>0</td>\n",
       "      <td>No</td>\n",
       "      <td>No</td>\n",
       "    </tr>\n",
       "    <tr>\n",
       "      <td>2</td>\n",
       "      <td>3668-QPYBK</td>\n",
       "      <td>Male</td>\n",
       "      <td>0</td>\n",
       "      <td>No</td>\n",
       "      <td>No</td>\n",
       "    </tr>\n",
       "  </tbody>\n",
       "</table>\n",
       "</div>"
      ],
      "text/plain": [
       "   customerID  gender  SeniorCitizen Partner Dependents\n",
       "0  7590-VHVEG  Female              0     Yes         No\n",
       "1  5575-GNVDE    Male              0      No         No\n",
       "2  3668-QPYBK    Male              0      No         No"
      ]
     },
     "execution_count": 20,
     "metadata": {},
     "output_type": "execute_result"
    }
   ],
   "source": [
    "data_personal.head(3)"
   ]
  },
  {
   "cell_type": "code",
   "execution_count": 21,
   "metadata": {},
   "outputs": [
    {
     "name": "stdout",
     "output_type": "stream",
     "text": [
      "<class 'pandas.core.frame.DataFrame'>\n",
      "RangeIndex: 7043 entries, 0 to 7042\n",
      "Data columns (total 5 columns):\n",
      "customerID       7043 non-null object\n",
      "gender           7043 non-null object\n",
      "SeniorCitizen    7043 non-null int64\n",
      "Partner          7043 non-null object\n",
      "Dependents       7043 non-null object\n",
      "dtypes: int64(1), object(4)\n",
      "memory usage: 275.2+ KB\n"
     ]
    },
    {
     "data": {
      "text/plain": [
       "((7043, 5), None)"
      ]
     },
     "execution_count": 21,
     "metadata": {},
     "output_type": "execute_result"
    }
   ],
   "source": [
    "data_personal.shape, data_personal.info()"
   ]
  },
  {
   "cell_type": "code",
   "execution_count": 22,
   "metadata": {},
   "outputs": [
    {
     "data": {
      "text/plain": [
       "Male      3555\n",
       "Female    3488\n",
       "Name: gender, dtype: int64"
      ]
     },
     "execution_count": 22,
     "metadata": {},
     "output_type": "execute_result"
    }
   ],
   "source": [
    "data_personal.gender.value_counts()"
   ]
  },
  {
   "cell_type": "code",
   "execution_count": 23,
   "metadata": {},
   "outputs": [
    {
     "data": {
      "text/plain": [
       "0    5901\n",
       "1    1142\n",
       "Name: SeniorCitizen, dtype: int64"
      ]
     },
     "execution_count": 23,
     "metadata": {},
     "output_type": "execute_result"
    }
   ],
   "source": [
    "data_personal.SeniorCitizen.value_counts()"
   ]
  },
  {
   "cell_type": "code",
   "execution_count": 24,
   "metadata": {},
   "outputs": [
    {
     "data": {
      "text/plain": [
       "No     3641\n",
       "Yes    3402\n",
       "Name: Partner, dtype: int64"
      ]
     },
     "execution_count": 24,
     "metadata": {},
     "output_type": "execute_result"
    }
   ],
   "source": [
    "data_personal.Partner.value_counts()"
   ]
  },
  {
   "cell_type": "code",
   "execution_count": 25,
   "metadata": {},
   "outputs": [
    {
     "data": {
      "text/plain": [
       "No     4933\n",
       "Yes    2110\n",
       "Name: Dependents, dtype: int64"
      ]
     },
     "execution_count": 25,
     "metadata": {},
     "output_type": "execute_result"
    }
   ],
   "source": [
    "data_personal.Dependents.value_counts()"
   ]
  },
  {
   "cell_type": "markdown",
   "metadata": {},
   "source": [
    "Пропусков в данных нет. \n",
    "- Следует преобразовать признак gender в числовой вариант\n",
    "- SeniorCitizen - устраивает \n",
    "- Признак Partner, Dependents в числовой вариант"
   ]
  },
  {
   "cell_type": "markdown",
   "metadata": {},
   "source": [
    "___\n",
    "##### data_internet\n",
    "___"
   ]
  },
  {
   "cell_type": "code",
   "execution_count": 26,
   "metadata": {},
   "outputs": [
    {
     "data": {
      "text/html": [
       "<div>\n",
       "<style scoped>\n",
       "    .dataframe tbody tr th:only-of-type {\n",
       "        vertical-align: middle;\n",
       "    }\n",
       "\n",
       "    .dataframe tbody tr th {\n",
       "        vertical-align: top;\n",
       "    }\n",
       "\n",
       "    .dataframe thead th {\n",
       "        text-align: right;\n",
       "    }\n",
       "</style>\n",
       "<table border=\"1\" class=\"dataframe\">\n",
       "  <thead>\n",
       "    <tr style=\"text-align: right;\">\n",
       "      <th></th>\n",
       "      <th>customerID</th>\n",
       "      <th>InternetService</th>\n",
       "      <th>OnlineSecurity</th>\n",
       "      <th>OnlineBackup</th>\n",
       "      <th>DeviceProtection</th>\n",
       "      <th>TechSupport</th>\n",
       "      <th>StreamingTV</th>\n",
       "      <th>StreamingMovies</th>\n",
       "    </tr>\n",
       "  </thead>\n",
       "  <tbody>\n",
       "    <tr>\n",
       "      <td>0</td>\n",
       "      <td>7590-VHVEG</td>\n",
       "      <td>DSL</td>\n",
       "      <td>No</td>\n",
       "      <td>Yes</td>\n",
       "      <td>No</td>\n",
       "      <td>No</td>\n",
       "      <td>No</td>\n",
       "      <td>No</td>\n",
       "    </tr>\n",
       "    <tr>\n",
       "      <td>1</td>\n",
       "      <td>5575-GNVDE</td>\n",
       "      <td>DSL</td>\n",
       "      <td>Yes</td>\n",
       "      <td>No</td>\n",
       "      <td>Yes</td>\n",
       "      <td>No</td>\n",
       "      <td>No</td>\n",
       "      <td>No</td>\n",
       "    </tr>\n",
       "    <tr>\n",
       "      <td>2</td>\n",
       "      <td>3668-QPYBK</td>\n",
       "      <td>DSL</td>\n",
       "      <td>Yes</td>\n",
       "      <td>Yes</td>\n",
       "      <td>No</td>\n",
       "      <td>No</td>\n",
       "      <td>No</td>\n",
       "      <td>No</td>\n",
       "    </tr>\n",
       "  </tbody>\n",
       "</table>\n",
       "</div>"
      ],
      "text/plain": [
       "   customerID InternetService OnlineSecurity OnlineBackup DeviceProtection  \\\n",
       "0  7590-VHVEG             DSL             No          Yes               No   \n",
       "1  5575-GNVDE             DSL            Yes           No              Yes   \n",
       "2  3668-QPYBK             DSL            Yes          Yes               No   \n",
       "\n",
       "  TechSupport StreamingTV StreamingMovies  \n",
       "0          No          No              No  \n",
       "1          No          No              No  \n",
       "2          No          No              No  "
      ]
     },
     "execution_count": 26,
     "metadata": {},
     "output_type": "execute_result"
    }
   ],
   "source": [
    "data_internet.head(3)"
   ]
  },
  {
   "cell_type": "code",
   "execution_count": 27,
   "metadata": {},
   "outputs": [
    {
     "name": "stdout",
     "output_type": "stream",
     "text": [
      "<class 'pandas.core.frame.DataFrame'>\n",
      "RangeIndex: 5517 entries, 0 to 5516\n",
      "Data columns (total 8 columns):\n",
      "customerID          5517 non-null object\n",
      "InternetService     5517 non-null object\n",
      "OnlineSecurity      5517 non-null object\n",
      "OnlineBackup        5517 non-null object\n",
      "DeviceProtection    5517 non-null object\n",
      "TechSupport         5517 non-null object\n",
      "StreamingTV         5517 non-null object\n",
      "StreamingMovies     5517 non-null object\n",
      "dtypes: object(8)\n",
      "memory usage: 344.9+ KB\n"
     ]
    },
    {
     "data": {
      "text/plain": [
       "((5517, 8), None)"
      ]
     },
     "execution_count": 27,
     "metadata": {},
     "output_type": "execute_result"
    }
   ],
   "source": [
    "data_internet.shape, data_internet.info()"
   ]
  },
  {
   "cell_type": "code",
   "execution_count": 28,
   "metadata": {},
   "outputs": [
    {
     "data": {
      "text/plain": [
       "Fiber optic    3096\n",
       "DSL            2421\n",
       "Name: InternetService, dtype: int64"
      ]
     },
     "execution_count": 28,
     "metadata": {},
     "output_type": "execute_result"
    }
   ],
   "source": [
    "data_internet.InternetService.value_counts()"
   ]
  },
  {
   "cell_type": "code",
   "execution_count": 29,
   "metadata": {},
   "outputs": [
    {
     "data": {
      "text/plain": [
       "No     3498\n",
       "Yes    2019\n",
       "Name: OnlineSecurity, dtype: int64"
      ]
     },
     "execution_count": 29,
     "metadata": {},
     "output_type": "execute_result"
    }
   ],
   "source": [
    "data_internet.OnlineSecurity.value_counts()"
   ]
  },
  {
   "cell_type": "code",
   "execution_count": 30,
   "metadata": {},
   "outputs": [
    {
     "data": {
      "text/plain": [
       "No     3088\n",
       "Yes    2429\n",
       "Name: OnlineBackup, dtype: int64"
      ]
     },
     "execution_count": 30,
     "metadata": {},
     "output_type": "execute_result"
    }
   ],
   "source": [
    "data_internet.OnlineBackup.value_counts()"
   ]
  },
  {
   "cell_type": "code",
   "execution_count": 31,
   "metadata": {},
   "outputs": [
    {
     "data": {
      "text/plain": [
       "No     3095\n",
       "Yes    2422\n",
       "Name: DeviceProtection, dtype: int64"
      ]
     },
     "execution_count": 31,
     "metadata": {},
     "output_type": "execute_result"
    }
   ],
   "source": [
    "data_internet.DeviceProtection.value_counts()"
   ]
  },
  {
   "cell_type": "code",
   "execution_count": 32,
   "metadata": {},
   "outputs": [
    {
     "data": {
      "text/plain": [
       "No     3473\n",
       "Yes    2044\n",
       "Name: TechSupport, dtype: int64"
      ]
     },
     "execution_count": 32,
     "metadata": {},
     "output_type": "execute_result"
    }
   ],
   "source": [
    "data_internet.TechSupport.value_counts()"
   ]
  },
  {
   "cell_type": "code",
   "execution_count": 33,
   "metadata": {},
   "outputs": [
    {
     "data": {
      "text/plain": [
       "No     2810\n",
       "Yes    2707\n",
       "Name: StreamingTV, dtype: int64"
      ]
     },
     "execution_count": 33,
     "metadata": {},
     "output_type": "execute_result"
    }
   ],
   "source": [
    "data_internet.StreamingTV.value_counts()"
   ]
  },
  {
   "cell_type": "code",
   "execution_count": 34,
   "metadata": {},
   "outputs": [
    {
     "data": {
      "text/plain": [
       "No     2785\n",
       "Yes    2732\n",
       "Name: StreamingMovies, dtype: int64"
      ]
     },
     "execution_count": 34,
     "metadata": {},
     "output_type": "execute_result"
    }
   ],
   "source": [
    "data_internet.StreamingMovies.value_counts()"
   ]
  },
  {
   "cell_type": "markdown",
   "metadata": {},
   "source": [
    "Пропусков в данных нет. \n",
    "- Следует преобразовать признаки в числовой вариант\n"
   ]
  },
  {
   "cell_type": "markdown",
   "metadata": {},
   "source": [
    "___\n",
    "##### data_phone\n",
    "___"
   ]
  },
  {
   "cell_type": "code",
   "execution_count": 35,
   "metadata": {},
   "outputs": [
    {
     "data": {
      "text/html": [
       "<div>\n",
       "<style scoped>\n",
       "    .dataframe tbody tr th:only-of-type {\n",
       "        vertical-align: middle;\n",
       "    }\n",
       "\n",
       "    .dataframe tbody tr th {\n",
       "        vertical-align: top;\n",
       "    }\n",
       "\n",
       "    .dataframe thead th {\n",
       "        text-align: right;\n",
       "    }\n",
       "</style>\n",
       "<table border=\"1\" class=\"dataframe\">\n",
       "  <thead>\n",
       "    <tr style=\"text-align: right;\">\n",
       "      <th></th>\n",
       "      <th>customerID</th>\n",
       "      <th>MultipleLines</th>\n",
       "    </tr>\n",
       "  </thead>\n",
       "  <tbody>\n",
       "    <tr>\n",
       "      <td>0</td>\n",
       "      <td>5575-GNVDE</td>\n",
       "      <td>No</td>\n",
       "    </tr>\n",
       "    <tr>\n",
       "      <td>1</td>\n",
       "      <td>3668-QPYBK</td>\n",
       "      <td>No</td>\n",
       "    </tr>\n",
       "    <tr>\n",
       "      <td>2</td>\n",
       "      <td>9237-HQITU</td>\n",
       "      <td>No</td>\n",
       "    </tr>\n",
       "  </tbody>\n",
       "</table>\n",
       "</div>"
      ],
      "text/plain": [
       "   customerID MultipleLines\n",
       "0  5575-GNVDE            No\n",
       "1  3668-QPYBK            No\n",
       "2  9237-HQITU            No"
      ]
     },
     "execution_count": 35,
     "metadata": {},
     "output_type": "execute_result"
    }
   ],
   "source": [
    "data_phone.head(3)"
   ]
  },
  {
   "cell_type": "code",
   "execution_count": 36,
   "metadata": {},
   "outputs": [
    {
     "name": "stdout",
     "output_type": "stream",
     "text": [
      "<class 'pandas.core.frame.DataFrame'>\n",
      "RangeIndex: 6361 entries, 0 to 6360\n",
      "Data columns (total 2 columns):\n",
      "customerID       6361 non-null object\n",
      "MultipleLines    6361 non-null object\n",
      "dtypes: object(2)\n",
      "memory usage: 99.5+ KB\n"
     ]
    },
    {
     "data": {
      "text/plain": [
       "((6361, 2), None)"
      ]
     },
     "execution_count": 36,
     "metadata": {},
     "output_type": "execute_result"
    }
   ],
   "source": [
    "data_phone.shape, data_phone.info()"
   ]
  },
  {
   "cell_type": "code",
   "execution_count": 37,
   "metadata": {},
   "outputs": [
    {
     "data": {
      "text/plain": [
       "No     3390\n",
       "Yes    2971\n",
       "Name: MultipleLines, dtype: int64"
      ]
     },
     "execution_count": 37,
     "metadata": {},
     "output_type": "execute_result"
    }
   ],
   "source": [
    "data_phone.MultipleLines.value_counts()"
   ]
  },
  {
   "cell_type": "markdown",
   "metadata": {},
   "source": [
    "Пропусков в данных нет. \n",
    "- Следует преобразовать признак в числовой вариант\n"
   ]
  },
  {
   "cell_type": "markdown",
   "metadata": {},
   "source": [
    "___"
   ]
  },
  {
   "cell_type": "code",
   "execution_count": 38,
   "metadata": {},
   "outputs": [],
   "source": [
    "data_analist = data_contract.merge(data_personal, on='customerID', how='left')\n",
    "data_analist = data_analist.merge(data_internet, on='customerID', how='left')\n",
    "data_analist = data_analist.merge(data_phone, on='customerID', how='left')"
   ]
  },
  {
   "cell_type": "code",
   "execution_count": 39,
   "metadata": {},
   "outputs": [],
   "source": [
    "data_analist.loc[data_analist['EndDate'] == 'No', 'EndDate'] = '2020-02-01'\n",
    "data_analist['BeginDate'] = pd.to_datetime(data_analist['BeginDate'],format='%Y.%m.%d')\n",
    "data_analist['EndDate'] = pd.to_datetime(data_analist['EndDate'],format='%Y.%m.%d')\n",
    "#Преобразовал даты\n",
    "data_analist['month_use'] = (pd.DatetimeIndex(\n",
    "    data_analist['EndDate']).year - pd.DatetimeIndex(data_analist['BeginDate']).year) * 12 + pd.DatetimeIndex(\n",
    "    data_analist['EndDate']).month - pd.DatetimeIndex(data_analist['BeginDate']).month\n",
    "#Время использования\n",
    "data_analist.loc[data_analist['EndDate'] != '2020-02-01', 'outflow'] = 1\n",
    "data_analist.loc[data_analist['EndDate'] == '2020-02-01', 'outflow'] = 0\n",
    "data_analist['outflow'] = data_analist['outflow'].astype('int')"
   ]
  },
  {
   "cell_type": "markdown",
   "metadata": {},
   "source": [
    "data_analist сделал для анализа данных ниже"
   ]
  },
  {
   "cell_type": "markdown",
   "metadata": {},
   "source": [
    "___\n",
    "<a name=\"Шаг_2\"></a>\n",
    "### Предобработка данных."
   ]
  },
  {
   "cell_type": "markdown",
   "metadata": {},
   "source": [
    "___\n",
    "##### data_contract\n",
    "___"
   ]
  },
  {
   "cell_type": "code",
   "execution_count": 40,
   "metadata": {},
   "outputs": [],
   "source": [
    "data_contract.loc[data_contract['EndDate'] == 'No', 'EndDate'] = '2020-02-01'"
   ]
  },
  {
   "cell_type": "code",
   "execution_count": 41,
   "metadata": {},
   "outputs": [
    {
     "data": {
      "text/plain": [
       "customerID          11\n",
       "BeginDate           11\n",
       "EndDate             11\n",
       "Type                11\n",
       "PaperlessBilling    11\n",
       "PaymentMethod       11\n",
       "MonthlyCharges      11\n",
       "TotalCharges        11\n",
       "dtype: int64"
      ]
     },
     "execution_count": 41,
     "metadata": {},
     "output_type": "execute_result"
    }
   ],
   "source": [
    "data_contract.loc[data_contract['TotalCharges'] == ' '].count()"
   ]
  },
  {
   "cell_type": "code",
   "execution_count": 42,
   "metadata": {},
   "outputs": [],
   "source": [
    "data_contract['BeginDate'] = pd.to_datetime(data_contract['BeginDate'],format='%Y.%m.%d')\n",
    "data_contract['EndDate'] = pd.to_datetime(data_contract['EndDate'],format='%Y.%m.%d')\n",
    "#Преобразовал даты\n",
    "data_contract['month_use'] = (pd.DatetimeIndex(\n",
    "    data_contract['EndDate']).year - pd.DatetimeIndex(data_contract['BeginDate']).year) * 12 + pd.DatetimeIndex(\n",
    "    data_contract['EndDate']).month - pd.DatetimeIndex(data_contract['BeginDate']).month\n",
    "#Время использования\n",
    "data_contract.loc[data_contract['EndDate'] != '2020-02-01', 'outflow'] = 1\n",
    "data_contract.loc[data_contract['EndDate'] == '2020-02-01', 'outflow'] = 0\n",
    "data_contract['outflow'] = data_contract['outflow'].astype('int')\n",
    "#Признак\n",
    "data_contract.loc[data_contract['Type'] == 'Month-to-month', 'Type'] = 0\n",
    "data_contract.loc[data_contract['Type'] == 'Two year', 'Type'] = 1\n",
    "data_contract.loc[data_contract['Type'] == 'One year', 'Type'] = -1\n",
    "data_contract.loc[data_contract['PaperlessBilling'] == 'Yes', 'PaperlessBilling'] = 1\n",
    "data_contract.loc[data_contract['PaperlessBilling'] == 'No', 'PaperlessBilling'] = 0\n",
    "data_contract.loc[data_contract['PaymentMethod'] == 'Electronic check', 'PaymentMethod'] = 2\n",
    "data_contract.loc[data_contract['PaymentMethod'] == 'Mailed check', 'PaymentMethod'] = 0\n",
    "data_contract.loc[data_contract['PaymentMethod'] == 'Bank transfer (automatic)', 'PaymentMethod'] = 1\n",
    "data_contract.loc[data_contract['PaymentMethod'] == 'Credit card (automatic)', 'PaymentMethod'] = -1\n",
    "#Замена на цивровые значения\n",
    "data_contract.loc[data_contract['TotalCharges'] == ' ', 'TotalCharges'] = 0\n",
    "data_contract['TotalCharges']  = data_contract['TotalCharges'].astype('float')\n",
    "#Преобразование типа\n",
    "data_contract = data_contract.drop(['BeginDate', 'EndDate'], axis = 1)\n",
    "#Удалил временные признаки"
   ]
  },
  {
   "cell_type": "code",
   "execution_count": 43,
   "metadata": {},
   "outputs": [
    {
     "data": {
      "text/html": [
       "<div>\n",
       "<style scoped>\n",
       "    .dataframe tbody tr th:only-of-type {\n",
       "        vertical-align: middle;\n",
       "    }\n",
       "\n",
       "    .dataframe tbody tr th {\n",
       "        vertical-align: top;\n",
       "    }\n",
       "\n",
       "    .dataframe thead th {\n",
       "        text-align: right;\n",
       "    }\n",
       "</style>\n",
       "<table border=\"1\" class=\"dataframe\">\n",
       "  <thead>\n",
       "    <tr style=\"text-align: right;\">\n",
       "      <th></th>\n",
       "      <th>customerID</th>\n",
       "      <th>Type</th>\n",
       "      <th>PaperlessBilling</th>\n",
       "      <th>PaymentMethod</th>\n",
       "      <th>MonthlyCharges</th>\n",
       "      <th>TotalCharges</th>\n",
       "      <th>month_use</th>\n",
       "      <th>outflow</th>\n",
       "    </tr>\n",
       "  </thead>\n",
       "  <tbody>\n",
       "    <tr>\n",
       "      <td>488</td>\n",
       "      <td>4472-LVYGI</td>\n",
       "      <td>1</td>\n",
       "      <td>1</td>\n",
       "      <td>1</td>\n",
       "      <td>52.55</td>\n",
       "      <td>0.0</td>\n",
       "      <td>0</td>\n",
       "      <td>0</td>\n",
       "    </tr>\n",
       "    <tr>\n",
       "      <td>753</td>\n",
       "      <td>3115-CZMZD</td>\n",
       "      <td>1</td>\n",
       "      <td>0</td>\n",
       "      <td>0</td>\n",
       "      <td>20.25</td>\n",
       "      <td>0.0</td>\n",
       "      <td>0</td>\n",
       "      <td>0</td>\n",
       "    </tr>\n",
       "    <tr>\n",
       "      <td>936</td>\n",
       "      <td>5709-LVOEQ</td>\n",
       "      <td>1</td>\n",
       "      <td>0</td>\n",
       "      <td>0</td>\n",
       "      <td>80.85</td>\n",
       "      <td>0.0</td>\n",
       "      <td>0</td>\n",
       "      <td>0</td>\n",
       "    </tr>\n",
       "    <tr>\n",
       "      <td>1082</td>\n",
       "      <td>4367-NUYAO</td>\n",
       "      <td>1</td>\n",
       "      <td>0</td>\n",
       "      <td>0</td>\n",
       "      <td>25.75</td>\n",
       "      <td>0.0</td>\n",
       "      <td>0</td>\n",
       "      <td>0</td>\n",
       "    </tr>\n",
       "    <tr>\n",
       "      <td>1340</td>\n",
       "      <td>1371-DWPAZ</td>\n",
       "      <td>1</td>\n",
       "      <td>0</td>\n",
       "      <td>-1</td>\n",
       "      <td>56.05</td>\n",
       "      <td>0.0</td>\n",
       "      <td>0</td>\n",
       "      <td>0</td>\n",
       "    </tr>\n",
       "    <tr>\n",
       "      <td>3331</td>\n",
       "      <td>7644-OMVMY</td>\n",
       "      <td>1</td>\n",
       "      <td>0</td>\n",
       "      <td>0</td>\n",
       "      <td>19.85</td>\n",
       "      <td>0.0</td>\n",
       "      <td>0</td>\n",
       "      <td>0</td>\n",
       "    </tr>\n",
       "    <tr>\n",
       "      <td>3826</td>\n",
       "      <td>3213-VVOLG</td>\n",
       "      <td>1</td>\n",
       "      <td>0</td>\n",
       "      <td>0</td>\n",
       "      <td>25.35</td>\n",
       "      <td>0.0</td>\n",
       "      <td>0</td>\n",
       "      <td>0</td>\n",
       "    </tr>\n",
       "    <tr>\n",
       "      <td>4380</td>\n",
       "      <td>2520-SGTTA</td>\n",
       "      <td>1</td>\n",
       "      <td>0</td>\n",
       "      <td>0</td>\n",
       "      <td>20.00</td>\n",
       "      <td>0.0</td>\n",
       "      <td>0</td>\n",
       "      <td>0</td>\n",
       "    </tr>\n",
       "    <tr>\n",
       "      <td>5218</td>\n",
       "      <td>2923-ARZLG</td>\n",
       "      <td>-1</td>\n",
       "      <td>1</td>\n",
       "      <td>0</td>\n",
       "      <td>19.70</td>\n",
       "      <td>0.0</td>\n",
       "      <td>0</td>\n",
       "      <td>0</td>\n",
       "    </tr>\n",
       "    <tr>\n",
       "      <td>6670</td>\n",
       "      <td>4075-WKNIU</td>\n",
       "      <td>1</td>\n",
       "      <td>0</td>\n",
       "      <td>0</td>\n",
       "      <td>73.35</td>\n",
       "      <td>0.0</td>\n",
       "      <td>0</td>\n",
       "      <td>0</td>\n",
       "    </tr>\n",
       "    <tr>\n",
       "      <td>6754</td>\n",
       "      <td>2775-SEFEE</td>\n",
       "      <td>1</td>\n",
       "      <td>1</td>\n",
       "      <td>1</td>\n",
       "      <td>61.90</td>\n",
       "      <td>0.0</td>\n",
       "      <td>0</td>\n",
       "      <td>0</td>\n",
       "    </tr>\n",
       "  </tbody>\n",
       "</table>\n",
       "</div>"
      ],
      "text/plain": [
       "      customerID  Type  PaperlessBilling  PaymentMethod  MonthlyCharges  \\\n",
       "488   4472-LVYGI     1                 1              1           52.55   \n",
       "753   3115-CZMZD     1                 0              0           20.25   \n",
       "936   5709-LVOEQ     1                 0              0           80.85   \n",
       "1082  4367-NUYAO     1                 0              0           25.75   \n",
       "1340  1371-DWPAZ     1                 0             -1           56.05   \n",
       "3331  7644-OMVMY     1                 0              0           19.85   \n",
       "3826  3213-VVOLG     1                 0              0           25.35   \n",
       "4380  2520-SGTTA     1                 0              0           20.00   \n",
       "5218  2923-ARZLG    -1                 1              0           19.70   \n",
       "6670  4075-WKNIU     1                 0              0           73.35   \n",
       "6754  2775-SEFEE     1                 1              1           61.90   \n",
       "\n",
       "      TotalCharges  month_use  outflow  \n",
       "488            0.0          0        0  \n",
       "753            0.0          0        0  \n",
       "936            0.0          0        0  \n",
       "1082           0.0          0        0  \n",
       "1340           0.0          0        0  \n",
       "3331           0.0          0        0  \n",
       "3826           0.0          0        0  \n",
       "4380           0.0          0        0  \n",
       "5218           0.0          0        0  \n",
       "6670           0.0          0        0  \n",
       "6754           0.0          0        0  "
      ]
     },
     "execution_count": 43,
     "metadata": {},
     "output_type": "execute_result"
    }
   ],
   "source": [
    "data_contract.loc[data_contract['TotalCharges'] == 0]"
   ]
  },
  {
   "cell_type": "markdown",
   "metadata": {},
   "source": [
    "<a name=\"Ответ_3\"></a> "
   ]
  },
  {
   "cell_type": "markdown",
   "metadata": {},
   "source": [
    "тобы не переделывать весь блок вывел отдельно.... (приравнивая к 0(уже готовому) суммы совпали -11-)\n",
    "    \n",
    "При первоначальном преобразование значения \" \", я приравнял его к месячной оплате (MonthlyCharges). Но пришел к выводу, что на этом моменте времени (выгрузка данных) компания поставщик услуг, средств от клиента не получила (реального дохода нет), поэтому поставил 0. Есть шанс, что клиент так и не заплатит. А вообще при размере всей выборки 7043, 11 показателей одного признака это 0,16 %. Можно было удалить, но посчитал логичнее заменить\n"
   ]
  },
  {
   "cell_type": "markdown",
   "metadata": {},
   "source": [
    "###### Отчет\n",
    "- Преобразовал даты (произведено)\n",
    "- Время использования (произведено) month_use\n",
    "- Признак выделил (произведено)\n",
    "- Замена на цифровые значения (произведено) (-1, 0, 1). В PaymentMethod 2 стоит на наибольшем количестве.\n",
    "- Преобразование типа (произведено) Пустые значения (пробелы) в TotalCharges, заменил на 0\n",
    "- Удалил временнЫе признаки (произведено)"
   ]
  },
  {
   "cell_type": "markdown",
   "metadata": {},
   "source": [
    "___\n",
    "##### data_personal\n",
    "___"
   ]
  },
  {
   "cell_type": "code",
   "execution_count": 44,
   "metadata": {},
   "outputs": [],
   "source": [
    "data_personal.loc[data_personal['gender'] == 'Female', 'gender'] = 0\n",
    "data_personal.loc[data_personal['gender'] == 'Male', 'gender'] = 1\n",
    "data_personal.loc[data_personal['Partner'] == 'No', 'Partner'] = 0\n",
    "data_personal.loc[data_personal['Partner'] == 'Yes', 'Partner'] = 1\n",
    "data_personal.loc[data_personal['Dependents'] == 'No', 'Dependents'] = 0\n",
    "data_personal.loc[data_personal['Dependents'] == 'Yes', 'Dependents'] = 1"
   ]
  },
  {
   "cell_type": "markdown",
   "metadata": {},
   "source": [
    "###### Отчет\n",
    "- Признаки преобразованы 1(True) 0 (False)"
   ]
  },
  {
   "cell_type": "markdown",
   "metadata": {},
   "source": [
    "___\n",
    "##### data_internet\n",
    "___"
   ]
  },
  {
   "cell_type": "code",
   "execution_count": 45,
   "metadata": {},
   "outputs": [],
   "source": [
    "data_internet.loc[data_internet['InternetService'] == 'Fiber optic', 'InternetService'] = -1\n",
    "data_internet.loc[data_internet['InternetService'] == 'DSL', 'InternetService'] = 1\n",
    "data_internet.loc[data_internet['OnlineSecurity'] == 'No', 'OnlineSecurity'] = 0\n",
    "data_internet.loc[data_internet['OnlineSecurity'] == 'Yes', 'OnlineSecurity'] = 1\n",
    "data_internet.loc[data_internet['OnlineBackup'] == 'No', 'OnlineBackup'] = 0\n",
    "data_internet.loc[data_internet['OnlineBackup'] == 'Yes', 'OnlineBackup'] = 1\n",
    "data_internet.loc[data_internet['DeviceProtection'] == 'No', 'DeviceProtection'] = 0\n",
    "data_internet.loc[data_internet['DeviceProtection'] == 'Yes', 'DeviceProtection'] = 1\n",
    "data_internet.loc[data_internet['TechSupport'] == 'No', 'TechSupport'] = 0\n",
    "data_internet.loc[data_internet['TechSupport'] == 'Yes', 'TechSupport'] = 1\n",
    "data_internet.loc[data_internet['StreamingTV'] == 'No', 'StreamingTV'] = 0\n",
    "data_internet.loc[data_internet['StreamingTV'] == 'Yes', 'StreamingTV'] = 1\n",
    "data_internet.loc[data_internet['StreamingMovies'] == 'No', 'StreamingMovies'] = 0\n",
    "data_internet.loc[data_internet['StreamingMovies'] == 'Yes', 'StreamingMovies'] = 1"
   ]
  },
  {
   "cell_type": "markdown",
   "metadata": {},
   "source": [
    "###### Отчет\n",
    "- Признаки преобразованы 1(DSL) 0 (Fiber optic)\n",
    "- Признаки преобразованы 1(True) 0 (False)"
   ]
  },
  {
   "cell_type": "markdown",
   "metadata": {},
   "source": [
    "___\n",
    "##### data_phone\n",
    "___"
   ]
  },
  {
   "cell_type": "code",
   "execution_count": 46,
   "metadata": {},
   "outputs": [],
   "source": [
    "data_phone.loc[data_phone['MultipleLines'] == 'No', 'MultipleLines'] = 0\n",
    "data_phone.loc[data_phone['MultipleLines'] == 'Yes', 'MultipleLines'] = 1"
   ]
  },
  {
   "cell_type": "markdown",
   "metadata": {},
   "source": [
    "###### Отчет\n",
    "- Признаки преобразованы 1(True) 0 (False)"
   ]
  },
  {
   "cell_type": "code",
   "execution_count": 47,
   "metadata": {},
   "outputs": [],
   "source": [
    "data = data_contract.merge(data_personal, on='customerID', how='left')\n",
    "data = data.merge(data_internet, on='customerID', how='left')\n",
    "data = data.merge(data_phone, on='customerID', how='left')"
   ]
  },
  {
   "cell_type": "markdown",
   "metadata": {},
   "source": [
    "Есть пустые значения в столбцах\n",
    "- InternetService     \n",
    "- OnlineSecurity      \n",
    "- OnlineBackup       \n",
    "- DeviceProtection  \n",
    "- TechSupport        \n",
    "- StreamingTV         \n",
    "- StreamingMovies     \n",
    "- MultipleLines     \n",
    "Обусловлено это, отсутствием предполагаемой улуги. Меняю на \"0\""
   ]
  },
  {
   "cell_type": "code",
   "execution_count": 48,
   "metadata": {},
   "outputs": [],
   "source": [
    "data.InternetService = data.InternetService.fillna(0)\n",
    "data.OnlineSecurity = data.OnlineSecurity.fillna(0)\n",
    "data.OnlineBackup = data.OnlineBackup.fillna(0)\n",
    "data.DeviceProtection = data.DeviceProtection.fillna(0)\n",
    "data.TechSupport = data.TechSupport.fillna(0)\n",
    "data.StreamingTV = data.StreamingTV.fillna(0)\n",
    "data.StreamingMovies = data.StreamingMovies.fillna(0)\n",
    "data.MultipleLines = data.MultipleLines.fillna(0)"
   ]
  },
  {
   "cell_type": "code",
   "execution_count": 49,
   "metadata": {},
   "outputs": [
    {
     "data": {
      "text/plain": [
       "0    5174\n",
       "1    1869\n",
       "Name: outflow, dtype: int64"
      ]
     },
     "execution_count": 49,
     "metadata": {},
     "output_type": "execute_result"
    }
   ],
   "source": [
    "data.outflow.value_counts()"
   ]
  },
  {
   "cell_type": "markdown",
   "metadata": {},
   "source": [
    "Очевидно, что 27 % это те, кто ушел. Следовательно стоит увеличить тренировочный dataset путем добаления значений \"1\""
   ]
  },
  {
   "cell_type": "markdown",
   "metadata": {},
   "source": [
    "___\n",
    "### Анализ данных\n",
    "___"
   ]
  },
  {
   "cell_type": "code",
   "execution_count": 50,
   "metadata": {},
   "outputs": [],
   "source": [
    "data_analist = data_analist.drop(['BeginDate', 'EndDate'], axis = 1)"
   ]
  },
  {
   "cell_type": "code",
   "execution_count": 51,
   "metadata": {},
   "outputs": [],
   "source": [
    "data_analist.InternetService = data_analist.InternetService.fillna('No')\n",
    "data_analist.OnlineSecurity = data_analist.OnlineSecurity.fillna('No')\n",
    "data_analist.OnlineBackup = data_analist.OnlineBackup.fillna('No')\n",
    "data_analist.DeviceProtection = data_analist.DeviceProtection.fillna('No')\n",
    "data_analist.TechSupport = data_analist.TechSupport.fillna('No')\n",
    "data_analist.StreamingTV = data_analist.StreamingTV.fillna('No')\n",
    "data_analist.StreamingMovies = data_analist.StreamingMovies.fillna('No')\n",
    "data_analist.MultipleLines = data_analist.MultipleLines.fillna('No')\n",
    "data_analist.loc[data_analist['outflow'] == 1, 'outflow'] = 'потерянный'\n",
    "data_analist.loc[data_analist['outflow'] == 0, 'outflow'] = 'оставшийся'\n",
    "data_analist.loc[data_analist['TotalCharges'] == ' ', 'TotalCharges'] = 0"
   ]
  },
  {
   "cell_type": "code",
   "execution_count": 52,
   "metadata": {},
   "outputs": [
    {
     "data": {
      "text/html": [
       "<div>\n",
       "<style scoped>\n",
       "    .dataframe tbody tr th:only-of-type {\n",
       "        vertical-align: middle;\n",
       "    }\n",
       "\n",
       "    .dataframe tbody tr th {\n",
       "        vertical-align: top;\n",
       "    }\n",
       "\n",
       "    .dataframe thead th {\n",
       "        text-align: right;\n",
       "    }\n",
       "</style>\n",
       "<table border=\"1\" class=\"dataframe\">\n",
       "  <thead>\n",
       "    <tr style=\"text-align: right;\">\n",
       "      <th></th>\n",
       "      <th>customerID</th>\n",
       "      <th>Type</th>\n",
       "      <th>PaperlessBilling</th>\n",
       "      <th>PaymentMethod</th>\n",
       "      <th>MonthlyCharges</th>\n",
       "      <th>TotalCharges</th>\n",
       "      <th>gender</th>\n",
       "      <th>SeniorCitizen</th>\n",
       "      <th>Partner</th>\n",
       "      <th>Dependents</th>\n",
       "      <th>InternetService</th>\n",
       "      <th>OnlineSecurity</th>\n",
       "      <th>OnlineBackup</th>\n",
       "      <th>DeviceProtection</th>\n",
       "      <th>TechSupport</th>\n",
       "      <th>StreamingTV</th>\n",
       "      <th>StreamingMovies</th>\n",
       "      <th>MultipleLines</th>\n",
       "      <th>month_use</th>\n",
       "      <th>outflow</th>\n",
       "    </tr>\n",
       "  </thead>\n",
       "  <tbody>\n",
       "    <tr>\n",
       "      <td>0</td>\n",
       "      <td>7590-VHVEG</td>\n",
       "      <td>Month-to-month</td>\n",
       "      <td>Yes</td>\n",
       "      <td>Electronic check</td>\n",
       "      <td>29.85</td>\n",
       "      <td>29.85</td>\n",
       "      <td>Female</td>\n",
       "      <td>0</td>\n",
       "      <td>Yes</td>\n",
       "      <td>No</td>\n",
       "      <td>DSL</td>\n",
       "      <td>No</td>\n",
       "      <td>Yes</td>\n",
       "      <td>No</td>\n",
       "      <td>No</td>\n",
       "      <td>No</td>\n",
       "      <td>No</td>\n",
       "      <td>No</td>\n",
       "      <td>1</td>\n",
       "      <td>оставшийся</td>\n",
       "    </tr>\n",
       "    <tr>\n",
       "      <td>1</td>\n",
       "      <td>5575-GNVDE</td>\n",
       "      <td>One year</td>\n",
       "      <td>No</td>\n",
       "      <td>Mailed check</td>\n",
       "      <td>56.95</td>\n",
       "      <td>1889.5</td>\n",
       "      <td>Male</td>\n",
       "      <td>0</td>\n",
       "      <td>No</td>\n",
       "      <td>No</td>\n",
       "      <td>DSL</td>\n",
       "      <td>Yes</td>\n",
       "      <td>No</td>\n",
       "      <td>Yes</td>\n",
       "      <td>No</td>\n",
       "      <td>No</td>\n",
       "      <td>No</td>\n",
       "      <td>No</td>\n",
       "      <td>34</td>\n",
       "      <td>оставшийся</td>\n",
       "    </tr>\n",
       "    <tr>\n",
       "      <td>2</td>\n",
       "      <td>3668-QPYBK</td>\n",
       "      <td>Month-to-month</td>\n",
       "      <td>Yes</td>\n",
       "      <td>Mailed check</td>\n",
       "      <td>53.85</td>\n",
       "      <td>108.15</td>\n",
       "      <td>Male</td>\n",
       "      <td>0</td>\n",
       "      <td>No</td>\n",
       "      <td>No</td>\n",
       "      <td>DSL</td>\n",
       "      <td>Yes</td>\n",
       "      <td>Yes</td>\n",
       "      <td>No</td>\n",
       "      <td>No</td>\n",
       "      <td>No</td>\n",
       "      <td>No</td>\n",
       "      <td>No</td>\n",
       "      <td>2</td>\n",
       "      <td>потерянный</td>\n",
       "    </tr>\n",
       "  </tbody>\n",
       "</table>\n",
       "</div>"
      ],
      "text/plain": [
       "   customerID            Type PaperlessBilling     PaymentMethod  \\\n",
       "0  7590-VHVEG  Month-to-month              Yes  Electronic check   \n",
       "1  5575-GNVDE        One year               No      Mailed check   \n",
       "2  3668-QPYBK  Month-to-month              Yes      Mailed check   \n",
       "\n",
       "   MonthlyCharges TotalCharges  gender  SeniorCitizen Partner Dependents  \\\n",
       "0           29.85        29.85  Female              0     Yes         No   \n",
       "1           56.95       1889.5    Male              0      No         No   \n",
       "2           53.85       108.15    Male              0      No         No   \n",
       "\n",
       "  InternetService OnlineSecurity OnlineBackup DeviceProtection TechSupport  \\\n",
       "0             DSL             No          Yes               No          No   \n",
       "1             DSL            Yes           No              Yes          No   \n",
       "2             DSL            Yes          Yes               No          No   \n",
       "\n",
       "  StreamingTV StreamingMovies MultipleLines  month_use     outflow  \n",
       "0          No              No            No          1  оставшийся  \n",
       "1          No              No            No         34  оставшийся  \n",
       "2          No              No            No          2  потерянный  "
      ]
     },
     "execution_count": 52,
     "metadata": {},
     "output_type": "execute_result"
    }
   ],
   "source": [
    "data_analist.head(3)"
   ]
  },
  {
   "cell_type": "markdown",
   "metadata": {},
   "source": [
    "<a name=\"Ответ_4\"></a> "
   ]
  },
  {
   "cell_type": "markdown",
   "metadata": {},
   "source": [
    "<a name=\"Ответ_5\"></a> "
   ]
  },
  {
   "cell_type": "code",
   "execution_count": 55,
   "metadata": {},
   "outputs": [
    {
     "data": {
      "text/html": [
       "<div>\n",
       "<style scoped>\n",
       "    .dataframe tbody tr th:only-of-type {\n",
       "        vertical-align: middle;\n",
       "    }\n",
       "\n",
       "    .dataframe tbody tr th {\n",
       "        vertical-align: top;\n",
       "    }\n",
       "\n",
       "    .dataframe thead th {\n",
       "        text-align: right;\n",
       "    }\n",
       "</style>\n",
       "<table border=\"1\" class=\"dataframe\">\n",
       "  <thead>\n",
       "    <tr style=\"text-align: right;\">\n",
       "      <th></th>\n",
       "      <th>customerID</th>\n",
       "      <th>Type</th>\n",
       "      <th>PaperlessBilling</th>\n",
       "      <th>PaymentMethod</th>\n",
       "      <th>MonthlyCharges</th>\n",
       "      <th>TotalCharges</th>\n",
       "      <th>gender</th>\n",
       "      <th>SeniorCitizen</th>\n",
       "      <th>Partner</th>\n",
       "      <th>Dependents</th>\n",
       "      <th>InternetService</th>\n",
       "      <th>OnlineSecurity</th>\n",
       "      <th>OnlineBackup</th>\n",
       "      <th>DeviceProtection</th>\n",
       "      <th>TechSupport</th>\n",
       "      <th>StreamingTV</th>\n",
       "      <th>StreamingMovies</th>\n",
       "      <th>MultipleLines</th>\n",
       "      <th>month_use</th>\n",
       "      <th>outflow</th>\n",
       "    </tr>\n",
       "  </thead>\n",
       "  <tbody>\n",
       "    <tr>\n",
       "      <td>0</td>\n",
       "      <td>7590-VHVEG</td>\n",
       "      <td>Month-to-month</td>\n",
       "      <td>Yes</td>\n",
       "      <td>Electronic check</td>\n",
       "      <td>29.85</td>\n",
       "      <td>29.85</td>\n",
       "      <td>Female</td>\n",
       "      <td>0</td>\n",
       "      <td>Yes</td>\n",
       "      <td>No</td>\n",
       "      <td>DSL</td>\n",
       "      <td>No</td>\n",
       "      <td>Yes</td>\n",
       "      <td>No</td>\n",
       "      <td>No</td>\n",
       "      <td>No</td>\n",
       "      <td>No</td>\n",
       "      <td>No</td>\n",
       "      <td>1</td>\n",
       "      <td>оставшийся</td>\n",
       "    </tr>\n",
       "    <tr>\n",
       "      <td>1</td>\n",
       "      <td>5575-GNVDE</td>\n",
       "      <td>One year</td>\n",
       "      <td>No</td>\n",
       "      <td>Mailed check</td>\n",
       "      <td>56.95</td>\n",
       "      <td>1889.5</td>\n",
       "      <td>Male</td>\n",
       "      <td>0</td>\n",
       "      <td>No</td>\n",
       "      <td>No</td>\n",
       "      <td>DSL</td>\n",
       "      <td>Yes</td>\n",
       "      <td>No</td>\n",
       "      <td>Yes</td>\n",
       "      <td>No</td>\n",
       "      <td>No</td>\n",
       "      <td>No</td>\n",
       "      <td>No</td>\n",
       "      <td>34</td>\n",
       "      <td>оставшийся</td>\n",
       "    </tr>\n",
       "  </tbody>\n",
       "</table>\n",
       "</div>"
      ],
      "text/plain": [
       "   customerID            Type PaperlessBilling     PaymentMethod  \\\n",
       "0  7590-VHVEG  Month-to-month              Yes  Electronic check   \n",
       "1  5575-GNVDE        One year               No      Mailed check   \n",
       "\n",
       "   MonthlyCharges TotalCharges  gender  SeniorCitizen Partner Dependents  \\\n",
       "0           29.85        29.85  Female              0     Yes         No   \n",
       "1           56.95       1889.5    Male              0      No         No   \n",
       "\n",
       "  InternetService OnlineSecurity OnlineBackup DeviceProtection TechSupport  \\\n",
       "0             DSL             No          Yes               No          No   \n",
       "1             DSL            Yes           No              Yes          No   \n",
       "\n",
       "  StreamingTV StreamingMovies MultipleLines  month_use     outflow  \n",
       "0          No              No            No          1  оставшийся  \n",
       "1          No              No            No         34  оставшийся  "
      ]
     },
     "execution_count": 55,
     "metadata": {},
     "output_type": "execute_result"
    }
   ],
   "source": [
    "data_analist.head(2)"
   ]
  },
  {
   "cell_type": "markdown",
   "metadata": {},
   "source": [
    "##### Type (Тип контракта)"
   ]
  },
  {
   "cell_type": "code",
   "execution_count": 56,
   "metadata": {},
   "outputs": [
    {
     "data": {
      "text/plain": [
       "<matplotlib.axes._subplots.AxesSubplot at 0x7f74172eb290>"
      ]
     },
     "execution_count": 56,
     "metadata": {},
     "output_type": "execute_result"
    },
    {
     "data": {
      "image/png": "[encoded data removed]",
      "text/plain": [
       "<Figure size 720x504 with 1 Axes>"
      ]
     },
     "metadata": {
      "needs_background": "light"
     },
     "output_type": "display_data"
    }
   ],
   "source": [
    "(\n",
    "    data_analist\n",
    "    .pivot_table(index = ['Type'], columns='outflow',  values = 'customerID', aggfunc = 'count')\n",
    "    .plot\n",
    "    .bar(figsize =(10, 7), grid = True, title = 'Уход клиента в зависимости от типа контракта')\n",
    ")"
   ]
  },
  {
   "cell_type": "markdown",
   "metadata": {},
   "source": [
    "Очевидно, что клиенты с заключенными контрактами на год и более, меньше перестают пользоваться услугами, прописанными в этом контракте. Соостветственно пользователи, с ежемесячной оплатой больше подвержены активным действия\n"
   ]
  },
  {
   "cell_type": "markdown",
   "metadata": {},
   "source": [
    "##### \tPaperlessBilling (биллинг)"
   ]
  },
  {
   "cell_type": "code",
   "execution_count": 57,
   "metadata": {},
   "outputs": [
    {
     "data": {
      "text/plain": [
       "<matplotlib.axes._subplots.AxesSubplot at 0x7f7416ba4550>"
      ]
     },
     "execution_count": 57,
     "metadata": {},
     "output_type": "execute_result"
    },
    {
     "data": {
      "image/png": "[encoded data removed]",
      "text/plain": [
       "<Figure size 504x792 with 1 Axes>"
      ]
     },
     "metadata": {
      "needs_background": "light"
     },
     "output_type": "display_data"
    }
   ],
   "source": [
    "(\n",
    "    data_analist\n",
    "    .pivot_table(index = ['PaperlessBilling'], columns=['outflow'],  values = 'customerID', aggfunc = 'count')\n",
    "    .plot\n",
    "    .bar(figsize =(7, 11), grid = True, title = 'Уход клиента в зависимости от наличия биллинга')\n",
    ")\n"
   ]
  },
  {
   "cell_type": "markdown",
   "metadata": {},
   "source": [
    "Чуть больше уходит клиентов с билингом"
   ]
  },
  {
   "cell_type": "code",
   "execution_count": 58,
   "metadata": {},
   "outputs": [
    {
     "data": {
      "text/plain": [
       "<matplotlib.axes._subplots.AxesSubplot at 0x7f7416b2d690>"
      ]
     },
     "execution_count": 58,
     "metadata": {},
     "output_type": "execute_result"
    },
    {
     "data": {
      "image/png": "[encoded data removed]",
      "text/plain": [
       "<Figure size 504x792 with 1 Axes>"
      ]
     },
     "metadata": {
      "needs_background": "light"
     },
     "output_type": "display_data"
    }
   ],
   "source": [
    "(\n",
    "    data_analist\n",
    "    .pivot_table(index = ['PaperlessBilling'], columns=['outflow', 'Type'],  values = 'customerID', aggfunc = 'count')\n",
    "    .plot\n",
    "    .bar(figsize =(7, 11), grid = True, title = 'Уход клиента в зависимости от наличия биллинга и типа контракта')\n",
    ")\n"
   ]
  },
  {
   "cell_type": "markdown",
   "metadata": {},
   "source": [
    "Основноц потерянный лиент по этому признаку имеет краткосрочный контракт. С учетом того, что основная масса ушедших клиентов имеет контракт такого типа, это логично\n"
   ]
  },
  {
   "cell_type": "markdown",
   "metadata": {},
   "source": [
    "##### PaymentMethod (способ оплаты)"
   ]
  },
  {
   "cell_type": "code",
   "execution_count": 59,
   "metadata": {},
   "outputs": [
    {
     "data": {
      "text/plain": [
       "<matplotlib.axes._subplots.AxesSubplot at 0x7f7416a3a4d0>"
      ]
     },
     "execution_count": 59,
     "metadata": {},
     "output_type": "execute_result"
    },
    {
     "data": {
      "image/png": "[encoded data removed]",
      "text/plain": [
       "<Figure size 504x792 with 1 Axes>"
      ]
     },
     "metadata": {
      "needs_background": "light"
     },
     "output_type": "display_data"
    }
   ],
   "source": [
    "(\n",
    "    data_analist\n",
    "    .pivot_table(index = ['PaymentMethod'], columns=['outflow'],  values = 'customerID', aggfunc = 'count')\n",
    "    .plot\n",
    "    .bar(figsize =(7, 11), grid = True, title = 'Уход клиента в зависимости от способа оплаты')\n",
    ")"
   ]
  },
  {
   "cell_type": "code",
   "execution_count": 60,
   "metadata": {},
   "outputs": [
    {
     "data": {
      "text/plain": [
       "<matplotlib.axes._subplots.AxesSubplot at 0x7f7416a0e150>"
      ]
     },
     "execution_count": 60,
     "metadata": {},
     "output_type": "execute_result"
    },
    {
     "data": {
      "image/png": "[encoded data removed]",
      "text/plain": [
       "<Figure size 504x792 with 1 Axes>"
      ]
     },
     "metadata": {
      "needs_background": "light"
     },
     "output_type": "display_data"
    }
   ],
   "source": [
    "(\n",
    "    data_analist\n",
    "    .pivot_table(index = ['PaymentMethod'], columns=['outflow', 'Type'],  values = 'customerID', aggfunc = 'count')\n",
    "    .plot\n",
    "    .bar(figsize =(7, 11), grid = True, title = 'Уход клиента в зависимости от способа оплаты и типа контракта')\n",
    ")"
   ]
  },
  {
   "cell_type": "markdown",
   "metadata": {},
   "source": [
    "Основной потерянный клиент по этому признаку предпочитает пользоваться оплатой \"электронный чек\". Аналогично с предыдущим признаком."
   ]
  },
  {
   "cell_type": "markdown",
   "metadata": {},
   "source": [
    "##### MonthlyCharges (абонементская плата)"
   ]
  },
  {
   "cell_type": "code",
   "execution_count": 61,
   "metadata": {},
   "outputs": [
    {
     "data": {
      "text/plain": [
       "<matplotlib.axes._subplots.AxesSubplot at 0x7f74169f7990>"
      ]
     },
     "execution_count": 61,
     "metadata": {},
     "output_type": "execute_result"
    },
    {
     "data": {
      "image/png": "[encoded data removed]",
      "text/plain": [
       "<Figure size 1224x504 with 1 Axes>"
      ]
     },
     "metadata": {
      "needs_background": "light"
     },
     "output_type": "display_data"
    }
   ],
   "source": [
    "(\n",
    "    data_analist\n",
    "    .pivot_table(index = ['MonthlyCharges'], columns=['outflow'],  values = 'customerID', aggfunc = 'count')\n",
    "    .plot( figsize =(17, 7), grid = True, title = 'Уход клиента в зависимости от абонементской платы')\n",
    "\n",
    ")"
   ]
  },
  {
   "cell_type": "code",
   "execution_count": 62,
   "metadata": {},
   "outputs": [
    {
     "data": {
      "text/plain": [
       "<matplotlib.axes._subplots.AxesSubplot at 0x7f7416b2df50>"
      ]
     },
     "execution_count": 62,
     "metadata": {},
     "output_type": "execute_result"
    },
    {
     "data": {
      "image/png": "[encoded data removed]",
      "text/plain": [
       "<Figure size 1224x504 with 1 Axes>"
      ]
     },
     "metadata": {
      "needs_background": "light"
     },
     "output_type": "display_data"
    }
   ],
   "source": [
    "(\n",
    "    data_analist\n",
    "    .query('MonthlyCharges > 65 and MonthlyCharges < 110')\n",
    "    .pivot_table(index = ['MonthlyCharges'], columns=['outflow'],  values = 'customerID', aggfunc = 'count')\n",
    "    .plot( figsize =(17, 7), grid = True, title = 'Уход клиента в зависимости от абонементской платы')\n",
    "\n",
    ")"
   ]
  },
  {
   "cell_type": "code",
   "execution_count": 63,
   "metadata": {},
   "outputs": [
    {
     "data": {
      "text/html": [
       "<div>\n",
       "<style scoped>\n",
       "    .dataframe tbody tr th:only-of-type {\n",
       "        vertical-align: middle;\n",
       "    }\n",
       "\n",
       "    .dataframe tbody tr th {\n",
       "        vertical-align: top;\n",
       "    }\n",
       "\n",
       "    .dataframe thead th {\n",
       "        text-align: right;\n",
       "    }\n",
       "</style>\n",
       "<table border=\"1\" class=\"dataframe\">\n",
       "  <thead>\n",
       "    <tr style=\"text-align: right;\">\n",
       "      <th>outflow</th>\n",
       "      <th>оставшийся</th>\n",
       "      <th>потерянный</th>\n",
       "    </tr>\n",
       "    <tr>\n",
       "      <th>MonthlyCharges</th>\n",
       "      <th></th>\n",
       "      <th></th>\n",
       "    </tr>\n",
       "  </thead>\n",
       "  <tbody>\n",
       "    <tr>\n",
       "      <td>74.40</td>\n",
       "      <td>3.0</td>\n",
       "      <td>13.0</td>\n",
       "    </tr>\n",
       "    <tr>\n",
       "      <td>74.90</td>\n",
       "      <td>3.0</td>\n",
       "      <td>9.0</td>\n",
       "    </tr>\n",
       "    <tr>\n",
       "      <td>74.95</td>\n",
       "      <td>3.0</td>\n",
       "      <td>8.0</td>\n",
       "    </tr>\n",
       "    <tr>\n",
       "      <td>70.00</td>\n",
       "      <td>1.0</td>\n",
       "      <td>7.0</td>\n",
       "    </tr>\n",
       "    <tr>\n",
       "      <td>94.40</td>\n",
       "      <td>5.0</td>\n",
       "      <td>7.0</td>\n",
       "    </tr>\n",
       "    <tr>\n",
       "      <td>70.15</td>\n",
       "      <td>7.0</td>\n",
       "      <td>7.0</td>\n",
       "    </tr>\n",
       "    <tr>\n",
       "      <td>70.30</td>\n",
       "      <td>5.0</td>\n",
       "      <td>7.0</td>\n",
       "    </tr>\n",
       "    <tr>\n",
       "      <td>85.35</td>\n",
       "      <td>3.0</td>\n",
       "      <td>7.0</td>\n",
       "    </tr>\n",
       "    <tr>\n",
       "      <td>93.85</td>\n",
       "      <td>1.0</td>\n",
       "      <td>7.0</td>\n",
       "    </tr>\n",
       "    <tr>\n",
       "      <td>84.80</td>\n",
       "      <td>11.0</td>\n",
       "      <td>6.0</td>\n",
       "    </tr>\n",
       "  </tbody>\n",
       "</table>\n",
       "</div>"
      ],
      "text/plain": [
       "outflow         оставшийся  потерянный\n",
       "MonthlyCharges                        \n",
       "74.40                  3.0        13.0\n",
       "74.90                  3.0         9.0\n",
       "74.95                  3.0         8.0\n",
       "70.00                  1.0         7.0\n",
       "94.40                  5.0         7.0\n",
       "70.15                  7.0         7.0\n",
       "70.30                  5.0         7.0\n",
       "85.35                  3.0         7.0\n",
       "93.85                  1.0         7.0\n",
       "84.80                 11.0         6.0"
      ]
     },
     "execution_count": 63,
     "metadata": {},
     "output_type": "execute_result"
    }
   ],
   "source": [
    "(\n",
    "    data_analist\n",
    "    .query('MonthlyCharges > 65 and MonthlyCharges < 110')\n",
    "    .pivot_table(index = ['MonthlyCharges'], columns=['outflow'],  values = 'customerID', aggfunc = 'count')\n",
    "    .sort_values(by = 'потерянный', ascending = False)\n",
    "    .head(10)\n",
    ")"
   ]
  },
  {
   "cell_type": "code",
   "execution_count": 64,
   "metadata": {},
   "outputs": [
    {
     "data": {
      "text/html": [
       "<div>\n",
       "<style scoped>\n",
       "    .dataframe tbody tr th:only-of-type {\n",
       "        vertical-align: middle;\n",
       "    }\n",
       "\n",
       "    .dataframe tbody tr th {\n",
       "        vertical-align: top;\n",
       "    }\n",
       "\n",
       "    .dataframe thead th {\n",
       "        text-align: right;\n",
       "    }\n",
       "</style>\n",
       "<table border=\"1\" class=\"dataframe\">\n",
       "  <thead>\n",
       "    <tr style=\"text-align: right;\">\n",
       "      <th>outflow</th>\n",
       "      <th>оставшийся</th>\n",
       "      <th>потерянный</th>\n",
       "    </tr>\n",
       "    <tr>\n",
       "      <th>Type</th>\n",
       "      <th></th>\n",
       "      <th></th>\n",
       "    </tr>\n",
       "  </thead>\n",
       "  <tbody>\n",
       "    <tr>\n",
       "      <td>Month-to-month</td>\n",
       "      <td>294</td>\n",
       "      <td>342</td>\n",
       "    </tr>\n",
       "    <tr>\n",
       "      <td>One year</td>\n",
       "      <td>128</td>\n",
       "      <td>13</td>\n",
       "    </tr>\n",
       "    <tr>\n",
       "      <td>Two year</td>\n",
       "      <td>160</td>\n",
       "      <td>5</td>\n",
       "    </tr>\n",
       "  </tbody>\n",
       "</table>\n",
       "</div>"
      ],
      "text/plain": [
       "outflow         оставшийся  потерянный\n",
       "Type                                  \n",
       "Month-to-month         294         342\n",
       "One year               128          13\n",
       "Two year               160           5"
      ]
     },
     "execution_count": 64,
     "metadata": {},
     "output_type": "execute_result"
    }
   ],
   "source": [
    "(\n",
    "    data_analist\n",
    "    .query('MonthlyCharges > 74 and MonthlyCharges < 84')\n",
    "    .pivot_table(index = ['Type'], columns=['outflow'],  values = 'customerID', aggfunc = 'count')\n",
    "    .sort_values(by = 'потерянный', ascending = False)\n",
    "    .head(10)\n",
    ")"
   ]
  },
  {
   "cell_type": "markdown",
   "metadata": {},
   "source": [
    "Основной потерянный клиент по этому признаку имеют высокую абонементскую плату, которая соответствует ежемесячной оплате."
   ]
  },
  {
   "cell_type": "markdown",
   "metadata": {},
   "source": [
    "##### TotalCharges (сумма)"
   ]
  },
  {
   "cell_type": "code",
   "execution_count": 65,
   "metadata": {},
   "outputs": [
    {
     "data": {
      "text/plain": [
       "<matplotlib.axes._subplots.AxesSubplot at 0x7f7414728e50>"
      ]
     },
     "execution_count": 65,
     "metadata": {},
     "output_type": "execute_result"
    },
    {
     "data": {
      "image/png": "[encoded data removed]",
      "text/plain": [
       "<Figure size 1224x504 with 1 Axes>"
      ]
     },
     "metadata": {
      "needs_background": "light"
     },
     "output_type": "display_data"
    }
   ],
   "source": [
    "(\n",
    "    data_analist\n",
    "    .pivot_table(index = ['TotalCharges'], columns=['outflow'],  values = 'customerID', aggfunc = 'count')\n",
    "    .plot( figsize =(17, 7), grid = True, title = 'Уход клиента в зависимости от суммарной суммы')\n",
    "\n",
    ")"
   ]
  },
  {
   "cell_type": "markdown",
   "metadata": {},
   "source": [
    "Есть несколько выбивающихся месть, но это ценовой"
   ]
  },
  {
   "cell_type": "markdown",
   "metadata": {},
   "source": [
    "##### gender (пол)"
   ]
  },
  {
   "cell_type": "code",
   "execution_count": 66,
   "metadata": {},
   "outputs": [
    {
     "data": {
      "text/plain": [
       "<matplotlib.axes._subplots.AxesSubplot at 0x7f7412eb75d0>"
      ]
     },
     "execution_count": 66,
     "metadata": {},
     "output_type": "execute_result"
    },
    {
     "data": {
      "image/png": "[encoded data removed]",
      "text/plain": [
       "<Figure size 504x792 with 1 Axes>"
      ]
     },
     "metadata": {
      "needs_background": "light"
     },
     "output_type": "display_data"
    }
   ],
   "source": [
    "(\n",
    "    data_analist\n",
    "    .pivot_table(index = ['gender'], columns=['outflow'],  values = 'customerID', aggfunc = 'count')\n",
    "    .plot\n",
    "    .bar(figsize =(7, 11), grid = True, title = 'Уход клиента в зависимости от пола')\n",
    "\n",
    ")"
   ]
  },
  {
   "cell_type": "markdown",
   "metadata": {},
   "source": [
    "От пола отток клиентов не зависит"
   ]
  },
  {
   "cell_type": "markdown",
   "metadata": {},
   "source": [
    "##### SeniorCitizen (Пожилой гражданин)"
   ]
  },
  {
   "cell_type": "code",
   "execution_count": 67,
   "metadata": {},
   "outputs": [
    {
     "data": {
      "text/plain": [
       "<matplotlib.axes._subplots.AxesSubplot at 0x7f7412dbc210>"
      ]
     },
     "execution_count": 67,
     "metadata": {},
     "output_type": "execute_result"
    },
    {
     "data": {
      "image/png": "[encoded data removed]",
      "text/plain": [
       "<Figure size 504x792 with 1 Axes>"
      ]
     },
     "metadata": {
      "needs_background": "light"
     },
     "output_type": "display_data"
    }
   ],
   "source": [
    "(\n",
    "    data_analist\n",
    "    .pivot_table(index = ['SeniorCitizen'], columns=['outflow'],  values = 'customerID', aggfunc = 'count')\n",
    "    .plot\n",
    "    .bar(figsize =(7, 11), grid = True, title = 'Уход клиента в зависимости от возраста')\n",
    "\n",
    ")"
   ]
  },
  {
   "cell_type": "markdown",
   "metadata": {},
   "source": [
    "Оснавния группа пользователей не старые. отток практически равномерен из обоих групп, немного больше отток из молодых."
   ]
  },
  {
   "cell_type": "markdown",
   "metadata": {},
   "source": [
    "##### Partner (Партнер)"
   ]
  },
  {
   "cell_type": "code",
   "execution_count": 68,
   "metadata": {},
   "outputs": [
    {
     "data": {
      "text/plain": [
       "<matplotlib.axes._subplots.AxesSubplot at 0x7f7412daf5d0>"
      ]
     },
     "execution_count": 68,
     "metadata": {},
     "output_type": "execute_result"
    },
    {
     "data": {
      "image/png": "[encoded data removed]",
      "text/plain": [
       "<Figure size 504x792 with 1 Axes>"
      ]
     },
     "metadata": {
      "needs_background": "light"
     },
     "output_type": "display_data"
    }
   ],
   "source": [
    "(\n",
    "    data_analist\n",
    "    .pivot_table(index = ['Partner'], columns=['outflow'],  values = 'customerID', aggfunc = 'count')\n",
    "    .plot\n",
    "    .bar(figsize =(7, 11), grid = True, title = 'Уход клиента в зависимости от наличия партнера?')\n",
    "\n",
    ")"
   ]
  },
  {
   "cell_type": "markdown",
   "metadata": {},
   "source": [
    "ризнак влияет на отток незначительно"
   ]
  },
  {
   "cell_type": "markdown",
   "metadata": {},
   "source": [
    "##### Dependents (Иждивенцы)"
   ]
  },
  {
   "cell_type": "code",
   "execution_count": 69,
   "metadata": {},
   "outputs": [
    {
     "data": {
      "text/plain": [
       "<matplotlib.axes._subplots.AxesSubplot at 0x7f7412d2e490>"
      ]
     },
     "execution_count": 69,
     "metadata": {},
     "output_type": "execute_result"
    },
    {
     "data": {
      "image/png": "[encoded data removed]",
      "text/plain": [
       "<Figure size 504x792 with 1 Axes>"
      ]
     },
     "metadata": {
      "needs_background": "light"
     },
     "output_type": "display_data"
    }
   ],
   "source": [
    "(\n",
    "    data_analist\n",
    "    .pivot_table(index = ['Dependents'], columns=['outflow'],  values = 'customerID', aggfunc = 'count')\n",
    "    .plot\n",
    "    .bar(figsize =(7, 11), grid = True, title = 'Уход клиента в зависимости от наличия Иждивенца?')\n",
    "\n",
    ")"
   ]
  },
  {
   "cell_type": "markdown",
   "metadata": {},
   "source": [
    "Признак влияет на отток, с иждевенцами отток меньше(некогда)"
   ]
  },
  {
   "cell_type": "markdown",
   "metadata": {},
   "source": [
    "##### InternetService (Интернет служба)"
   ]
  },
  {
   "cell_type": "code",
   "execution_count": 70,
   "metadata": {},
   "outputs": [
    {
     "data": {
      "text/plain": [
       "<matplotlib.axes._subplots.AxesSubplot at 0x7f7412ca3b50>"
      ]
     },
     "execution_count": 70,
     "metadata": {},
     "output_type": "execute_result"
    },
    {
     "data": {
      "image/png": "[encoded data removed]",
      "text/plain": [
       "<Figure size 504x792 with 1 Axes>"
      ]
     },
     "metadata": {
      "needs_background": "light"
     },
     "output_type": "display_data"
    }
   ],
   "source": [
    "(\n",
    "    data_analist\n",
    "    .pivot_table(index = ['InternetService'], columns=['outflow', 'Type'],  values = 'customerID', aggfunc = 'count')\n",
    "    .plot\n",
    "    .bar(figsize =(7, 11), grid = True, title = 'Уход клиента в зависимости от наличия Интернет службы')\n",
    "\n",
    ")"
   ]
  },
  {
   "cell_type": "code",
   "execution_count": 71,
   "metadata": {},
   "outputs": [
    {
     "data": {
      "text/html": [
       "<div>\n",
       "<style scoped>\n",
       "    .dataframe tbody tr th:only-of-type {\n",
       "        vertical-align: middle;\n",
       "    }\n",
       "\n",
       "    .dataframe tbody tr th {\n",
       "        vertical-align: top;\n",
       "    }\n",
       "\n",
       "    .dataframe thead tr th {\n",
       "        text-align: left;\n",
       "    }\n",
       "\n",
       "    .dataframe thead tr:last-of-type th {\n",
       "        text-align: right;\n",
       "    }\n",
       "</style>\n",
       "<table border=\"1\" class=\"dataframe\">\n",
       "  <thead>\n",
       "    <tr>\n",
       "      <th>outflow</th>\n",
       "      <th colspan=\"3\" halign=\"left\">оставшийся</th>\n",
       "      <th colspan=\"3\" halign=\"left\">потерянный</th>\n",
       "    </tr>\n",
       "    <tr>\n",
       "      <th>Type</th>\n",
       "      <th>Month-to-month</th>\n",
       "      <th>One year</th>\n",
       "      <th>Two year</th>\n",
       "      <th>Month-to-month</th>\n",
       "      <th>One year</th>\n",
       "      <th>Two year</th>\n",
       "    </tr>\n",
       "    <tr>\n",
       "      <th>InternetService</th>\n",
       "      <th></th>\n",
       "      <th></th>\n",
       "      <th></th>\n",
       "      <th></th>\n",
       "      <th></th>\n",
       "      <th></th>\n",
       "    </tr>\n",
       "  </thead>\n",
       "  <tbody>\n",
       "    <tr>\n",
       "      <td>Fiber optic</td>\n",
       "      <td>966</td>\n",
       "      <td>435</td>\n",
       "      <td>398</td>\n",
       "      <td>1162</td>\n",
       "      <td>104</td>\n",
       "      <td>31</td>\n",
       "    </tr>\n",
       "  </tbody>\n",
       "</table>\n",
       "</div>"
      ],
      "text/plain": [
       "outflow             оставшийся                       потерянный           \\\n",
       "Type            Month-to-month One year Two year Month-to-month One year   \n",
       "InternetService                                                            \n",
       "Fiber optic                966      435      398           1162      104   \n",
       "\n",
       "outflow                   \n",
       "Type            Two year  \n",
       "InternetService           \n",
       "Fiber optic           31  "
      ]
     },
     "execution_count": 71,
     "metadata": {},
     "output_type": "execute_result"
    }
   ],
   "source": [
    "(\n",
    "    data_analist\n",
    "    .query('InternetService == \"Fiber optic\"')\n",
    "    .pivot_table(index = ['InternetService'], columns=['outflow', 'Type'],  values = 'customerID', aggfunc = 'count')\n",
    "    \n",
    "\n",
    ")"
   ]
  },
  {
   "cell_type": "markdown",
   "metadata": {},
   "source": [
    "Основной отток происходит со значения признака Fiber optic у клиентов с абонементской платой \"Month-to-month\". Интернет сервис не айс?"
   ]
  },
  {
   "cell_type": "markdown",
   "metadata": {},
   "source": [
    "##### OnlineSecurity (Онлайн Безопасность)"
   ]
  },
  {
   "cell_type": "code",
   "execution_count": 72,
   "metadata": {},
   "outputs": [
    {
     "data": {
      "text/plain": [
       "<matplotlib.axes._subplots.AxesSubplot at 0x7f7412cab950>"
      ]
     },
     "execution_count": 72,
     "metadata": {},
     "output_type": "execute_result"
    },
    {
     "data": {
      "image/png": "[encoded data removed]",
      "text/plain": [
       "<Figure size 504x792 with 1 Axes>"
      ]
     },
     "metadata": {
      "needs_background": "light"
     },
     "output_type": "display_data"
    }
   ],
   "source": [
    "(\n",
    "    data_analist\n",
    "    .pivot_table(index = ['OnlineSecurity'], columns=['outflow'],  values = 'customerID', aggfunc = 'count')\n",
    "    .plot\n",
    "    .bar(figsize =(7, 11), grid = True, title = 'Уход клиента в зависимости от наличия Онлайн Безопасности?')\n",
    "\n",
    ")"
   ]
  },
  {
   "cell_type": "code",
   "execution_count": 73,
   "metadata": {},
   "outputs": [
    {
     "data": {
      "text/plain": [
       "<matplotlib.axes._subplots.AxesSubplot at 0x7f7412ba8250>"
      ]
     },
     "execution_count": 73,
     "metadata": {},
     "output_type": "execute_result"
    },
    {
     "data": {
      "image/png": "[encoded data removed]",
      "text/plain": [
       "<Figure size 504x792 with 1 Axes>"
      ]
     },
     "metadata": {
      "needs_background": "light"
     },
     "output_type": "display_data"
    }
   ],
   "source": [
    "(\n",
    "    data_analist\n",
    "    .pivot_table(index = ['OnlineSecurity'], columns=['outflow', 'Type'],  values = 'customerID', aggfunc = 'count')\n",
    "    .plot\n",
    "    .bar(figsize =(7, 11), grid = True, title = 'Уход клиента в зависимости от наличия Безопасности')\n",
    "\n",
    ")"
   ]
  },
  {
   "cell_type": "markdown",
   "metadata": {},
   "source": [
    "Признак влияет на отток, при отсутствие безопасности отток больше. не входит в абонементку. Стоит предложить"
   ]
  },
  {
   "cell_type": "markdown",
   "metadata": {},
   "source": [
    "##### OnlineBackup (Сохранение)"
   ]
  },
  {
   "cell_type": "code",
   "execution_count": 74,
   "metadata": {},
   "outputs": [
    {
     "data": {
      "text/plain": [
       "<matplotlib.axes._subplots.AxesSubplot at 0x7f7412af6b10>"
      ]
     },
     "execution_count": 74,
     "metadata": {},
     "output_type": "execute_result"
    },
    {
     "data": {
      "image/png": "[encoded data removed]",
      "text/plain": [
       "<Figure size 504x792 with 1 Axes>"
      ]
     },
     "metadata": {
      "needs_background": "light"
     },
     "output_type": "display_data"
    }
   ],
   "source": [
    "(\n",
    "    data_analist\n",
    "    .pivot_table(index = ['OnlineBackup'], columns=['outflow'],  values = 'customerID', aggfunc = 'count')\n",
    "    .plot\n",
    "    .bar(figsize =(7, 11), grid = True, title = 'Уход клиента в зависимости от наличия Сохранения')\n",
    "\n",
    ")"
   ]
  },
  {
   "cell_type": "code",
   "execution_count": 75,
   "metadata": {},
   "outputs": [
    {
     "data": {
      "text/plain": [
       "<matplotlib.axes._subplots.AxesSubplot at 0x7f7412a6b790>"
      ]
     },
     "execution_count": 75,
     "metadata": {},
     "output_type": "execute_result"
    },
    {
     "data": {
      "image/png": "[encoded data removed]",
      "text/plain": [
       "<Figure size 504x792 with 1 Axes>"
      ]
     },
     "metadata": {
      "needs_background": "light"
     },
     "output_type": "display_data"
    }
   ],
   "source": [
    "(\n",
    "    data_analist\n",
    "    .pivot_table(index = ['OnlineBackup'], columns=['outflow', 'Type'],  values = 'customerID', aggfunc = 'count')\n",
    "    .plot\n",
    "    .bar(figsize =(7, 11), grid = True, title = 'Уход клиента в зависимости от наличия Сохранения')\n",
    "\n",
    ")"
   ]
  },
  {
   "cell_type": "markdown",
   "metadata": {},
   "source": [
    "Признак влияет на отток, при отсутствие сохранения отток больше. не входит в абонементку. Стоит предложить"
   ]
  },
  {
   "cell_type": "markdown",
   "metadata": {},
   "source": [
    "##### DeviceProtection (Защита устройства)"
   ]
  },
  {
   "cell_type": "code",
   "execution_count": 76,
   "metadata": {},
   "outputs": [
    {
     "data": {
      "text/plain": [
       "<matplotlib.axes._subplots.AxesSubplot at 0x7f741299cd90>"
      ]
     },
     "execution_count": 76,
     "metadata": {},
     "output_type": "execute_result"
    },
    {
     "data": {
      "image/png": "[encoded data removed]",
      "text/plain": [
       "<Figure size 504x792 with 1 Axes>"
      ]
     },
     "metadata": {
      "needs_background": "light"
     },
     "output_type": "display_data"
    }
   ],
   "source": [
    "(\n",
    "    data_analist\n",
    "    .pivot_table(index = ['DeviceProtection'], columns=['outflow'],  values = 'customerID', aggfunc = 'count')\n",
    "    .plot\n",
    "    .bar(figsize =(7, 11), grid = True, title = 'Уход клиента в зависимости от наличия защиты устройства')\n",
    "\n",
    ")"
   ]
  },
  {
   "cell_type": "code",
   "execution_count": 77,
   "metadata": {},
   "outputs": [
    {
     "data": {
      "text/plain": [
       "<matplotlib.axes._subplots.AxesSubplot at 0x7f7412919e50>"
      ]
     },
     "execution_count": 77,
     "metadata": {},
     "output_type": "execute_result"
    },
    {
     "data": {
      "image/png": "[encoded data removed]",
      "text/plain": [
       "<Figure size 504x792 with 1 Axes>"
      ]
     },
     "metadata": {
      "needs_background": "light"
     },
     "output_type": "display_data"
    }
   ],
   "source": [
    "(\n",
    "    data_analist\n",
    "    .pivot_table(index = ['DeviceProtection'], columns=['outflow', 'Type'],  values = 'customerID', aggfunc = 'count')\n",
    "    .plot\n",
    "    .bar(figsize =(7, 11), grid = True, title = 'Уход клиента в зависимости от защиты устройства')\n",
    "\n",
    ")"
   ]
  },
  {
   "cell_type": "markdown",
   "metadata": {},
   "source": [
    "Признак влияет на отток, при отсутствие защиты отток больше. не входит в абонементку. Стоит предложить"
   ]
  },
  {
   "cell_type": "markdown",
   "metadata": {},
   "source": [
    "##### TechSupport (Тех поддержка)"
   ]
  },
  {
   "cell_type": "code",
   "execution_count": 78,
   "metadata": {},
   "outputs": [
    {
     "data": {
      "text/plain": [
       "<matplotlib.axes._subplots.AxesSubplot at 0x7f7412863050>"
      ]
     },
     "execution_count": 78,
     "metadata": {},
     "output_type": "execute_result"
    },
    {
     "data": {
      "image/png": "[encoded data removed]",
      "text/plain": [
       "<Figure size 504x792 with 1 Axes>"
      ]
     },
     "metadata": {
      "needs_background": "light"
     },
     "output_type": "display_data"
    }
   ],
   "source": [
    "(\n",
    "    data_analist\n",
    "    .pivot_table(index = ['TechSupport'], columns=['outflow'],  values = 'customerID', aggfunc = 'count')\n",
    "    .plot\n",
    "    .bar(figsize =(7, 11), grid = True, title = 'Уход клиента в зависимости от наличия Тех поддержки')\n",
    "\n",
    ")"
   ]
  },
  {
   "cell_type": "code",
   "execution_count": 79,
   "metadata": {},
   "outputs": [
    {
     "data": {
      "text/plain": [
       "<matplotlib.axes._subplots.AxesSubplot at 0x7f74127d30d0>"
      ]
     },
     "execution_count": 79,
     "metadata": {},
     "output_type": "execute_result"
    },
    {
     "data": {
      "image/png": "[encoded data removed]",
      "text/plain": [
       "<Figure size 504x792 with 1 Axes>"
      ]
     },
     "metadata": {
      "needs_background": "light"
     },
     "output_type": "display_data"
    }
   ],
   "source": [
    "(\n",
    "    data_analist\n",
    "    .pivot_table(index = ['TechSupport'], columns=['outflow', 'Type'],  values = 'customerID', aggfunc = 'count')\n",
    "    .plot\n",
    "    .bar(figsize =(7, 11), grid = True, title = 'Уход клиента в зависимости от наличия Тех поддержки')\n",
    "\n",
    ")"
   ]
  },
  {
   "cell_type": "markdown",
   "metadata": {},
   "source": [
    "Аналогично предыдущим признакам. не входит в абонементку. Стоит предложить"
   ]
  },
  {
   "cell_type": "markdown",
   "metadata": {},
   "source": [
    "##### StreamingTV (Потоковое телевидение)"
   ]
  },
  {
   "cell_type": "code",
   "execution_count": 80,
   "metadata": {},
   "outputs": [
    {
     "data": {
      "text/plain": [
       "<matplotlib.axes._subplots.AxesSubplot at 0x7f7412705990>"
      ]
     },
     "execution_count": 80,
     "metadata": {},
     "output_type": "execute_result"
    },
    {
     "data": {
      "image/png": "[encoded data removed]",
      "text/plain": [
       "<Figure size 504x792 with 1 Axes>"
      ]
     },
     "metadata": {
      "needs_background": "light"
     },
     "output_type": "display_data"
    }
   ],
   "source": [
    "(\n",
    "    data_analist\n",
    "    .pivot_table(index = ['StreamingTV'], columns=['outflow'],  values = 'customerID', aggfunc = 'count')\n",
    "    .plot\n",
    "    .bar(figsize =(7, 11), grid = True, title = 'Уход клиента в зависимости от наличия Потокового телевидения')\n",
    "\n",
    ")"
   ]
  },
  {
   "cell_type": "markdown",
   "metadata": {},
   "source": [
    "Отток при отсутствие телевидения чуть больше"
   ]
  },
  {
   "cell_type": "markdown",
   "metadata": {},
   "source": [
    "##### StreamingMovies (Потоковые фильмы)"
   ]
  },
  {
   "cell_type": "code",
   "execution_count": 81,
   "metadata": {},
   "outputs": [
    {
     "data": {
      "text/plain": [
       "<matplotlib.axes._subplots.AxesSubplot at 0x7f7412681c10>"
      ]
     },
     "execution_count": 81,
     "metadata": {},
     "output_type": "execute_result"
    },
    {
     "data": {
      "image/png": "[encoded data removed]",
      "text/plain": [
       "<Figure size 504x792 with 1 Axes>"
      ]
     },
     "metadata": {
      "needs_background": "light"
     },
     "output_type": "display_data"
    }
   ],
   "source": [
    "(\n",
    "    data_analist\n",
    "    .pivot_table(index = ['StreamingMovies'], columns=['outflow'],  values = 'customerID', aggfunc = 'count')\n",
    "    .plot\n",
    "    .bar(figsize =(7, 11), grid = True, title = 'Уход клиента в зависимости от наличия Потоковых фильмов')\n",
    "\n",
    ")"
   ]
  },
  {
   "cell_type": "markdown",
   "metadata": {},
   "source": [
    "Отток при отсутствие фильмов чуть больше"
   ]
  },
  {
   "cell_type": "markdown",
   "metadata": {},
   "source": [
    "##### MultipleLines (Несколько строк)"
   ]
  },
  {
   "cell_type": "code",
   "execution_count": 82,
   "metadata": {},
   "outputs": [
    {
     "data": {
      "text/plain": [
       "<matplotlib.axes._subplots.AxesSubplot at 0x7f741260ccd0>"
      ]
     },
     "execution_count": 82,
     "metadata": {},
     "output_type": "execute_result"
    },
    {
     "data": {
      "image/png": "[encoded data removed]",
      "text/plain": [
       "<Figure size 504x792 with 1 Axes>"
      ]
     },
     "metadata": {
      "needs_background": "light"
     },
     "output_type": "display_data"
    }
   ],
   "source": [
    "(\n",
    "    data_analist\n",
    "    .pivot_table(index = ['MultipleLines'], columns=['outflow'],  values = 'customerID', aggfunc = 'count')\n",
    "    .plot\n",
    "    .bar(figsize =(7, 11), grid = True, title = 'Уход клиента в зависимости от наличия \"\"Несколько строк\"\"')\n",
    "\n",
    ")"
   ]
  },
  {
   "cell_type": "markdown",
   "metadata": {},
   "source": [
    "Отток при отсутствие \"Несколько строк\" чуть больше"
   ]
  },
  {
   "cell_type": "markdown",
   "metadata": {},
   "source": [
    "##### month_use (колчиство месяцев)"
   ]
  },
  {
   "cell_type": "code",
   "execution_count": 83,
   "metadata": {},
   "outputs": [
    {
     "data": {
      "text/plain": [
       "<matplotlib.axes._subplots.AxesSubplot at 0x7f741257e910>"
      ]
     },
     "execution_count": 83,
     "metadata": {},
     "output_type": "execute_result"
    },
    {
     "data": {
      "image/png": "[encoded data removed]",
      "text/plain": [
       "<Figure size 1224x504 with 1 Axes>"
      ]
     },
     "metadata": {
      "needs_background": "light"
     },
     "output_type": "display_data"
    }
   ],
   "source": [
    "(\n",
    "    data_analist\n",
    "    .pivot_table(index = ['month_use'], columns=['outflow'],  values = 'customerID', aggfunc = 'count')\n",
    "    .plot\n",
    "    .bar(figsize =(17, 7), grid = True, title = 'Уход клиента в зависимости от длительности пользования')\n",
    "\n",
    ")"
   ]
  },
  {
   "cell_type": "markdown",
   "metadata": {},
   "source": [
    "основной отток после месяца использования"
   ]
  },
  {
   "cell_type": "markdown",
   "metadata": {},
   "source": [
    "___\n",
    "### Выборки\n",
    "___"
   ]
  },
  {
   "cell_type": "code",
   "execution_count": 166,
   "metadata": {},
   "outputs": [],
   "source": [
    "features = data.drop(['outflow', 'customerID'], axis = 1)\n",
    "target = data['outflow']"
   ]
  },
  {
   "cell_type": "code",
   "execution_count": 167,
   "metadata": {},
   "outputs": [],
   "source": [
    "features_train, features_valid, target_train, target_valid = train_test_split(\n",
    "    features, target, test_size=0.40, random_state=12345)"
   ]
  },
  {
   "cell_type": "code",
   "execution_count": 168,
   "metadata": {},
   "outputs": [],
   "source": [
    "features_valid, features_test, target_valid, target_test = train_test_split(\n",
    "    features_valid, target_valid, test_size=0.50, random_state=12345)"
   ]
  },
  {
   "cell_type": "code",
   "execution_count": 169,
   "metadata": {
    "scrolled": true
   },
   "outputs": [
    {
     "data": {
      "text/plain": [
       "2.8374205267938235"
      ]
     },
     "execution_count": 169,
     "metadata": {},
     "output_type": "execute_result"
    }
   ],
   "source": [
    "(features_train.loc[target_train == 0].count()/features_train[target_train == 1].count()).mean()"
   ]
  },
  {
   "cell_type": "markdown",
   "metadata": {},
   "source": [
    "features_train, target_train = upsample(features_train, target_train, 3)"
   ]
  },
  {
   "cell_type": "markdown",
   "metadata": {},
   "source": [
    "upsample - не использовал (проверял)"
   ]
  },
  {
   "cell_type": "code",
   "execution_count": 170,
   "metadata": {},
   "outputs": [],
   "source": [
    "dumm_type = pd.get_dummies(features_train['Type'], prefix = 'Type')\n",
    "features_train['Type_0'] = dumm_type['Type_0']\n",
    "features_train['Type_1'] = dumm_type['Type_1']\n",
    "dumm_pm = pd.get_dummies(features_train['PaymentMethod'], prefix = 'PM')\n",
    "features_train['PM_-1'] = dumm_pm['PM_-1']\n",
    "features_train['PM_0'] = dumm_pm['PM_0']\n",
    "features_train['PM_1'] = dumm_pm['PM_1']\n",
    "features_train['PM_2'] = dumm_pm['PM_2']\n",
    "features_train = features_train.drop(['PaymentMethod'], axis = 1)\n",
    "features_train = features_train.drop(['Type'], axis = 1)\n",
    "\n",
    "dumm_type = pd.get_dummies(features_valid['Type'], prefix = 'Type')\n",
    "features_valid['Type_0'] = dumm_type['Type_0']\n",
    "features_valid['Type_1'] = dumm_type['Type_1']\n",
    "dumm_pm = pd.get_dummies(features_valid['PaymentMethod'], prefix = 'PM')\n",
    "features_valid['PM_-1'] = dumm_pm['PM_-1']\n",
    "features_valid['PM_0'] = dumm_pm['PM_0']\n",
    "features_valid['PM_1'] = dumm_pm['PM_1']\n",
    "features_valid['PM_2'] = dumm_pm['PM_2']\n",
    "features_valid = features_valid.drop(['PaymentMethod'], axis = 1)\n",
    "features_valid = features_valid.drop(['Type'], axis = 1)\n",
    "\n",
    "dumm_type = pd.get_dummies(features_test['Type'], prefix = 'Type')\n",
    "features_test['Type_0'] = dumm_type['Type_0']\n",
    "features_test['Type_1'] = dumm_type['Type_1']\n",
    "dumm_pm = pd.get_dummies(features_test['PaymentMethod'], prefix = 'PM')\n",
    "features_test['PM_-1'] = dumm_pm['PM_-1']\n",
    "features_test['PM_0'] = dumm_pm['PM_0']\n",
    "features_test['PM_1'] = dumm_pm['PM_1']\n",
    "features_test['PM_2'] = dumm_pm['PM_2']\n",
    "features_test = features_test.drop(['PaymentMethod'], axis = 1)\n",
    "features_test = features_test.drop(['Type'], axis = 1)"
   ]
  },
  {
   "cell_type": "code",
   "execution_count": 171,
   "metadata": {},
   "outputs": [],
   "source": [
    "scaler = StandardScaler()"
   ]
  },
  {
   "cell_type": "code",
   "execution_count": 172,
   "metadata": {
    "scrolled": true
   },
   "outputs": [
    {
     "data": {
      "text/plain": [
       "StandardScaler(copy=True, with_mean=True, with_std=True)"
      ]
     },
     "execution_count": 172,
     "metadata": {},
     "output_type": "execute_result"
    }
   ],
   "source": [
    "scaler.fit(features_train)"
   ]
  },
  {
   "cell_type": "code",
   "execution_count": 173,
   "metadata": {},
   "outputs": [],
   "source": [
    "features_train = scaler.transform(features_train)\n",
    "features_valid = scaler.transform(features_valid)\n",
    "features_test = scaler.transform(features_test)"
   ]
  },
  {
   "cell_type": "code",
   "execution_count": 174,
   "metadata": {},
   "outputs": [],
   "source": [
    "features_train = np.array(features_train)\n",
    "features_valid = np.array(features_valid)\n",
    "features_test = np.array(features_test)"
   ]
  },
  {
   "cell_type": "code",
   "execution_count": 175,
   "metadata": {},
   "outputs": [],
   "source": [
    "target_train = np.array(target_train)\n",
    "target_valid = np.array(target_valid)\n",
    "target_test = np.array(target_test)"
   ]
  },
  {
   "cell_type": "code",
   "execution_count": 176,
   "metadata": {},
   "outputs": [
    {
     "data": {
      "text/plain": [
       "((4225, 22), (1409, 22), (1409, 22))"
      ]
     },
     "execution_count": 176,
     "metadata": {},
     "output_type": "execute_result"
    }
   ],
   "source": [
    "features_train.shape, features_valid.shape, features_test.shape"
   ]
  },
  {
   "cell_type": "code",
   "execution_count": 177,
   "metadata": {},
   "outputs": [
    {
     "data": {
      "text/plain": [
       "((4225,), (1409,), (1409,))"
      ]
     },
     "execution_count": 177,
     "metadata": {},
     "output_type": "execute_result"
    }
   ],
   "source": [
    "target_train.shape, target_valid.shape, target_test.shape"
   ]
  },
  {
   "cell_type": "markdown",
   "metadata": {},
   "source": [
    "На данном этапе считаю разбивку train, valid, test - готовыми к подобору / обучению и тестированию моделей."
   ]
  },
  {
   "cell_type": "markdown",
   "metadata": {},
   "source": [
    "_____________"
   ]
  },
  {
   "cell_type": "markdown",
   "metadata": {},
   "source": [
    "___\n",
    "<a name=\"Шаг_3\"></a>\n",
    "### Построение и тестирование моделей."
   ]
  },
  {
   "cell_type": "markdown",
   "metadata": {},
   "source": [
    "___\n",
    "#### LogisticRegression\n",
    "___"
   ]
  },
  {
   "cell_type": "code",
   "execution_count": 178,
   "metadata": {},
   "outputs": [
    {
     "data": {
      "text/plain": [
       "(0.7512606649014416, 0.8005677785663591)"
      ]
     },
     "execution_count": 178,
     "metadata": {},
     "output_type": "execute_result"
    }
   ],
   "source": [
    "model_LR = LogisticRegression(solver = 'liblinear', random_state=12345)\n",
    "model_LR.fit(features_train, target_train)\n",
    "predict_LR = model_LR.predict(features_valid)\n",
    "roc_LR_val = roc_auc_score(predict_LR, target_valid) \n",
    "acc_LR_val = accuracy_score(predict_LR, target_valid)\n",
    "roc_LR_val, acc_LR_val"
   ]
  },
  {
   "cell_type": "markdown",
   "metadata": {},
   "source": [
    "___\n",
    "#### RandomForestClassifier\n",
    "___"
   ]
  },
  {
   "cell_type": "code",
   "execution_count": 179,
   "metadata": {},
   "outputs": [
    {
     "data": {
      "text/plain": [
       "(0.7679679144385027, 0.7430801987224982)"
      ]
     },
     "execution_count": 179,
     "metadata": {},
     "output_type": "execute_result"
    }
   ],
   "source": [
    "model_RFC = RandomForestClassifier(min_samples_leaf=1, min_samples_split=2, n_estimators=100, max_depth=2, random_state=12345)\n",
    "model_RFC.fit(features_train, target_train)\n",
    "predict_RFC = model_RFC.predict(features_valid)\n",
    "roc_RFC_val = roc_auc_score(predict_RFC, target_valid)\n",
    "acc_RFC_val = accuracy_score(predict_RFC, target_valid)\n",
    "roc_RFC_val, acc_RFC_val"
   ]
  },
  {
   "cell_type": "markdown",
   "metadata": {},
   "source": [
    "___\n",
    "#### DecisionTreeClassifier\n",
    "___"
   ]
  },
  {
   "cell_type": "code",
   "execution_count": 180,
   "metadata": {},
   "outputs": [
    {
     "data": {
      "text/plain": [
       "(0.7260596192179285, 0.7743080198722498)"
      ]
     },
     "execution_count": 180,
     "metadata": {},
     "output_type": "execute_result"
    }
   ],
   "source": [
    "model_DTC = DecisionTreeClassifier(max_features=8, max_depth=3, random_state=12345)\n",
    "model_DTC.fit(features_train, target_train)\n",
    "predict_DTC = model_DTC.predict(features_valid)\n",
    "roc_DTC_val = roc_auc_score(predict_DTC, target_valid)\n",
    "acc_DTC_val = accuracy_score(predict_DTC, target_valid)\n",
    "roc_DTC_val, acc_DTC_val\n"
   ]
  },
  {
   "cell_type": "markdown",
   "metadata": {},
   "source": [
    "___\n",
    "#### CatBoostClassifier\n",
    "___"
   ]
  },
  {
   "cell_type": "code",
   "execution_count": 181,
   "metadata": {},
   "outputs": [
    {
     "name": "stdout",
     "output_type": "stream",
     "text": [
      "Learning rate set to 0.02519\n",
      "0:\tlearn: 0.6754024\ttotal: 8.5ms\tremaining: 8.49s\n",
      "1:\tlearn: 0.6590426\ttotal: 17.4ms\tremaining: 8.66s\n",
      "2:\tlearn: 0.6439672\ttotal: 102ms\tremaining: 33.7s\n",
      "3:\tlearn: 0.6289406\ttotal: 110ms\tremaining: 27.4s\n",
      "4:\tlearn: 0.6160145\ttotal: 115ms\tremaining: 22.9s\n",
      "5:\tlearn: 0.6037454\ttotal: 195ms\tremaining: 32.4s\n",
      "6:\tlearn: 0.5916152\ttotal: 210ms\tremaining: 29.8s\n",
      "7:\tlearn: 0.5804502\ttotal: 216ms\tremaining: 26.8s\n",
      "8:\tlearn: 0.5701821\ttotal: 301ms\tremaining: 33.2s\n",
      "9:\tlearn: 0.5625179\ttotal: 306ms\tremaining: 30.3s\n",
      "10:\tlearn: 0.5530150\ttotal: 313ms\tremaining: 28.1s\n",
      "11:\tlearn: 0.5451342\ttotal: 318ms\tremaining: 26.2s\n",
      "12:\tlearn: 0.5374131\ttotal: 402ms\tremaining: 30.5s\n",
      "13:\tlearn: 0.5298097\ttotal: 412ms\tremaining: 29s\n",
      "14:\tlearn: 0.5226569\ttotal: 488ms\tremaining: 32.1s\n",
      "15:\tlearn: 0.5161127\ttotal: 504ms\tremaining: 31s\n",
      "16:\tlearn: 0.5101502\ttotal: 512ms\tremaining: 29.6s\n",
      "17:\tlearn: 0.5039649\ttotal: 593ms\tremaining: 32.4s\n",
      "18:\tlearn: 0.4983079\ttotal: 601ms\tremaining: 31s\n",
      "19:\tlearn: 0.4931927\ttotal: 680ms\tremaining: 33.3s\n",
      "20:\tlearn: 0.4881095\ttotal: 693ms\tremaining: 32.3s\n",
      "21:\tlearn: 0.4838277\ttotal: 698ms\tremaining: 31s\n",
      "22:\tlearn: 0.4795427\ttotal: 778ms\tremaining: 33s\n",
      "23:\tlearn: 0.4757273\ttotal: 790ms\tremaining: 32.1s\n",
      "24:\tlearn: 0.4716851\ttotal: 798ms\tremaining: 31.1s\n",
      "25:\tlearn: 0.4681463\ttotal: 870ms\tremaining: 32.6s\n",
      "26:\tlearn: 0.4647505\ttotal: 888ms\tremaining: 32s\n",
      "27:\tlearn: 0.4616265\ttotal: 894ms\tremaining: 31s\n",
      "28:\tlearn: 0.4584915\ttotal: 984ms\tremaining: 33s\n",
      "29:\tlearn: 0.4553903\ttotal: 991ms\tremaining: 32s\n",
      "30:\tlearn: 0.4526895\ttotal: 997ms\tremaining: 31.2s\n",
      "31:\tlearn: 0.4495490\ttotal: 1.09s\tremaining: 32.9s\n",
      "32:\tlearn: 0.4474035\ttotal: 1.09s\tremaining: 32.1s\n",
      "33:\tlearn: 0.4451363\ttotal: 1.17s\tremaining: 33.3s\n",
      "34:\tlearn: 0.4431372\ttotal: 1.19s\tremaining: 32.7s\n",
      "35:\tlearn: 0.4409148\ttotal: 1.19s\tremaining: 31.9s\n",
      "36:\tlearn: 0.4391666\ttotal: 1.2s\tremaining: 31.2s\n",
      "37:\tlearn: 0.4370165\ttotal: 1.28s\tremaining: 32.4s\n",
      "38:\tlearn: 0.4349718\ttotal: 1.29s\tremaining: 31.8s\n",
      "39:\tlearn: 0.4328786\ttotal: 1.37s\tremaining: 33s\n",
      "40:\tlearn: 0.4315619\ttotal: 1.38s\tremaining: 32.3s\n",
      "41:\tlearn: 0.4301993\ttotal: 1.39s\tremaining: 31.7s\n",
      "42:\tlearn: 0.4284214\ttotal: 1.48s\tremaining: 32.9s\n",
      "43:\tlearn: 0.4271910\ttotal: 1.49s\tremaining: 32.5s\n",
      "44:\tlearn: 0.4257517\ttotal: 1.5s\tremaining: 31.9s\n",
      "45:\tlearn: 0.4242069\ttotal: 1.58s\tremaining: 32.7s\n",
      "46:\tlearn: 0.4228758\ttotal: 1.58s\tremaining: 32.1s\n",
      "47:\tlearn: 0.4218202\ttotal: 1.59s\tremaining: 31.5s\n",
      "48:\tlearn: 0.4208105\ttotal: 1.67s\tremaining: 32.5s\n",
      "49:\tlearn: 0.4196238\ttotal: 1.68s\tremaining: 31.9s\n",
      "50:\tlearn: 0.4183470\ttotal: 1.69s\tremaining: 31.4s\n",
      "51:\tlearn: 0.4173332\ttotal: 1.77s\tremaining: 32.3s\n",
      "52:\tlearn: 0.4161165\ttotal: 1.78s\tremaining: 31.8s\n",
      "53:\tlearn: 0.4150560\ttotal: 1.85s\tremaining: 32.5s\n",
      "54:\tlearn: 0.4140712\ttotal: 1.87s\tremaining: 32.2s\n",
      "55:\tlearn: 0.4131644\ttotal: 1.88s\tremaining: 31.7s\n",
      "56:\tlearn: 0.4122108\ttotal: 1.97s\tremaining: 32.5s\n",
      "57:\tlearn: 0.4113627\ttotal: 1.98s\tremaining: 32.1s\n",
      "58:\tlearn: 0.4103667\ttotal: 1.98s\tremaining: 31.6s\n",
      "59:\tlearn: 0.4094045\ttotal: 2.06s\tremaining: 32.3s\n",
      "60:\tlearn: 0.4085137\ttotal: 2.07s\tremaining: 31.9s\n",
      "61:\tlearn: 0.4075389\ttotal: 2.08s\tremaining: 31.4s\n",
      "62:\tlearn: 0.4067819\ttotal: 2.17s\tremaining: 32.2s\n",
      "63:\tlearn: 0.4060733\ttotal: 2.18s\tremaining: 31.8s\n",
      "64:\tlearn: 0.4052539\ttotal: 2.26s\tremaining: 32.5s\n",
      "65:\tlearn: 0.4046192\ttotal: 2.27s\tremaining: 32.1s\n",
      "66:\tlearn: 0.4039217\ttotal: 2.27s\tremaining: 31.7s\n",
      "67:\tlearn: 0.4031939\ttotal: 2.35s\tremaining: 32.3s\n",
      "68:\tlearn: 0.4025808\ttotal: 2.37s\tremaining: 31.9s\n",
      "69:\tlearn: 0.4020376\ttotal: 2.37s\tremaining: 31.5s\n",
      "70:\tlearn: 0.4015285\ttotal: 2.46s\tremaining: 32.3s\n",
      "71:\tlearn: 0.4009810\ttotal: 2.47s\tremaining: 31.9s\n",
      "72:\tlearn: 0.4001510\ttotal: 2.54s\tremaining: 32.3s\n",
      "73:\tlearn: 0.3996666\ttotal: 2.56s\tremaining: 32.1s\n",
      "74:\tlearn: 0.3990433\ttotal: 2.57s\tremaining: 31.7s\n",
      "75:\tlearn: 0.3985809\ttotal: 2.65s\tremaining: 32.3s\n",
      "76:\tlearn: 0.3979487\ttotal: 2.66s\tremaining: 31.9s\n",
      "77:\tlearn: 0.3975651\ttotal: 2.67s\tremaining: 31.6s\n",
      "78:\tlearn: 0.3970981\ttotal: 2.75s\tremaining: 32.1s\n",
      "79:\tlearn: 0.3964824\ttotal: 2.76s\tremaining: 31.7s\n",
      "80:\tlearn: 0.3959634\ttotal: 2.77s\tremaining: 31.4s\n",
      "81:\tlearn: 0.3953548\ttotal: 2.85s\tremaining: 32s\n",
      "82:\tlearn: 0.3949810\ttotal: 2.86s\tremaining: 31.6s\n",
      "83:\tlearn: 0.3943932\ttotal: 2.87s\tremaining: 31.3s\n",
      "84:\tlearn: 0.3940895\ttotal: 2.95s\tremaining: 31.8s\n",
      "85:\tlearn: 0.3935301\ttotal: 2.96s\tremaining: 31.4s\n",
      "86:\tlearn: 0.3929777\ttotal: 2.96s\tremaining: 31.1s\n",
      "87:\tlearn: 0.3924665\ttotal: 3.05s\tremaining: 31.6s\n",
      "88:\tlearn: 0.3921207\ttotal: 3.06s\tremaining: 31.3s\n",
      "89:\tlearn: 0.3916219\ttotal: 3.14s\tremaining: 31.8s\n",
      "90:\tlearn: 0.3911116\ttotal: 3.15s\tremaining: 31.5s\n",
      "91:\tlearn: 0.3906034\ttotal: 3.16s\tremaining: 31.2s\n",
      "92:\tlearn: 0.3902029\ttotal: 3.25s\tremaining: 31.7s\n",
      "93:\tlearn: 0.3898110\ttotal: 3.26s\tremaining: 31.4s\n",
      "94:\tlearn: 0.3894796\ttotal: 3.27s\tremaining: 31.1s\n",
      "95:\tlearn: 0.3890447\ttotal: 3.35s\tremaining: 31.5s\n",
      "96:\tlearn: 0.3885609\ttotal: 3.35s\tremaining: 31.2s\n",
      "97:\tlearn: 0.3882275\ttotal: 3.42s\tremaining: 31.5s\n",
      "98:\tlearn: 0.3879756\ttotal: 3.43s\tremaining: 31.2s\n",
      "99:\tlearn: 0.3876118\ttotal: 3.44s\tremaining: 31s\n",
      "100:\tlearn: 0.3874119\ttotal: 3.52s\tremaining: 31.3s\n",
      "101:\tlearn: 0.3869961\ttotal: 3.54s\tremaining: 31.1s\n",
      "102:\tlearn: 0.3866167\ttotal: 3.55s\tremaining: 30.9s\n",
      "103:\tlearn: 0.3862270\ttotal: 3.63s\tremaining: 31.3s\n",
      "104:\tlearn: 0.3858436\ttotal: 3.64s\tremaining: 31s\n",
      "105:\tlearn: 0.3856080\ttotal: 3.65s\tremaining: 30.8s\n",
      "106:\tlearn: 0.3851206\ttotal: 3.74s\tremaining: 31.2s\n",
      "107:\tlearn: 0.3848249\ttotal: 3.75s\tremaining: 30.9s\n",
      "108:\tlearn: 0.3843406\ttotal: 3.82s\tremaining: 31.2s\n",
      "109:\tlearn: 0.3840644\ttotal: 3.84s\tremaining: 31.1s\n",
      "110:\tlearn: 0.3838227\ttotal: 3.85s\tremaining: 30.8s\n",
      "111:\tlearn: 0.3836173\ttotal: 3.92s\tremaining: 31.1s\n",
      "112:\tlearn: 0.3830074\ttotal: 3.93s\tremaining: 30.9s\n",
      "113:\tlearn: 0.3828120\ttotal: 3.94s\tremaining: 30.6s\n",
      "114:\tlearn: 0.3824337\ttotal: 4.03s\tremaining: 31s\n",
      "115:\tlearn: 0.3821042\ttotal: 4.03s\tremaining: 30.7s\n",
      "116:\tlearn: 0.3817692\ttotal: 4.12s\tremaining: 31.1s\n",
      "117:\tlearn: 0.3814830\ttotal: 4.13s\tremaining: 30.9s\n",
      "118:\tlearn: 0.3811650\ttotal: 4.13s\tremaining: 30.6s\n",
      "119:\tlearn: 0.3808243\ttotal: 4.21s\tremaining: 30.9s\n",
      "120:\tlearn: 0.3804800\ttotal: 4.22s\tremaining: 30.7s\n",
      "121:\tlearn: 0.3801838\ttotal: 4.23s\tremaining: 30.5s\n",
      "122:\tlearn: 0.3798771\ttotal: 4.32s\tremaining: 30.8s\n",
      "123:\tlearn: 0.3795772\ttotal: 4.33s\tremaining: 30.6s\n",
      "124:\tlearn: 0.3793119\ttotal: 4.34s\tremaining: 30.4s\n",
      "125:\tlearn: 0.3789451\ttotal: 4.42s\tremaining: 30.6s\n",
      "126:\tlearn: 0.3785311\ttotal: 4.42s\tremaining: 30.4s\n",
      "127:\tlearn: 0.3782484\ttotal: 4.43s\tremaining: 30.2s\n",
      "128:\tlearn: 0.3779318\ttotal: 4.52s\tremaining: 30.5s\n",
      "129:\tlearn: 0.3777130\ttotal: 4.53s\tremaining: 30.3s\n",
      "130:\tlearn: 0.3774939\ttotal: 4.53s\tremaining: 30.1s\n",
      "131:\tlearn: 0.3772989\ttotal: 4.62s\tremaining: 30.3s\n",
      "132:\tlearn: 0.3770278\ttotal: 4.62s\tremaining: 30.1s\n",
      "133:\tlearn: 0.3767540\ttotal: 4.71s\tremaining: 30.4s\n",
      "134:\tlearn: 0.3764700\ttotal: 4.72s\tremaining: 30.2s\n",
      "135:\tlearn: 0.3762232\ttotal: 4.73s\tremaining: 30s\n",
      "136:\tlearn: 0.3760819\ttotal: 4.81s\tremaining: 30.3s\n",
      "137:\tlearn: 0.3758211\ttotal: 4.82s\tremaining: 30.1s\n",
      "138:\tlearn: 0.3755732\ttotal: 4.9s\tremaining: 30.4s\n",
      "139:\tlearn: 0.3753241\ttotal: 4.91s\tremaining: 30.2s\n",
      "140:\tlearn: 0.3751161\ttotal: 4.92s\tremaining: 30s\n",
      "141:\tlearn: 0.3748231\ttotal: 4.99s\tremaining: 30.2s\n",
      "142:\tlearn: 0.3745690\ttotal: 5.01s\tremaining: 30s\n",
      "143:\tlearn: 0.3743201\ttotal: 5.02s\tremaining: 29.8s\n",
      "144:\tlearn: 0.3739214\ttotal: 5.1s\tremaining: 30.1s\n",
      "145:\tlearn: 0.3736393\ttotal: 5.11s\tremaining: 29.9s\n",
      "146:\tlearn: 0.3733126\ttotal: 5.11s\tremaining: 29.7s\n",
      "147:\tlearn: 0.3730832\ttotal: 5.19s\tremaining: 29.9s\n",
      "148:\tlearn: 0.3728832\ttotal: 5.2s\tremaining: 29.7s\n",
      "149:\tlearn: 0.3726283\ttotal: 5.21s\tremaining: 29.5s\n",
      "150:\tlearn: 0.3724194\ttotal: 5.28s\tremaining: 29.7s\n",
      "151:\tlearn: 0.3721533\ttotal: 5.3s\tremaining: 29.6s\n",
      "152:\tlearn: 0.3718105\ttotal: 5.31s\tremaining: 29.4s\n",
      "153:\tlearn: 0.3716297\ttotal: 5.39s\tremaining: 29.6s\n",
      "154:\tlearn: 0.3714368\ttotal: 5.4s\tremaining: 29.4s\n",
      "155:\tlearn: 0.3712659\ttotal: 5.41s\tremaining: 29.2s\n",
      "156:\tlearn: 0.3708863\ttotal: 5.49s\tremaining: 29.5s\n",
      "157:\tlearn: 0.3706710\ttotal: 5.5s\tremaining: 29.3s\n",
      "158:\tlearn: 0.3705427\ttotal: 5.5s\tremaining: 29.1s\n",
      "159:\tlearn: 0.3702966\ttotal: 5.59s\tremaining: 29.4s\n",
      "160:\tlearn: 0.3701642\ttotal: 5.6s\tremaining: 29.2s\n",
      "161:\tlearn: 0.3698303\ttotal: 5.61s\tremaining: 29s\n",
      "162:\tlearn: 0.3696847\ttotal: 5.69s\tremaining: 29.2s\n",
      "163:\tlearn: 0.3694692\ttotal: 5.7s\tremaining: 29s\n",
      "164:\tlearn: 0.3693360\ttotal: 5.7s\tremaining: 28.9s\n",
      "165:\tlearn: 0.3690356\ttotal: 5.72s\tremaining: 28.8s\n",
      "166:\tlearn: 0.3688309\ttotal: 5.73s\tremaining: 28.6s\n",
      "167:\tlearn: 0.3684998\ttotal: 5.8s\tremaining: 28.7s\n",
      "168:\tlearn: 0.3682885\ttotal: 5.83s\tremaining: 28.6s\n",
      "169:\tlearn: 0.3681167\ttotal: 5.83s\tremaining: 28.5s\n",
      "170:\tlearn: 0.3678326\ttotal: 5.91s\tremaining: 28.7s\n",
      "171:\tlearn: 0.3676061\ttotal: 5.92s\tremaining: 28.5s\n",
      "172:\tlearn: 0.3674287\ttotal: 5.93s\tremaining: 28.3s\n",
      "173:\tlearn: 0.3671993\ttotal: 6.01s\tremaining: 28.5s\n",
      "174:\tlearn: 0.3671064\ttotal: 6.02s\tremaining: 28.4s\n",
      "175:\tlearn: 0.3668267\ttotal: 6.03s\tremaining: 28.2s\n",
      "176:\tlearn: 0.3665105\ttotal: 6.12s\tremaining: 28.5s\n",
      "177:\tlearn: 0.3662984\ttotal: 6.13s\tremaining: 28.3s\n",
      "178:\tlearn: 0.3661549\ttotal: 6.22s\tremaining: 28.5s\n",
      "179:\tlearn: 0.3660664\ttotal: 6.22s\tremaining: 28.4s\n",
      "180:\tlearn: 0.3660521\ttotal: 6.23s\tremaining: 28.2s\n",
      "181:\tlearn: 0.3660265\ttotal: 6.31s\tremaining: 28.4s\n",
      "182:\tlearn: 0.3657962\ttotal: 6.32s\tremaining: 28.2s\n",
      "183:\tlearn: 0.3655139\ttotal: 6.32s\tremaining: 28s\n",
      "184:\tlearn: 0.3653962\ttotal: 6.41s\tremaining: 28.2s\n",
      "185:\tlearn: 0.3653880\ttotal: 6.42s\tremaining: 28.1s\n",
      "186:\tlearn: 0.3651580\ttotal: 6.42s\tremaining: 27.9s\n",
      "187:\tlearn: 0.3649987\ttotal: 6.5s\tremaining: 28.1s\n",
      "188:\tlearn: 0.3646460\ttotal: 6.51s\tremaining: 27.9s\n",
      "189:\tlearn: 0.3643996\ttotal: 6.52s\tremaining: 27.8s\n",
      "190:\tlearn: 0.3641653\ttotal: 6.6s\tremaining: 28s\n",
      "191:\tlearn: 0.3639917\ttotal: 6.61s\tremaining: 27.8s\n",
      "192:\tlearn: 0.3638100\ttotal: 6.62s\tremaining: 27.7s\n",
      "193:\tlearn: 0.3635494\ttotal: 6.7s\tremaining: 27.8s\n",
      "194:\tlearn: 0.3633728\ttotal: 6.71s\tremaining: 27.7s\n",
      "195:\tlearn: 0.3630535\ttotal: 6.71s\tremaining: 27.5s\n",
      "196:\tlearn: 0.3628232\ttotal: 6.79s\tremaining: 27.7s\n",
      "197:\tlearn: 0.3626317\ttotal: 6.8s\tremaining: 27.5s\n",
      "198:\tlearn: 0.3624412\ttotal: 6.81s\tremaining: 27.4s\n",
      "199:\tlearn: 0.3621617\ttotal: 6.88s\tremaining: 27.5s\n",
      "200:\tlearn: 0.3619696\ttotal: 6.9s\tremaining: 27.4s\n",
      "201:\tlearn: 0.3616307\ttotal: 6.91s\tremaining: 27.3s\n",
      "202:\tlearn: 0.3614870\ttotal: 6.99s\tremaining: 27.5s\n",
      "203:\tlearn: 0.3613089\ttotal: 7s\tremaining: 27.3s\n",
      "204:\tlearn: 0.3610826\ttotal: 7.01s\tremaining: 27.2s\n",
      "205:\tlearn: 0.3607755\ttotal: 7.09s\tremaining: 27.3s\n",
      "206:\tlearn: 0.3607252\ttotal: 7.09s\tremaining: 27.2s\n",
      "207:\tlearn: 0.3604958\ttotal: 7.1s\tremaining: 27s\n",
      "208:\tlearn: 0.3602136\ttotal: 7.19s\tremaining: 27.2s\n",
      "209:\tlearn: 0.3601821\ttotal: 7.2s\tremaining: 27.1s\n",
      "210:\tlearn: 0.3599425\ttotal: 7.21s\tremaining: 26.9s\n",
      "211:\tlearn: 0.3595082\ttotal: 7.29s\tremaining: 27.1s\n",
      "212:\tlearn: 0.3593010\ttotal: 7.29s\tremaining: 26.9s\n",
      "213:\tlearn: 0.3591517\ttotal: 7.3s\tremaining: 26.8s\n",
      "214:\tlearn: 0.3589005\ttotal: 7.38s\tremaining: 27s\n",
      "215:\tlearn: 0.3587963\ttotal: 7.39s\tremaining: 26.8s\n",
      "216:\tlearn: 0.3585417\ttotal: 7.4s\tremaining: 26.7s\n",
      "217:\tlearn: 0.3583638\ttotal: 7.48s\tremaining: 26.8s\n",
      "218:\tlearn: 0.3582920\ttotal: 7.49s\tremaining: 26.7s\n",
      "219:\tlearn: 0.3580898\ttotal: 7.5s\tremaining: 26.6s\n",
      "220:\tlearn: 0.3579013\ttotal: 7.58s\tremaining: 26.7s\n",
      "221:\tlearn: 0.3575491\ttotal: 7.59s\tremaining: 26.6s\n",
      "222:\tlearn: 0.3573409\ttotal: 7.59s\tremaining: 26.5s\n",
      "223:\tlearn: 0.3572783\ttotal: 7.67s\tremaining: 26.6s\n",
      "224:\tlearn: 0.3570218\ttotal: 7.68s\tremaining: 26.4s\n",
      "225:\tlearn: 0.3568490\ttotal: 7.68s\tremaining: 26.3s\n",
      "226:\tlearn: 0.3566206\ttotal: 7.77s\tremaining: 26.4s\n",
      "227:\tlearn: 0.3565000\ttotal: 7.77s\tremaining: 26.3s\n",
      "228:\tlearn: 0.3563896\ttotal: 7.78s\tremaining: 26.2s\n",
      "229:\tlearn: 0.3561690\ttotal: 7.87s\tremaining: 26.3s\n",
      "230:\tlearn: 0.3559916\ttotal: 7.88s\tremaining: 26.2s\n",
      "231:\tlearn: 0.3556223\ttotal: 7.96s\tremaining: 26.4s\n",
      "232:\tlearn: 0.3554068\ttotal: 7.97s\tremaining: 26.2s\n",
      "233:\tlearn: 0.3552512\ttotal: 8.05s\tremaining: 26.4s\n",
      "234:\tlearn: 0.3549461\ttotal: 8.07s\tremaining: 26.3s\n",
      "235:\tlearn: 0.3546847\ttotal: 8.08s\tremaining: 26.2s\n",
      "236:\tlearn: 0.3545370\ttotal: 8.16s\tremaining: 26.3s\n",
      "237:\tlearn: 0.3542602\ttotal: 8.17s\tremaining: 26.2s\n",
      "238:\tlearn: 0.3541452\ttotal: 8.25s\tremaining: 26.3s\n",
      "239:\tlearn: 0.3539772\ttotal: 8.26s\tremaining: 26.1s\n",
      "240:\tlearn: 0.3536501\ttotal: 8.26s\tremaining: 26s\n",
      "241:\tlearn: 0.3535284\ttotal: 8.35s\tremaining: 26.1s\n",
      "242:\tlearn: 0.3532894\ttotal: 8.35s\tremaining: 26s\n",
      "243:\tlearn: 0.3531167\ttotal: 8.36s\tremaining: 25.9s\n",
      "244:\tlearn: 0.3530034\ttotal: 8.45s\tremaining: 26s\n",
      "245:\tlearn: 0.3528513\ttotal: 8.46s\tremaining: 25.9s\n",
      "246:\tlearn: 0.3525992\ttotal: 8.54s\tremaining: 26s\n",
      "247:\tlearn: 0.3525093\ttotal: 8.55s\tremaining: 25.9s\n",
      "248:\tlearn: 0.3523907\ttotal: 8.55s\tremaining: 25.8s\n",
      "249:\tlearn: 0.3522773\ttotal: 8.65s\tremaining: 25.9s\n",
      "250:\tlearn: 0.3520064\ttotal: 8.65s\tremaining: 25.8s\n",
      "251:\tlearn: 0.3517719\ttotal: 8.66s\tremaining: 25.7s\n",
      "252:\tlearn: 0.3515965\ttotal: 8.74s\tremaining: 25.8s\n",
      "253:\tlearn: 0.3514273\ttotal: 8.75s\tremaining: 25.7s\n",
      "254:\tlearn: 0.3512078\ttotal: 8.76s\tremaining: 25.6s\n",
      "255:\tlearn: 0.3510094\ttotal: 8.84s\tremaining: 25.7s\n",
      "256:\tlearn: 0.3509455\ttotal: 8.85s\tremaining: 25.6s\n",
      "257:\tlearn: 0.3508105\ttotal: 8.86s\tremaining: 25.5s\n",
      "258:\tlearn: 0.3505797\ttotal: 8.88s\tremaining: 25.4s\n",
      "259:\tlearn: 0.3504178\ttotal: 8.89s\tremaining: 25.3s\n",
      "260:\tlearn: 0.3501653\ttotal: 8.89s\tremaining: 25.2s\n",
      "261:\tlearn: 0.3498876\ttotal: 8.98s\tremaining: 25.3s\n",
      "262:\tlearn: 0.3497012\ttotal: 8.98s\tremaining: 25.2s\n",
      "263:\tlearn: 0.3495126\ttotal: 8.99s\tremaining: 25.1s\n",
      "264:\tlearn: 0.3492690\ttotal: 9.07s\tremaining: 25.2s\n",
      "265:\tlearn: 0.3491453\ttotal: 9.08s\tremaining: 25.1s\n",
      "266:\tlearn: 0.3488970\ttotal: 9.09s\tremaining: 25s\n",
      "267:\tlearn: 0.3487072\ttotal: 9.18s\tremaining: 25.1s\n",
      "268:\tlearn: 0.3485510\ttotal: 9.18s\tremaining: 25s\n",
      "269:\tlearn: 0.3483580\ttotal: 9.19s\tremaining: 24.8s\n",
      "270:\tlearn: 0.3482225\ttotal: 9.27s\tremaining: 24.9s\n",
      "271:\tlearn: 0.3480844\ttotal: 9.28s\tremaining: 24.8s\n",
      "272:\tlearn: 0.3479719\ttotal: 9.29s\tremaining: 24.7s\n",
      "273:\tlearn: 0.3477025\ttotal: 9.37s\tremaining: 24.8s\n",
      "274:\tlearn: 0.3475855\ttotal: 9.38s\tremaining: 24.7s\n",
      "275:\tlearn: 0.3474372\ttotal: 9.38s\tremaining: 24.6s\n",
      "276:\tlearn: 0.3473241\ttotal: 9.47s\tremaining: 24.7s\n",
      "277:\tlearn: 0.3471808\ttotal: 9.48s\tremaining: 24.6s\n",
      "278:\tlearn: 0.3470306\ttotal: 9.55s\tremaining: 24.7s\n",
      "279:\tlearn: 0.3468444\ttotal: 9.57s\tremaining: 24.6s\n",
      "280:\tlearn: 0.3466279\ttotal: 9.58s\tremaining: 24.5s\n",
      "281:\tlearn: 0.3465087\ttotal: 9.64s\tremaining: 24.6s\n",
      "282:\tlearn: 0.3463499\ttotal: 9.67s\tremaining: 24.5s\n",
      "283:\tlearn: 0.3462050\ttotal: 9.67s\tremaining: 24.4s\n",
      "284:\tlearn: 0.3460632\ttotal: 9.76s\tremaining: 24.5s\n",
      "285:\tlearn: 0.3458426\ttotal: 9.77s\tremaining: 24.4s\n",
      "286:\tlearn: 0.3456817\ttotal: 9.84s\tremaining: 24.5s\n",
      "287:\tlearn: 0.3453512\ttotal: 9.86s\tremaining: 24.4s\n",
      "288:\tlearn: 0.3450864\ttotal: 9.86s\tremaining: 24.3s\n",
      "289:\tlearn: 0.3449485\ttotal: 9.95s\tremaining: 24.4s\n",
      "290:\tlearn: 0.3447493\ttotal: 9.96s\tremaining: 24.3s\n",
      "291:\tlearn: 0.3445322\ttotal: 9.96s\tremaining: 24.2s\n",
      "292:\tlearn: 0.3442995\ttotal: 10.1s\tremaining: 24.3s\n",
      "293:\tlearn: 0.3440707\ttotal: 10.1s\tremaining: 24.2s\n",
      "294:\tlearn: 0.3439383\ttotal: 10.1s\tremaining: 24.1s\n",
      "295:\tlearn: 0.3437387\ttotal: 10.1s\tremaining: 24.1s\n",
      "296:\tlearn: 0.3435554\ttotal: 10.2s\tremaining: 24s\n",
      "297:\tlearn: 0.3433808\ttotal: 10.2s\tremaining: 23.9s\n",
      "298:\tlearn: 0.3431731\ttotal: 10.2s\tremaining: 24s\n",
      "299:\tlearn: 0.3429718\ttotal: 10.3s\tremaining: 23.9s\n",
      "300:\tlearn: 0.3427952\ttotal: 10.3s\tremaining: 24s\n",
      "301:\tlearn: 0.3425279\ttotal: 10.4s\tremaining: 23.9s\n",
      "302:\tlearn: 0.3423119\ttotal: 10.4s\tremaining: 23.8s\n",
      "303:\tlearn: 0.3421593\ttotal: 10.4s\tremaining: 23.9s\n",
      "304:\tlearn: 0.3420108\ttotal: 10.4s\tremaining: 23.8s\n",
      "305:\tlearn: 0.3418428\ttotal: 10.5s\tremaining: 23.7s\n",
      "306:\tlearn: 0.3417086\ttotal: 10.5s\tremaining: 23.8s\n",
      "307:\tlearn: 0.3415598\ttotal: 10.6s\tremaining: 23.7s\n",
      "308:\tlearn: 0.3414622\ttotal: 10.6s\tremaining: 23.8s\n",
      "309:\tlearn: 0.3413791\ttotal: 10.6s\tremaining: 23.7s\n",
      "310:\tlearn: 0.3410829\ttotal: 10.7s\tremaining: 23.6s\n",
      "311:\tlearn: 0.3409777\ttotal: 10.7s\tremaining: 23.7s\n",
      "312:\tlearn: 0.3408384\ttotal: 10.7s\tremaining: 23.6s\n",
      "313:\tlearn: 0.3405507\ttotal: 10.8s\tremaining: 23.5s\n",
      "314:\tlearn: 0.3403039\ttotal: 10.8s\tremaining: 23.6s\n",
      "315:\tlearn: 0.3401316\ttotal: 10.8s\tremaining: 23.5s\n",
      "316:\tlearn: 0.3398864\ttotal: 10.9s\tremaining: 23.6s\n",
      "317:\tlearn: 0.3396168\ttotal: 10.9s\tremaining: 23.5s\n",
      "318:\tlearn: 0.3394541\ttotal: 10.9s\tremaining: 23.4s\n",
      "319:\tlearn: 0.3392442\ttotal: 11s\tremaining: 23.4s\n",
      "320:\tlearn: 0.3390904\ttotal: 11s\tremaining: 23.3s\n",
      "321:\tlearn: 0.3388226\ttotal: 11s\tremaining: 23.3s\n",
      "322:\tlearn: 0.3386052\ttotal: 11.1s\tremaining: 23.2s\n",
      "323:\tlearn: 0.3383149\ttotal: 11.1s\tremaining: 23.2s\n",
      "324:\tlearn: 0.3380668\ttotal: 11.2s\tremaining: 23.2s\n",
      "325:\tlearn: 0.3379254\ttotal: 11.2s\tremaining: 23.1s\n",
      "326:\tlearn: 0.3377311\ttotal: 11.2s\tremaining: 23.1s\n",
      "327:\tlearn: 0.3375452\ttotal: 11.2s\tremaining: 23s\n",
      "328:\tlearn: 0.3373908\ttotal: 11.3s\tremaining: 23.1s\n",
      "329:\tlearn: 0.3371267\ttotal: 11.3s\tremaining: 23s\n",
      "330:\tlearn: 0.3368677\ttotal: 11.3s\tremaining: 22.9s\n",
      "331:\tlearn: 0.3367263\ttotal: 11.4s\tremaining: 23s\n",
      "332:\tlearn: 0.3364984\ttotal: 11.4s\tremaining: 22.9s\n",
      "333:\tlearn: 0.3363208\ttotal: 11.5s\tremaining: 23s\n",
      "334:\tlearn: 0.3361527\ttotal: 11.5s\tremaining: 22.9s\n",
      "335:\tlearn: 0.3359759\ttotal: 11.5s\tremaining: 22.8s\n",
      "336:\tlearn: 0.3358413\ttotal: 11.6s\tremaining: 22.9s\n",
      "337:\tlearn: 0.3355801\ttotal: 11.6s\tremaining: 22.8s\n",
      "338:\tlearn: 0.3353744\ttotal: 11.6s\tremaining: 22.7s\n",
      "339:\tlearn: 0.3352523\ttotal: 11.7s\tremaining: 22.8s\n",
      "340:\tlearn: 0.3350557\ttotal: 11.7s\tremaining: 22.7s\n",
      "341:\tlearn: 0.3348848\ttotal: 11.8s\tremaining: 22.7s\n",
      "342:\tlearn: 0.3347102\ttotal: 11.8s\tremaining: 22.6s\n",
      "343:\tlearn: 0.3344195\ttotal: 11.8s\tremaining: 22.6s\n",
      "344:\tlearn: 0.3342861\ttotal: 11.9s\tremaining: 22.6s\n",
      "345:\tlearn: 0.3342168\ttotal: 11.9s\tremaining: 22.5s\n",
      "346:\tlearn: 0.3339896\ttotal: 11.9s\tremaining: 22.4s\n",
      "347:\tlearn: 0.3337816\ttotal: 11.9s\tremaining: 22.4s\n",
      "348:\tlearn: 0.3336179\ttotal: 12s\tremaining: 22.4s\n",
      "349:\tlearn: 0.3334897\ttotal: 12s\tremaining: 22.3s\n",
      "350:\tlearn: 0.3333057\ttotal: 12.1s\tremaining: 22.4s\n",
      "351:\tlearn: 0.3331512\ttotal: 12.1s\tremaining: 22.3s\n",
      "352:\tlearn: 0.3330275\ttotal: 12.1s\tremaining: 22.2s\n",
      "353:\tlearn: 0.3327589\ttotal: 12.2s\tremaining: 22.3s\n",
      "354:\tlearn: 0.3326290\ttotal: 12.2s\tremaining: 22.2s\n",
      "355:\tlearn: 0.3324300\ttotal: 12.2s\tremaining: 22.1s\n",
      "356:\tlearn: 0.3322315\ttotal: 12.2s\tremaining: 22.1s\n",
      "357:\tlearn: 0.3320754\ttotal: 12.3s\tremaining: 22s\n",
      "358:\tlearn: 0.3318154\ttotal: 12.3s\tremaining: 21.9s\n",
      "359:\tlearn: 0.3315382\ttotal: 12.3s\tremaining: 21.9s\n",
      "360:\tlearn: 0.3312786\ttotal: 12.4s\tremaining: 21.9s\n",
      "361:\tlearn: 0.3310918\ttotal: 12.4s\tremaining: 21.9s\n",
      "362:\tlearn: 0.3308824\ttotal: 12.5s\tremaining: 21.9s\n",
      "363:\tlearn: 0.3307622\ttotal: 12.5s\tremaining: 21.8s\n",
      "364:\tlearn: 0.3305279\ttotal: 12.5s\tremaining: 21.8s\n",
      "365:\tlearn: 0.3303108\ttotal: 12.5s\tremaining: 21.7s\n",
      "366:\tlearn: 0.3300755\ttotal: 12.6s\tremaining: 21.7s\n",
      "367:\tlearn: 0.3298712\ttotal: 12.6s\tremaining: 21.7s\n",
      "368:\tlearn: 0.3297283\ttotal: 12.6s\tremaining: 21.6s\n",
      "369:\tlearn: 0.3295507\ttotal: 12.7s\tremaining: 21.5s\n",
      "370:\tlearn: 0.3293715\ttotal: 12.7s\tremaining: 21.6s\n",
      "371:\tlearn: 0.3291271\ttotal: 12.7s\tremaining: 21.5s\n",
      "372:\tlearn: 0.3289631\ttotal: 12.8s\tremaining: 21.6s\n",
      "373:\tlearn: 0.3288152\ttotal: 12.8s\tremaining: 21.5s\n",
      "374:\tlearn: 0.3286226\ttotal: 12.8s\tremaining: 21.4s\n",
      "375:\tlearn: 0.3284619\ttotal: 12.9s\tremaining: 21.5s\n",
      "376:\tlearn: 0.3283226\ttotal: 12.9s\tremaining: 21.4s\n",
      "377:\tlearn: 0.3281200\ttotal: 13s\tremaining: 21.4s\n",
      "378:\tlearn: 0.3278746\ttotal: 13s\tremaining: 21.4s\n",
      "379:\tlearn: 0.3276773\ttotal: 13s\tremaining: 21.3s\n",
      "380:\tlearn: 0.3274854\ttotal: 13.1s\tremaining: 21.3s\n",
      "381:\tlearn: 0.3273489\ttotal: 13.1s\tremaining: 21.2s\n",
      "382:\tlearn: 0.3272061\ttotal: 13.2s\tremaining: 21.3s\n",
      "383:\tlearn: 0.3270227\ttotal: 13.2s\tremaining: 21.2s\n",
      "384:\tlearn: 0.3267629\ttotal: 13.2s\tremaining: 21.1s\n",
      "385:\tlearn: 0.3264890\ttotal: 13.3s\tremaining: 21.2s\n",
      "386:\tlearn: 0.3262639\ttotal: 13.3s\tremaining: 21.1s\n",
      "387:\tlearn: 0.3260565\ttotal: 13.3s\tremaining: 21s\n",
      "388:\tlearn: 0.3258417\ttotal: 13.4s\tremaining: 21.1s\n",
      "389:\tlearn: 0.3257141\ttotal: 13.4s\tremaining: 21s\n",
      "390:\tlearn: 0.3255778\ttotal: 13.5s\tremaining: 21s\n",
      "391:\tlearn: 0.3254777\ttotal: 13.5s\tremaining: 20.9s\n",
      "392:\tlearn: 0.3253555\ttotal: 13.5s\tremaining: 20.9s\n",
      "393:\tlearn: 0.3251234\ttotal: 13.5s\tremaining: 20.8s\n",
      "394:\tlearn: 0.3248158\ttotal: 13.6s\tremaining: 20.9s\n",
      "395:\tlearn: 0.3246905\ttotal: 13.6s\tremaining: 20.8s\n",
      "396:\tlearn: 0.3245519\ttotal: 13.6s\tremaining: 20.7s\n",
      "397:\tlearn: 0.3244200\ttotal: 13.7s\tremaining: 20.7s\n",
      "398:\tlearn: 0.3241629\ttotal: 13.7s\tremaining: 20.7s\n",
      "399:\tlearn: 0.3240306\ttotal: 13.8s\tremaining: 20.7s\n",
      "400:\tlearn: 0.3239068\ttotal: 13.8s\tremaining: 20.6s\n",
      "401:\tlearn: 0.3237822\ttotal: 13.8s\tremaining: 20.6s\n",
      "402:\tlearn: 0.3235870\ttotal: 13.9s\tremaining: 20.6s\n",
      "403:\tlearn: 0.3234644\ttotal: 13.9s\tremaining: 20.5s\n",
      "404:\tlearn: 0.3232860\ttotal: 13.9s\tremaining: 20.4s\n",
      "405:\tlearn: 0.3230791\ttotal: 14s\tremaining: 20.5s\n",
      "406:\tlearn: 0.3229314\ttotal: 14s\tremaining: 20.4s\n",
      "407:\tlearn: 0.3227480\ttotal: 14s\tremaining: 20.3s\n",
      "408:\tlearn: 0.3226214\ttotal: 14.1s\tremaining: 20.4s\n",
      "409:\tlearn: 0.3224016\ttotal: 14.1s\tremaining: 20.3s\n",
      "410:\tlearn: 0.3222648\ttotal: 14.1s\tremaining: 20.2s\n",
      "411:\tlearn: 0.3220603\ttotal: 14.2s\tremaining: 20.3s\n",
      "412:\tlearn: 0.3218485\ttotal: 14.2s\tremaining: 20.2s\n",
      "413:\tlearn: 0.3216912\ttotal: 14.2s\tremaining: 20.1s\n",
      "414:\tlearn: 0.3215272\ttotal: 14.3s\tremaining: 20.2s\n",
      "415:\tlearn: 0.3213638\ttotal: 14.3s\tremaining: 20.1s\n",
      "416:\tlearn: 0.3211595\ttotal: 14.3s\tremaining: 20s\n",
      "417:\tlearn: 0.3210126\ttotal: 14.4s\tremaining: 20.1s\n",
      "418:\tlearn: 0.3207731\ttotal: 14.4s\tremaining: 20s\n",
      "419:\tlearn: 0.3205465\ttotal: 14.5s\tremaining: 20s\n",
      "420:\tlearn: 0.3204115\ttotal: 14.5s\tremaining: 19.9s\n",
      "421:\tlearn: 0.3202537\ttotal: 14.5s\tremaining: 19.9s\n",
      "422:\tlearn: 0.3200803\ttotal: 14.6s\tremaining: 19.9s\n",
      "423:\tlearn: 0.3197610\ttotal: 14.6s\tremaining: 19.8s\n",
      "424:\tlearn: 0.3195265\ttotal: 14.6s\tremaining: 19.8s\n",
      "425:\tlearn: 0.3193210\ttotal: 14.7s\tremaining: 19.8s\n",
      "426:\tlearn: 0.3191293\ttotal: 14.7s\tremaining: 19.7s\n",
      "427:\tlearn: 0.3190312\ttotal: 14.8s\tremaining: 19.8s\n",
      "428:\tlearn: 0.3188395\ttotal: 14.8s\tremaining: 19.7s\n",
      "429:\tlearn: 0.3187453\ttotal: 14.8s\tremaining: 19.6s\n",
      "430:\tlearn: 0.3185701\ttotal: 14.8s\tremaining: 19.5s\n",
      "431:\tlearn: 0.3184462\ttotal: 14.9s\tremaining: 19.6s\n",
      "432:\tlearn: 0.3182681\ttotal: 14.9s\tremaining: 19.5s\n",
      "433:\tlearn: 0.3181038\ttotal: 15s\tremaining: 19.5s\n",
      "434:\tlearn: 0.3179782\ttotal: 15s\tremaining: 19.5s\n",
      "435:\tlearn: 0.3178682\ttotal: 15s\tremaining: 19.4s\n",
      "436:\tlearn: 0.3177641\ttotal: 15.1s\tremaining: 19.4s\n",
      "437:\tlearn: 0.3175838\ttotal: 15.1s\tremaining: 19.4s\n",
      "438:\tlearn: 0.3173890\ttotal: 15.2s\tremaining: 19.4s\n",
      "439:\tlearn: 0.3172141\ttotal: 15.2s\tremaining: 19.3s\n",
      "440:\tlearn: 0.3170351\ttotal: 15.2s\tremaining: 19.3s\n",
      "441:\tlearn: 0.3168210\ttotal: 15.3s\tremaining: 19.3s\n",
      "442:\tlearn: 0.3166410\ttotal: 15.3s\tremaining: 19.2s\n",
      "443:\tlearn: 0.3164261\ttotal: 15.3s\tremaining: 19.1s\n",
      "444:\tlearn: 0.3163352\ttotal: 15.4s\tremaining: 19.2s\n",
      "445:\tlearn: 0.3161782\ttotal: 15.4s\tremaining: 19.1s\n",
      "446:\tlearn: 0.3160657\ttotal: 15.4s\tremaining: 19s\n",
      "447:\tlearn: 0.3159056\ttotal: 15.5s\tremaining: 19.1s\n",
      "448:\tlearn: 0.3156536\ttotal: 15.5s\tremaining: 19s\n",
      "449:\tlearn: 0.3154610\ttotal: 15.6s\tremaining: 19s\n",
      "450:\tlearn: 0.3152686\ttotal: 15.6s\tremaining: 19s\n",
      "451:\tlearn: 0.3150680\ttotal: 15.6s\tremaining: 18.9s\n",
      "452:\tlearn: 0.3149708\ttotal: 15.7s\tremaining: 18.9s\n",
      "453:\tlearn: 0.3148184\ttotal: 15.7s\tremaining: 18.9s\n",
      "454:\tlearn: 0.3146867\ttotal: 15.7s\tremaining: 18.8s\n",
      "455:\tlearn: 0.3144826\ttotal: 15.8s\tremaining: 18.8s\n",
      "456:\tlearn: 0.3143020\ttotal: 15.8s\tremaining: 18.8s\n",
      "457:\tlearn: 0.3141207\ttotal: 15.9s\tremaining: 18.8s\n",
      "458:\tlearn: 0.3139244\ttotal: 15.9s\tremaining: 18.7s\n",
      "459:\tlearn: 0.3138409\ttotal: 15.9s\tremaining: 18.6s\n",
      "460:\tlearn: 0.3137610\ttotal: 16s\tremaining: 18.7s\n",
      "461:\tlearn: 0.3136079\ttotal: 16s\tremaining: 18.6s\n",
      "462:\tlearn: 0.3134648\ttotal: 16s\tremaining: 18.5s\n",
      "463:\tlearn: 0.3132272\ttotal: 16.1s\tremaining: 18.6s\n",
      "464:\tlearn: 0.3131193\ttotal: 16.1s\tremaining: 18.5s\n",
      "465:\tlearn: 0.3130011\ttotal: 16.1s\tremaining: 18.4s\n",
      "466:\tlearn: 0.3128292\ttotal: 16.2s\tremaining: 18.4s\n",
      "467:\tlearn: 0.3127217\ttotal: 16.2s\tremaining: 18.4s\n",
      "468:\tlearn: 0.3125186\ttotal: 16.2s\tremaining: 18.3s\n",
      "469:\tlearn: 0.3123751\ttotal: 16.3s\tremaining: 18.3s\n",
      "470:\tlearn: 0.3122196\ttotal: 16.3s\tremaining: 18.3s\n",
      "471:\tlearn: 0.3121110\ttotal: 16.4s\tremaining: 18.3s\n",
      "472:\tlearn: 0.3120101\ttotal: 16.4s\tremaining: 18.2s\n",
      "473:\tlearn: 0.3119059\ttotal: 16.4s\tremaining: 18.2s\n",
      "474:\tlearn: 0.3117513\ttotal: 16.4s\tremaining: 18.2s\n",
      "475:\tlearn: 0.3115519\ttotal: 16.5s\tremaining: 18.1s\n",
      "476:\tlearn: 0.3113904\ttotal: 16.5s\tremaining: 18.1s\n",
      "477:\tlearn: 0.3111964\ttotal: 16.6s\tremaining: 18.1s\n",
      "478:\tlearn: 0.3109986\ttotal: 16.6s\tremaining: 18s\n",
      "479:\tlearn: 0.3108056\ttotal: 16.6s\tremaining: 18s\n",
      "480:\tlearn: 0.3106907\ttotal: 16.7s\tremaining: 18s\n",
      "481:\tlearn: 0.3106164\ttotal: 16.7s\tremaining: 17.9s\n",
      "482:\tlearn: 0.3104461\ttotal: 16.7s\tremaining: 17.8s\n",
      "483:\tlearn: 0.3102688\ttotal: 16.8s\tremaining: 17.9s\n",
      "484:\tlearn: 0.3101033\ttotal: 16.8s\tremaining: 17.8s\n",
      "485:\tlearn: 0.3099512\ttotal: 16.8s\tremaining: 17.7s\n",
      "486:\tlearn: 0.3097805\ttotal: 16.9s\tremaining: 17.8s\n",
      "487:\tlearn: 0.3096067\ttotal: 16.9s\tremaining: 17.7s\n",
      "488:\tlearn: 0.3095427\ttotal: 16.9s\tremaining: 17.6s\n",
      "489:\tlearn: 0.3094264\ttotal: 16.9s\tremaining: 17.6s\n",
      "490:\tlearn: 0.3092511\ttotal: 17s\tremaining: 17.6s\n",
      "491:\tlearn: 0.3091069\ttotal: 17s\tremaining: 17.6s\n",
      "492:\tlearn: 0.3089975\ttotal: 17s\tremaining: 17.5s\n",
      "493:\tlearn: 0.3089378\ttotal: 17.1s\tremaining: 17.5s\n",
      "494:\tlearn: 0.3087334\ttotal: 17.1s\tremaining: 17.5s\n",
      "495:\tlearn: 0.3085757\ttotal: 17.2s\tremaining: 17.4s\n",
      "496:\tlearn: 0.3084151\ttotal: 17.2s\tremaining: 17.4s\n",
      "497:\tlearn: 0.3083016\ttotal: 17.2s\tremaining: 17.4s\n",
      "498:\tlearn: 0.3081559\ttotal: 17.2s\tremaining: 17.3s\n",
      "499:\tlearn: 0.3079763\ttotal: 17.3s\tremaining: 17.3s\n",
      "500:\tlearn: 0.3078715\ttotal: 17.3s\tremaining: 17.3s\n",
      "501:\tlearn: 0.3077709\ttotal: 17.3s\tremaining: 17.2s\n",
      "502:\tlearn: 0.3077026\ttotal: 17.4s\tremaining: 17.2s\n",
      "503:\tlearn: 0.3075455\ttotal: 17.4s\tremaining: 17.2s\n",
      "504:\tlearn: 0.3073439\ttotal: 17.4s\tremaining: 17.1s\n",
      "505:\tlearn: 0.3071272\ttotal: 17.5s\tremaining: 17.1s\n",
      "506:\tlearn: 0.3070623\ttotal: 17.5s\tremaining: 17.1s\n",
      "507:\tlearn: 0.3069680\ttotal: 17.6s\tremaining: 17.1s\n",
      "508:\tlearn: 0.3068800\ttotal: 17.6s\tremaining: 17s\n",
      "509:\tlearn: 0.3066887\ttotal: 17.6s\tremaining: 16.9s\n",
      "510:\tlearn: 0.3065662\ttotal: 17.7s\tremaining: 17s\n",
      "511:\tlearn: 0.3063947\ttotal: 17.7s\tremaining: 16.9s\n",
      "512:\tlearn: 0.3062565\ttotal: 17.7s\tremaining: 16.8s\n",
      "513:\tlearn: 0.3061249\ttotal: 17.8s\tremaining: 16.8s\n",
      "514:\tlearn: 0.3059537\ttotal: 17.8s\tremaining: 16.8s\n",
      "515:\tlearn: 0.3058171\ttotal: 17.8s\tremaining: 16.7s\n",
      "516:\tlearn: 0.3057114\ttotal: 17.9s\tremaining: 16.7s\n",
      "517:\tlearn: 0.3056119\ttotal: 17.9s\tremaining: 16.7s\n",
      "518:\tlearn: 0.3054115\ttotal: 18s\tremaining: 16.7s\n",
      "519:\tlearn: 0.3052843\ttotal: 18s\tremaining: 16.6s\n",
      "520:\tlearn: 0.3051848\ttotal: 18s\tremaining: 16.6s\n",
      "521:\tlearn: 0.3050203\ttotal: 18.1s\tremaining: 16.6s\n",
      "522:\tlearn: 0.3049277\ttotal: 18.1s\tremaining: 16.5s\n",
      "523:\tlearn: 0.3047217\ttotal: 18.2s\tremaining: 16.5s\n",
      "524:\tlearn: 0.3045444\ttotal: 18.2s\tremaining: 16.5s\n",
      "525:\tlearn: 0.3043246\ttotal: 18.2s\tremaining: 16.4s\n",
      "526:\tlearn: 0.3042119\ttotal: 18.3s\tremaining: 16.4s\n",
      "527:\tlearn: 0.3040820\ttotal: 18.3s\tremaining: 16.4s\n",
      "528:\tlearn: 0.3038799\ttotal: 18.3s\tremaining: 16.3s\n",
      "529:\tlearn: 0.3037428\ttotal: 18.4s\tremaining: 16.3s\n",
      "530:\tlearn: 0.3036417\ttotal: 18.4s\tremaining: 16.3s\n",
      "531:\tlearn: 0.3035581\ttotal: 18.5s\tremaining: 16.3s\n",
      "532:\tlearn: 0.3033310\ttotal: 18.5s\tremaining: 16.2s\n",
      "533:\tlearn: 0.3031908\ttotal: 18.5s\tremaining: 16.2s\n",
      "534:\tlearn: 0.3031140\ttotal: 18.6s\tremaining: 16.2s\n",
      "535:\tlearn: 0.3029668\ttotal: 18.6s\tremaining: 16.1s\n",
      "536:\tlearn: 0.3028270\ttotal: 18.6s\tremaining: 16.1s\n",
      "537:\tlearn: 0.3027205\ttotal: 18.7s\tremaining: 16.1s\n",
      "538:\tlearn: 0.3025940\ttotal: 18.7s\tremaining: 16s\n",
      "539:\tlearn: 0.3024692\ttotal: 18.8s\tremaining: 16s\n",
      "540:\tlearn: 0.3023443\ttotal: 18.8s\tremaining: 16s\n",
      "541:\tlearn: 0.3022614\ttotal: 18.8s\tremaining: 15.9s\n",
      "542:\tlearn: 0.3021340\ttotal: 18.9s\tremaining: 15.9s\n",
      "543:\tlearn: 0.3019417\ttotal: 18.9s\tremaining: 15.8s\n",
      "544:\tlearn: 0.3017682\ttotal: 18.9s\tremaining: 15.8s\n",
      "545:\tlearn: 0.3017140\ttotal: 19s\tremaining: 15.8s\n",
      "546:\tlearn: 0.3016196\ttotal: 19s\tremaining: 15.7s\n",
      "547:\tlearn: 0.3014401\ttotal: 19.1s\tremaining: 15.7s\n",
      "548:\tlearn: 0.3013601\ttotal: 19.1s\tremaining: 15.7s\n",
      "549:\tlearn: 0.3012333\ttotal: 19.1s\tremaining: 15.6s\n",
      "550:\tlearn: 0.3010874\ttotal: 19.2s\tremaining: 15.6s\n",
      "551:\tlearn: 0.3009593\ttotal: 19.2s\tremaining: 15.6s\n",
      "552:\tlearn: 0.3008286\ttotal: 19.2s\tremaining: 15.5s\n",
      "553:\tlearn: 0.3006401\ttotal: 19.3s\tremaining: 15.5s\n",
      "554:\tlearn: 0.3004933\ttotal: 19.3s\tremaining: 15.5s\n",
      "555:\tlearn: 0.3003342\ttotal: 19.3s\tremaining: 15.4s\n",
      "556:\tlearn: 0.3002310\ttotal: 19.4s\tremaining: 15.4s\n",
      "557:\tlearn: 0.3001157\ttotal: 19.4s\tremaining: 15.4s\n",
      "558:\tlearn: 0.2999625\ttotal: 19.4s\tremaining: 15.3s\n",
      "559:\tlearn: 0.2997851\ttotal: 19.5s\tremaining: 15.3s\n",
      "560:\tlearn: 0.2997095\ttotal: 19.5s\tremaining: 15.3s\n",
      "561:\tlearn: 0.2995604\ttotal: 19.6s\tremaining: 15.3s\n",
      "562:\tlearn: 0.2994038\ttotal: 19.6s\tremaining: 15.2s\n",
      "563:\tlearn: 0.2992337\ttotal: 19.6s\tremaining: 15.2s\n",
      "564:\tlearn: 0.2990920\ttotal: 19.7s\tremaining: 15.1s\n",
      "565:\tlearn: 0.2989567\ttotal: 19.7s\tremaining: 15.1s\n",
      "566:\tlearn: 0.2988323\ttotal: 19.7s\tremaining: 15s\n",
      "567:\tlearn: 0.2987744\ttotal: 19.8s\tremaining: 15s\n",
      "568:\tlearn: 0.2986321\ttotal: 19.8s\tremaining: 15s\n",
      "569:\tlearn: 0.2984837\ttotal: 19.9s\tremaining: 15s\n",
      "570:\tlearn: 0.2983296\ttotal: 19.9s\tremaining: 14.9s\n",
      "571:\tlearn: 0.2981589\ttotal: 19.9s\tremaining: 14.9s\n",
      "572:\tlearn: 0.2980377\ttotal: 19.9s\tremaining: 14.8s\n",
      "573:\tlearn: 0.2979516\ttotal: 19.9s\tremaining: 14.8s\n",
      "574:\tlearn: 0.2978681\ttotal: 19.9s\tremaining: 14.7s\n",
      "575:\tlearn: 0.2978110\ttotal: 20s\tremaining: 14.7s\n",
      "576:\tlearn: 0.2976707\ttotal: 20s\tremaining: 14.7s\n",
      "577:\tlearn: 0.2975777\ttotal: 20s\tremaining: 14.6s\n",
      "578:\tlearn: 0.2974272\ttotal: 20.1s\tremaining: 14.6s\n",
      "579:\tlearn: 0.2973207\ttotal: 20.1s\tremaining: 14.6s\n",
      "580:\tlearn: 0.2971542\ttotal: 20.2s\tremaining: 14.6s\n",
      "581:\tlearn: 0.2969863\ttotal: 20.2s\tremaining: 14.5s\n",
      "582:\tlearn: 0.2968449\ttotal: 20.2s\tremaining: 14.5s\n",
      "583:\tlearn: 0.2967974\ttotal: 20.3s\tremaining: 14.5s\n",
      "584:\tlearn: 0.2966671\ttotal: 20.3s\tremaining: 14.4s\n",
      "585:\tlearn: 0.2965383\ttotal: 20.3s\tremaining: 14.4s\n",
      "586:\tlearn: 0.2963608\ttotal: 20.4s\tremaining: 14.4s\n",
      "587:\tlearn: 0.2962258\ttotal: 20.4s\tremaining: 14.3s\n",
      "588:\tlearn: 0.2960851\ttotal: 20.4s\tremaining: 14.2s\n",
      "589:\tlearn: 0.2958456\ttotal: 20.5s\tremaining: 14.2s\n",
      "590:\tlearn: 0.2956837\ttotal: 20.5s\tremaining: 14.2s\n",
      "591:\tlearn: 0.2955564\ttotal: 20.6s\tremaining: 14.2s\n",
      "592:\tlearn: 0.2954634\ttotal: 20.6s\tremaining: 14.1s\n",
      "593:\tlearn: 0.2953320\ttotal: 20.6s\tremaining: 14.1s\n",
      "594:\tlearn: 0.2952500\ttotal: 20.7s\tremaining: 14.1s\n",
      "595:\tlearn: 0.2950322\ttotal: 20.7s\tremaining: 14s\n",
      "596:\tlearn: 0.2948599\ttotal: 20.7s\tremaining: 14s\n",
      "597:\tlearn: 0.2946933\ttotal: 20.7s\tremaining: 13.9s\n",
      "598:\tlearn: 0.2945436\ttotal: 20.8s\tremaining: 13.9s\n",
      "599:\tlearn: 0.2944507\ttotal: 20.8s\tremaining: 13.9s\n",
      "600:\tlearn: 0.2943606\ttotal: 20.8s\tremaining: 13.8s\n",
      "601:\tlearn: 0.2942113\ttotal: 20.9s\tremaining: 13.8s\n",
      "602:\tlearn: 0.2941232\ttotal: 20.9s\tremaining: 13.8s\n",
      "603:\tlearn: 0.2939517\ttotal: 21s\tremaining: 13.8s\n",
      "604:\tlearn: 0.2937415\ttotal: 21s\tremaining: 13.7s\n",
      "605:\tlearn: 0.2936796\ttotal: 21s\tremaining: 13.7s\n",
      "606:\tlearn: 0.2935155\ttotal: 21.1s\tremaining: 13.7s\n",
      "607:\tlearn: 0.2933415\ttotal: 21.1s\tremaining: 13.6s\n",
      "608:\tlearn: 0.2932573\ttotal: 21.2s\tremaining: 13.6s\n",
      "609:\tlearn: 0.2931611\ttotal: 21.2s\tremaining: 13.5s\n",
      "610:\tlearn: 0.2930034\ttotal: 21.2s\tremaining: 13.5s\n",
      "611:\tlearn: 0.2929350\ttotal: 21.3s\tremaining: 13.5s\n",
      "612:\tlearn: 0.2927938\ttotal: 21.3s\tremaining: 13.4s\n",
      "613:\tlearn: 0.2926277\ttotal: 21.3s\tremaining: 13.4s\n",
      "614:\tlearn: 0.2924327\ttotal: 21.4s\tremaining: 13.4s\n",
      "615:\tlearn: 0.2923556\ttotal: 21.4s\tremaining: 13.3s\n",
      "616:\tlearn: 0.2922434\ttotal: 21.4s\tremaining: 13.3s\n",
      "617:\tlearn: 0.2921074\ttotal: 21.5s\tremaining: 13.3s\n",
      "618:\tlearn: 0.2920347\ttotal: 21.5s\tremaining: 13.2s\n",
      "619:\tlearn: 0.2919540\ttotal: 21.6s\tremaining: 13.2s\n",
      "620:\tlearn: 0.2918684\ttotal: 21.6s\tremaining: 13.2s\n",
      "621:\tlearn: 0.2917612\ttotal: 21.6s\tremaining: 13.1s\n",
      "622:\tlearn: 0.2916443\ttotal: 21.7s\tremaining: 13.1s\n",
      "623:\tlearn: 0.2915888\ttotal: 21.7s\tremaining: 13.1s\n",
      "624:\tlearn: 0.2914571\ttotal: 21.8s\tremaining: 13.1s\n",
      "625:\tlearn: 0.2913125\ttotal: 21.8s\tremaining: 13s\n",
      "626:\tlearn: 0.2911373\ttotal: 21.8s\tremaining: 13s\n",
      "627:\tlearn: 0.2910852\ttotal: 21.8s\tremaining: 12.9s\n",
      "628:\tlearn: 0.2909186\ttotal: 21.9s\tremaining: 12.9s\n",
      "629:\tlearn: 0.2907595\ttotal: 21.9s\tremaining: 12.8s\n",
      "630:\tlearn: 0.2905361\ttotal: 21.9s\tremaining: 12.8s\n",
      "631:\tlearn: 0.2903791\ttotal: 22s\tremaining: 12.8s\n",
      "632:\tlearn: 0.2902560\ttotal: 22s\tremaining: 12.7s\n",
      "633:\tlearn: 0.2900726\ttotal: 22s\tremaining: 12.7s\n",
      "634:\tlearn: 0.2900034\ttotal: 22.1s\tremaining: 12.7s\n",
      "635:\tlearn: 0.2899244\ttotal: 22.1s\tremaining: 12.6s\n",
      "636:\tlearn: 0.2897823\ttotal: 22.1s\tremaining: 12.6s\n",
      "637:\tlearn: 0.2895691\ttotal: 22.2s\tremaining: 12.6s\n",
      "638:\tlearn: 0.2894423\ttotal: 22.2s\tremaining: 12.5s\n",
      "639:\tlearn: 0.2893436\ttotal: 22.3s\tremaining: 12.5s\n",
      "640:\tlearn: 0.2892401\ttotal: 22.3s\tremaining: 12.5s\n",
      "641:\tlearn: 0.2890635\ttotal: 22.3s\tremaining: 12.4s\n",
      "642:\tlearn: 0.2889346\ttotal: 22.4s\tremaining: 12.4s\n",
      "643:\tlearn: 0.2887371\ttotal: 22.4s\tremaining: 12.4s\n",
      "644:\tlearn: 0.2886149\ttotal: 22.5s\tremaining: 12.4s\n",
      "645:\tlearn: 0.2885520\ttotal: 22.5s\tremaining: 12.3s\n",
      "646:\tlearn: 0.2883942\ttotal: 22.5s\tremaining: 12.3s\n",
      "647:\tlearn: 0.2881929\ttotal: 22.5s\tremaining: 12.2s\n",
      "648:\tlearn: 0.2880942\ttotal: 22.6s\tremaining: 12.2s\n",
      "649:\tlearn: 0.2879053\ttotal: 22.6s\tremaining: 12.2s\n",
      "650:\tlearn: 0.2877897\ttotal: 22.7s\tremaining: 12.1s\n",
      "651:\tlearn: 0.2876819\ttotal: 22.7s\tremaining: 12.1s\n",
      "652:\tlearn: 0.2875905\ttotal: 22.7s\tremaining: 12.1s\n",
      "653:\tlearn: 0.2874799\ttotal: 22.8s\tremaining: 12s\n",
      "654:\tlearn: 0.2873802\ttotal: 22.8s\tremaining: 12s\n",
      "655:\tlearn: 0.2873022\ttotal: 22.8s\tremaining: 12s\n",
      "656:\tlearn: 0.2871777\ttotal: 22.9s\tremaining: 11.9s\n",
      "657:\tlearn: 0.2870557\ttotal: 22.9s\tremaining: 11.9s\n",
      "658:\tlearn: 0.2868991\ttotal: 22.9s\tremaining: 11.9s\n",
      "659:\tlearn: 0.2868112\ttotal: 22.9s\tremaining: 11.8s\n",
      "660:\tlearn: 0.2866572\ttotal: 23s\tremaining: 11.8s\n",
      "661:\tlearn: 0.2864563\ttotal: 23s\tremaining: 11.8s\n",
      "662:\tlearn: 0.2863220\ttotal: 23.1s\tremaining: 11.7s\n",
      "663:\tlearn: 0.2862530\ttotal: 23.1s\tremaining: 11.7s\n",
      "664:\tlearn: 0.2860389\ttotal: 23.1s\tremaining: 11.7s\n",
      "665:\tlearn: 0.2859481\ttotal: 23.2s\tremaining: 11.6s\n",
      "666:\tlearn: 0.2858692\ttotal: 23.2s\tremaining: 11.6s\n",
      "667:\tlearn: 0.2857641\ttotal: 23.2s\tremaining: 11.6s\n",
      "668:\tlearn: 0.2856436\ttotal: 23.2s\tremaining: 11.5s\n",
      "669:\tlearn: 0.2854878\ttotal: 23.3s\tremaining: 11.5s\n",
      "670:\tlearn: 0.2854360\ttotal: 23.3s\tremaining: 11.4s\n",
      "671:\tlearn: 0.2852979\ttotal: 23.3s\tremaining: 11.4s\n",
      "672:\tlearn: 0.2851617\ttotal: 23.4s\tremaining: 11.4s\n",
      "673:\tlearn: 0.2849689\ttotal: 23.4s\tremaining: 11.3s\n",
      "674:\tlearn: 0.2848062\ttotal: 23.4s\tremaining: 11.3s\n",
      "675:\tlearn: 0.2846669\ttotal: 23.5s\tremaining: 11.3s\n",
      "676:\tlearn: 0.2845285\ttotal: 23.5s\tremaining: 11.2s\n",
      "677:\tlearn: 0.2844249\ttotal: 23.6s\tremaining: 11.2s\n",
      "678:\tlearn: 0.2843325\ttotal: 23.6s\tremaining: 11.2s\n",
      "679:\tlearn: 0.2842597\ttotal: 23.6s\tremaining: 11.1s\n",
      "680:\tlearn: 0.2842035\ttotal: 23.7s\tremaining: 11.1s\n",
      "681:\tlearn: 0.2840678\ttotal: 23.7s\tremaining: 11.1s\n",
      "682:\tlearn: 0.2838776\ttotal: 23.7s\tremaining: 11s\n",
      "683:\tlearn: 0.2837748\ttotal: 23.8s\tremaining: 11s\n",
      "684:\tlearn: 0.2836347\ttotal: 23.8s\tremaining: 11s\n",
      "685:\tlearn: 0.2834807\ttotal: 23.9s\tremaining: 10.9s\n",
      "686:\tlearn: 0.2833091\ttotal: 23.9s\tremaining: 10.9s\n",
      "687:\tlearn: 0.2831766\ttotal: 23.9s\tremaining: 10.9s\n",
      "688:\tlearn: 0.2831312\ttotal: 24s\tremaining: 10.8s\n",
      "689:\tlearn: 0.2830293\ttotal: 24s\tremaining: 10.8s\n",
      "690:\tlearn: 0.2829577\ttotal: 24s\tremaining: 10.7s\n",
      "691:\tlearn: 0.2828442\ttotal: 24.1s\tremaining: 10.7s\n",
      "692:\tlearn: 0.2826862\ttotal: 24.1s\tremaining: 10.7s\n",
      "693:\tlearn: 0.2826247\ttotal: 24.1s\tremaining: 10.6s\n",
      "694:\tlearn: 0.2824826\ttotal: 24.2s\tremaining: 10.6s\n",
      "695:\tlearn: 0.2823350\ttotal: 24.2s\tremaining: 10.6s\n",
      "696:\tlearn: 0.2821567\ttotal: 24.2s\tremaining: 10.5s\n",
      "697:\tlearn: 0.2820288\ttotal: 24.3s\tremaining: 10.5s\n",
      "698:\tlearn: 0.2817942\ttotal: 24.3s\tremaining: 10.5s\n",
      "699:\tlearn: 0.2816475\ttotal: 24.4s\tremaining: 10.5s\n",
      "700:\tlearn: 0.2814526\ttotal: 24.4s\tremaining: 10.4s\n",
      "701:\tlearn: 0.2813999\ttotal: 24.4s\tremaining: 10.4s\n",
      "702:\tlearn: 0.2811774\ttotal: 24.5s\tremaining: 10.4s\n",
      "703:\tlearn: 0.2810573\ttotal: 24.5s\tremaining: 10.3s\n",
      "704:\tlearn: 0.2809847\ttotal: 24.5s\tremaining: 10.3s\n",
      "705:\tlearn: 0.2808869\ttotal: 24.6s\tremaining: 10.2s\n",
      "706:\tlearn: 0.2807390\ttotal: 24.6s\tremaining: 10.2s\n",
      "707:\tlearn: 0.2806440\ttotal: 24.6s\tremaining: 10.2s\n",
      "708:\tlearn: 0.2804697\ttotal: 24.7s\tremaining: 10.1s\n",
      "709:\tlearn: 0.2803278\ttotal: 24.7s\tremaining: 10.1s\n",
      "710:\tlearn: 0.2802138\ttotal: 24.7s\tremaining: 10s\n",
      "711:\tlearn: 0.2801019\ttotal: 24.8s\tremaining: 10s\n",
      "712:\tlearn: 0.2799777\ttotal: 24.8s\tremaining: 9.99s\n",
      "713:\tlearn: 0.2798778\ttotal: 24.9s\tremaining: 9.97s\n",
      "714:\tlearn: 0.2797633\ttotal: 24.9s\tremaining: 9.93s\n",
      "715:\tlearn: 0.2796541\ttotal: 24.9s\tremaining: 9.88s\n",
      "716:\tlearn: 0.2795570\ttotal: 24.9s\tremaining: 9.83s\n",
      "717:\tlearn: 0.2794179\ttotal: 25s\tremaining: 9.82s\n",
      "718:\tlearn: 0.2792322\ttotal: 25s\tremaining: 9.78s\n",
      "719:\tlearn: 0.2791235\ttotal: 25.1s\tremaining: 9.76s\n",
      "720:\tlearn: 0.2789768\ttotal: 25.1s\tremaining: 9.71s\n",
      "721:\tlearn: 0.2788544\ttotal: 25.1s\tremaining: 9.67s\n",
      "722:\tlearn: 0.2787802\ttotal: 25.2s\tremaining: 9.65s\n",
      "723:\tlearn: 0.2787375\ttotal: 25.2s\tremaining: 9.61s\n",
      "724:\tlearn: 0.2785767\ttotal: 25.3s\tremaining: 9.6s\n",
      "725:\tlearn: 0.2784467\ttotal: 25.3s\tremaining: 9.55s\n",
      "726:\tlearn: 0.2783045\ttotal: 25.3s\tremaining: 9.51s\n",
      "727:\tlearn: 0.2782371\ttotal: 25.4s\tremaining: 9.49s\n",
      "728:\tlearn: 0.2781134\ttotal: 25.4s\tremaining: 9.44s\n",
      "729:\tlearn: 0.2780284\ttotal: 25.5s\tremaining: 9.43s\n",
      "730:\tlearn: 0.2779308\ttotal: 25.5s\tremaining: 9.38s\n",
      "731:\tlearn: 0.2778314\ttotal: 25.5s\tremaining: 9.34s\n",
      "732:\tlearn: 0.2777051\ttotal: 25.6s\tremaining: 9.32s\n",
      "733:\tlearn: 0.2775693\ttotal: 25.6s\tremaining: 9.28s\n",
      "734:\tlearn: 0.2774571\ttotal: 25.6s\tremaining: 9.23s\n",
      "735:\tlearn: 0.2773313\ttotal: 25.7s\tremaining: 9.21s\n",
      "736:\tlearn: 0.2771852\ttotal: 25.7s\tremaining: 9.17s\n",
      "737:\tlearn: 0.2771067\ttotal: 25.8s\tremaining: 9.15s\n",
      "738:\tlearn: 0.2770370\ttotal: 25.8s\tremaining: 9.11s\n",
      "739:\tlearn: 0.2769443\ttotal: 25.8s\tremaining: 9.06s\n",
      "740:\tlearn: 0.2768565\ttotal: 25.9s\tremaining: 9.05s\n",
      "741:\tlearn: 0.2767748\ttotal: 25.9s\tremaining: 9s\n",
      "742:\tlearn: 0.2766837\ttotal: 25.9s\tremaining: 8.96s\n",
      "743:\tlearn: 0.2766004\ttotal: 26s\tremaining: 8.94s\n",
      "744:\tlearn: 0.2764753\ttotal: 26s\tremaining: 8.89s\n",
      "745:\tlearn: 0.2764355\ttotal: 26s\tremaining: 8.85s\n",
      "746:\tlearn: 0.2763578\ttotal: 26s\tremaining: 8.8s\n",
      "747:\tlearn: 0.2762803\ttotal: 26.1s\tremaining: 8.79s\n",
      "748:\tlearn: 0.2761661\ttotal: 26.1s\tremaining: 8.74s\n",
      "749:\tlearn: 0.2760982\ttotal: 26.1s\tremaining: 8.7s\n",
      "750:\tlearn: 0.2759999\ttotal: 26.2s\tremaining: 8.68s\n",
      "751:\tlearn: 0.2758351\ttotal: 26.2s\tremaining: 8.64s\n",
      "752:\tlearn: 0.2757612\ttotal: 26.3s\tremaining: 8.62s\n",
      "753:\tlearn: 0.2756066\ttotal: 26.3s\tremaining: 8.58s\n",
      "754:\tlearn: 0.2755540\ttotal: 26.3s\tremaining: 8.53s\n",
      "755:\tlearn: 0.2753602\ttotal: 26.4s\tremaining: 8.51s\n",
      "756:\tlearn: 0.2752449\ttotal: 26.4s\tremaining: 8.47s\n",
      "757:\tlearn: 0.2750845\ttotal: 26.4s\tremaining: 8.43s\n",
      "758:\tlearn: 0.2750183\ttotal: 26.4s\tremaining: 8.38s\n",
      "759:\tlearn: 0.2749008\ttotal: 26.4s\tremaining: 8.34s\n",
      "760:\tlearn: 0.2747834\ttotal: 26.4s\tremaining: 8.3s\n",
      "761:\tlearn: 0.2747380\ttotal: 26.4s\tremaining: 8.25s\n",
      "762:\tlearn: 0.2746098\ttotal: 26.5s\tremaining: 8.23s\n",
      "763:\tlearn: 0.2744339\ttotal: 26.5s\tremaining: 8.19s\n",
      "764:\tlearn: 0.2742788\ttotal: 26.6s\tremaining: 8.17s\n",
      "765:\tlearn: 0.2741389\ttotal: 26.6s\tremaining: 8.13s\n",
      "766:\tlearn: 0.2740002\ttotal: 26.6s\tremaining: 8.08s\n",
      "767:\tlearn: 0.2739066\ttotal: 26.6s\tremaining: 8.04s\n",
      "768:\tlearn: 0.2737442\ttotal: 26.6s\tremaining: 8s\n",
      "769:\tlearn: 0.2736225\ttotal: 26.7s\tremaining: 7.97s\n",
      "770:\tlearn: 0.2735259\ttotal: 26.7s\tremaining: 7.93s\n",
      "771:\tlearn: 0.2733868\ttotal: 26.7s\tremaining: 7.89s\n",
      "772:\tlearn: 0.2732730\ttotal: 26.8s\tremaining: 7.87s\n",
      "773:\tlearn: 0.2731777\ttotal: 26.8s\tremaining: 7.83s\n",
      "774:\tlearn: 0.2730420\ttotal: 26.9s\tremaining: 7.8s\n",
      "775:\tlearn: 0.2728523\ttotal: 26.9s\tremaining: 7.76s\n",
      "776:\tlearn: 0.2726890\ttotal: 26.9s\tremaining: 7.72s\n",
      "777:\tlearn: 0.2725999\ttotal: 26.9s\tremaining: 7.68s\n",
      "778:\tlearn: 0.2725080\ttotal: 27s\tremaining: 7.66s\n",
      "779:\tlearn: 0.2724382\ttotal: 27s\tremaining: 7.62s\n",
      "780:\tlearn: 0.2723279\ttotal: 27.1s\tremaining: 7.6s\n",
      "781:\tlearn: 0.2722134\ttotal: 27.1s\tremaining: 7.55s\n",
      "782:\tlearn: 0.2721385\ttotal: 27.1s\tremaining: 7.51s\n",
      "783:\tlearn: 0.2720324\ttotal: 27.2s\tremaining: 7.49s\n",
      "784:\tlearn: 0.2719503\ttotal: 27.2s\tremaining: 7.45s\n",
      "785:\tlearn: 0.2718675\ttotal: 27.3s\tremaining: 7.43s\n",
      "786:\tlearn: 0.2718019\ttotal: 27.3s\tremaining: 7.39s\n",
      "787:\tlearn: 0.2716373\ttotal: 27.3s\tremaining: 7.35s\n",
      "788:\tlearn: 0.2714885\ttotal: 27.4s\tremaining: 7.33s\n",
      "789:\tlearn: 0.2714345\ttotal: 27.4s\tremaining: 7.28s\n",
      "790:\tlearn: 0.2712920\ttotal: 27.4s\tremaining: 7.24s\n",
      "791:\tlearn: 0.2712127\ttotal: 27.5s\tremaining: 7.22s\n",
      "792:\tlearn: 0.2711012\ttotal: 27.5s\tremaining: 7.18s\n",
      "793:\tlearn: 0.2709893\ttotal: 27.5s\tremaining: 7.14s\n",
      "794:\tlearn: 0.2708988\ttotal: 27.6s\tremaining: 7.12s\n",
      "795:\tlearn: 0.2708364\ttotal: 27.6s\tremaining: 7.07s\n",
      "796:\tlearn: 0.2707693\ttotal: 27.7s\tremaining: 7.05s\n",
      "797:\tlearn: 0.2706652\ttotal: 27.7s\tremaining: 7.01s\n",
      "798:\tlearn: 0.2705545\ttotal: 27.8s\tremaining: 6.99s\n",
      "799:\tlearn: 0.2704183\ttotal: 27.8s\tremaining: 6.95s\n",
      "800:\tlearn: 0.2703563\ttotal: 27.8s\tremaining: 6.91s\n",
      "801:\tlearn: 0.2702041\ttotal: 27.9s\tremaining: 6.88s\n",
      "802:\tlearn: 0.2701523\ttotal: 27.9s\tremaining: 6.84s\n",
      "803:\tlearn: 0.2700125\ttotal: 27.9s\tremaining: 6.8s\n",
      "804:\tlearn: 0.2698847\ttotal: 28s\tremaining: 6.78s\n",
      "805:\tlearn: 0.2698039\ttotal: 28s\tremaining: 6.74s\n",
      "806:\tlearn: 0.2696386\ttotal: 28.1s\tremaining: 6.71s\n",
      "807:\tlearn: 0.2695704\ttotal: 28.1s\tremaining: 6.67s\n",
      "808:\tlearn: 0.2694638\ttotal: 28.1s\tremaining: 6.63s\n",
      "809:\tlearn: 0.2693486\ttotal: 28.1s\tremaining: 6.59s\n",
      "810:\tlearn: 0.2693000\ttotal: 28.2s\tremaining: 6.57s\n",
      "811:\tlearn: 0.2690944\ttotal: 28.2s\tremaining: 6.52s\n",
      "812:\tlearn: 0.2690060\ttotal: 28.3s\tremaining: 6.5s\n",
      "813:\tlearn: 0.2689389\ttotal: 28.3s\tremaining: 6.46s\n",
      "814:\tlearn: 0.2688352\ttotal: 28.3s\tremaining: 6.42s\n",
      "815:\tlearn: 0.2686978\ttotal: 28.3s\tremaining: 6.38s\n",
      "816:\tlearn: 0.2686281\ttotal: 28.4s\tremaining: 6.35s\n",
      "817:\tlearn: 0.2685523\ttotal: 28.4s\tremaining: 6.31s\n",
      "818:\tlearn: 0.2684654\ttotal: 28.5s\tremaining: 6.29s\n",
      "819:\tlearn: 0.2683274\ttotal: 28.5s\tremaining: 6.25s\n",
      "820:\tlearn: 0.2682342\ttotal: 28.5s\tremaining: 6.21s\n",
      "821:\tlearn: 0.2681724\ttotal: 28.6s\tremaining: 6.18s\n",
      "822:\tlearn: 0.2680149\ttotal: 28.6s\tremaining: 6.14s\n",
      "823:\tlearn: 0.2678892\ttotal: 28.6s\tremaining: 6.1s\n",
      "824:\tlearn: 0.2677345\ttotal: 28.7s\tremaining: 6.08s\n",
      "825:\tlearn: 0.2675951\ttotal: 28.7s\tremaining: 6.04s\n",
      "826:\tlearn: 0.2675491\ttotal: 28.8s\tremaining: 6.02s\n",
      "827:\tlearn: 0.2674655\ttotal: 28.8s\tremaining: 5.97s\n",
      "828:\tlearn: 0.2673427\ttotal: 28.8s\tremaining: 5.93s\n",
      "829:\tlearn: 0.2672208\ttotal: 28.9s\tremaining: 5.91s\n",
      "830:\tlearn: 0.2671674\ttotal: 28.9s\tremaining: 5.87s\n",
      "831:\tlearn: 0.2671080\ttotal: 28.9s\tremaining: 5.83s\n",
      "832:\tlearn: 0.2670093\ttotal: 28.9s\tremaining: 5.8s\n",
      "833:\tlearn: 0.2668847\ttotal: 29s\tremaining: 5.76s\n",
      "834:\tlearn: 0.2667552\ttotal: 29s\tremaining: 5.72s\n",
      "835:\tlearn: 0.2666412\ttotal: 29.1s\tremaining: 5.7s\n",
      "836:\tlearn: 0.2664584\ttotal: 29.1s\tremaining: 5.66s\n",
      "837:\tlearn: 0.2663325\ttotal: 29.1s\tremaining: 5.63s\n",
      "838:\tlearn: 0.2662228\ttotal: 29.2s\tremaining: 5.59s\n",
      "839:\tlearn: 0.2661188\ttotal: 29.2s\tremaining: 5.55s\n",
      "840:\tlearn: 0.2660098\ttotal: 29.3s\tremaining: 5.53s\n",
      "841:\tlearn: 0.2659088\ttotal: 29.3s\tremaining: 5.49s\n",
      "842:\tlearn: 0.2658365\ttotal: 29.3s\tremaining: 5.46s\n",
      "843:\tlearn: 0.2657409\ttotal: 29.4s\tremaining: 5.42s\n",
      "844:\tlearn: 0.2655689\ttotal: 29.4s\tremaining: 5.38s\n",
      "845:\tlearn: 0.2654847\ttotal: 29.4s\tremaining: 5.36s\n",
      "846:\tlearn: 0.2653519\ttotal: 29.5s\tremaining: 5.32s\n",
      "847:\tlearn: 0.2652384\ttotal: 29.5s\tremaining: 5.28s\n",
      "848:\tlearn: 0.2651091\ttotal: 29.6s\tremaining: 5.25s\n",
      "849:\tlearn: 0.2650519\ttotal: 29.6s\tremaining: 5.22s\n",
      "850:\tlearn: 0.2649785\ttotal: 29.6s\tremaining: 5.18s\n",
      "851:\tlearn: 0.2648495\ttotal: 29.6s\tremaining: 5.14s\n",
      "852:\tlearn: 0.2647627\ttotal: 29.6s\tremaining: 5.1s\n",
      "853:\tlearn: 0.2646687\ttotal: 29.7s\tremaining: 5.07s\n",
      "854:\tlearn: 0.2645463\ttotal: 29.7s\tremaining: 5.03s\n",
      "855:\tlearn: 0.2644369\ttotal: 29.7s\tremaining: 4.99s\n",
      "856:\tlearn: 0.2643530\ttotal: 29.8s\tremaining: 4.97s\n",
      "857:\tlearn: 0.2642484\ttotal: 29.8s\tremaining: 4.93s\n",
      "858:\tlearn: 0.2641861\ttotal: 29.9s\tremaining: 4.9s\n",
      "859:\tlearn: 0.2641573\ttotal: 29.9s\tremaining: 4.86s\n",
      "860:\tlearn: 0.2640614\ttotal: 30s\tremaining: 4.84s\n",
      "861:\tlearn: 0.2639581\ttotal: 30s\tremaining: 4.8s\n",
      "862:\tlearn: 0.2637956\ttotal: 30s\tremaining: 4.76s\n",
      "863:\tlearn: 0.2637190\ttotal: 30.1s\tremaining: 4.73s\n",
      "864:\tlearn: 0.2635267\ttotal: 30.1s\tremaining: 4.69s\n",
      "865:\tlearn: 0.2633799\ttotal: 30.1s\tremaining: 4.65s\n",
      "866:\tlearn: 0.2633003\ttotal: 30.1s\tremaining: 4.62s\n",
      "867:\tlearn: 0.2632299\ttotal: 30.2s\tremaining: 4.59s\n",
      "868:\tlearn: 0.2631557\ttotal: 30.2s\tremaining: 4.55s\n",
      "869:\tlearn: 0.2630240\ttotal: 30.3s\tremaining: 4.52s\n",
      "870:\tlearn: 0.2629084\ttotal: 30.3s\tremaining: 4.48s\n",
      "871:\tlearn: 0.2628138\ttotal: 30.3s\tremaining: 4.44s\n",
      "872:\tlearn: 0.2627564\ttotal: 30.4s\tremaining: 4.42s\n",
      "873:\tlearn: 0.2626363\ttotal: 30.4s\tremaining: 4.38s\n",
      "874:\tlearn: 0.2625697\ttotal: 30.4s\tremaining: 4.34s\n",
      "875:\tlearn: 0.2625326\ttotal: 30.4s\tremaining: 4.31s\n",
      "876:\tlearn: 0.2624737\ttotal: 30.4s\tremaining: 4.27s\n",
      "877:\tlearn: 0.2623297\ttotal: 30.5s\tremaining: 4.23s\n",
      "878:\tlearn: 0.2622370\ttotal: 30.5s\tremaining: 4.2s\n",
      "879:\tlearn: 0.2621958\ttotal: 30.5s\tremaining: 4.17s\n",
      "880:\tlearn: 0.2620919\ttotal: 30.6s\tremaining: 4.14s\n",
      "881:\tlearn: 0.2620285\ttotal: 30.6s\tremaining: 4.1s\n",
      "882:\tlearn: 0.2619588\ttotal: 30.7s\tremaining: 4.06s\n",
      "883:\tlearn: 0.2618203\ttotal: 30.7s\tremaining: 4.03s\n",
      "884:\tlearn: 0.2617322\ttotal: 30.7s\tremaining: 4s\n",
      "885:\tlearn: 0.2616649\ttotal: 30.8s\tremaining: 3.96s\n",
      "886:\tlearn: 0.2616120\ttotal: 30.8s\tremaining: 3.93s\n",
      "887:\tlearn: 0.2614992\ttotal: 30.9s\tremaining: 3.89s\n",
      "888:\tlearn: 0.2614613\ttotal: 30.9s\tremaining: 3.85s\n",
      "889:\tlearn: 0.2613272\ttotal: 30.9s\tremaining: 3.82s\n",
      "890:\tlearn: 0.2612670\ttotal: 30.9s\tremaining: 3.78s\n",
      "891:\tlearn: 0.2611340\ttotal: 30.9s\tremaining: 3.75s\n",
      "892:\tlearn: 0.2609906\ttotal: 31s\tremaining: 3.72s\n",
      "893:\tlearn: 0.2609025\ttotal: 31s\tremaining: 3.68s\n",
      "894:\tlearn: 0.2608418\ttotal: 31s\tremaining: 3.64s\n",
      "895:\tlearn: 0.2607150\ttotal: 31.1s\tremaining: 3.61s\n",
      "896:\tlearn: 0.2606085\ttotal: 31.1s\tremaining: 3.58s\n",
      "897:\tlearn: 0.2604634\ttotal: 31.2s\tremaining: 3.54s\n",
      "898:\tlearn: 0.2603853\ttotal: 31.2s\tremaining: 3.51s\n",
      "899:\tlearn: 0.2603220\ttotal: 31.2s\tremaining: 3.47s\n",
      "900:\tlearn: 0.2602242\ttotal: 31.3s\tremaining: 3.44s\n",
      "901:\tlearn: 0.2601133\ttotal: 31.3s\tremaining: 3.4s\n",
      "902:\tlearn: 0.2600318\ttotal: 31.4s\tremaining: 3.37s\n",
      "903:\tlearn: 0.2599272\ttotal: 31.4s\tremaining: 3.34s\n",
      "904:\tlearn: 0.2598584\ttotal: 31.4s\tremaining: 3.3s\n",
      "905:\tlearn: 0.2598028\ttotal: 31.5s\tremaining: 3.27s\n",
      "906:\tlearn: 0.2597609\ttotal: 31.5s\tremaining: 3.23s\n",
      "907:\tlearn: 0.2596953\ttotal: 31.5s\tremaining: 3.19s\n",
      "908:\tlearn: 0.2596284\ttotal: 31.6s\tremaining: 3.16s\n",
      "909:\tlearn: 0.2595711\ttotal: 31.6s\tremaining: 3.13s\n",
      "910:\tlearn: 0.2595169\ttotal: 31.6s\tremaining: 3.09s\n",
      "911:\tlearn: 0.2593876\ttotal: 31.7s\tremaining: 3.06s\n",
      "912:\tlearn: 0.2592656\ttotal: 31.7s\tremaining: 3.02s\n",
      "913:\tlearn: 0.2591603\ttotal: 31.7s\tremaining: 2.98s\n",
      "914:\tlearn: 0.2590614\ttotal: 31.8s\tremaining: 2.95s\n",
      "915:\tlearn: 0.2589363\ttotal: 31.8s\tremaining: 2.92s\n",
      "916:\tlearn: 0.2588632\ttotal: 31.9s\tremaining: 2.89s\n",
      "917:\tlearn: 0.2587723\ttotal: 31.9s\tremaining: 2.85s\n",
      "918:\tlearn: 0.2586858\ttotal: 32s\tremaining: 2.82s\n",
      "919:\tlearn: 0.2585993\ttotal: 32s\tremaining: 2.78s\n",
      "920:\tlearn: 0.2585428\ttotal: 32s\tremaining: 2.75s\n",
      "921:\tlearn: 0.2584343\ttotal: 32.1s\tremaining: 2.71s\n",
      "922:\tlearn: 0.2583530\ttotal: 32.1s\tremaining: 2.68s\n",
      "923:\tlearn: 0.2582740\ttotal: 32.2s\tremaining: 2.65s\n",
      "924:\tlearn: 0.2581424\ttotal: 32.2s\tremaining: 2.61s\n",
      "925:\tlearn: 0.2580739\ttotal: 32.2s\tremaining: 2.57s\n",
      "926:\tlearn: 0.2579731\ttotal: 32.3s\tremaining: 2.54s\n",
      "927:\tlearn: 0.2578922\ttotal: 32.3s\tremaining: 2.51s\n",
      "928:\tlearn: 0.2578309\ttotal: 32.3s\tremaining: 2.47s\n",
      "929:\tlearn: 0.2577238\ttotal: 32.4s\tremaining: 2.44s\n",
      "930:\tlearn: 0.2576490\ttotal: 32.4s\tremaining: 2.4s\n",
      "931:\tlearn: 0.2575725\ttotal: 32.4s\tremaining: 2.36s\n",
      "932:\tlearn: 0.2574181\ttotal: 32.4s\tremaining: 2.33s\n",
      "933:\tlearn: 0.2573451\ttotal: 32.4s\tremaining: 2.29s\n",
      "934:\tlearn: 0.2572916\ttotal: 32.5s\tremaining: 2.26s\n",
      "935:\tlearn: 0.2571461\ttotal: 32.5s\tremaining: 2.22s\n",
      "936:\tlearn: 0.2570292\ttotal: 32.5s\tremaining: 2.19s\n",
      "937:\tlearn: 0.2569477\ttotal: 32.6s\tremaining: 2.16s\n",
      "938:\tlearn: 0.2568955\ttotal: 32.6s\tremaining: 2.12s\n",
      "939:\tlearn: 0.2568077\ttotal: 32.6s\tremaining: 2.08s\n",
      "940:\tlearn: 0.2566960\ttotal: 32.7s\tremaining: 2.05s\n",
      "941:\tlearn: 0.2565975\ttotal: 32.7s\tremaining: 2.02s\n",
      "942:\tlearn: 0.2564885\ttotal: 32.7s\tremaining: 1.98s\n",
      "943:\tlearn: 0.2564317\ttotal: 32.8s\tremaining: 1.95s\n",
      "944:\tlearn: 0.2563552\ttotal: 32.8s\tremaining: 1.91s\n",
      "945:\tlearn: 0.2562415\ttotal: 32.8s\tremaining: 1.87s\n",
      "946:\tlearn: 0.2560804\ttotal: 32.9s\tremaining: 1.84s\n",
      "947:\tlearn: 0.2560299\ttotal: 32.9s\tremaining: 1.8s\n",
      "948:\tlearn: 0.2559313\ttotal: 32.9s\tremaining: 1.77s\n",
      "949:\tlearn: 0.2558769\ttotal: 32.9s\tremaining: 1.73s\n",
      "950:\tlearn: 0.2557804\ttotal: 33s\tremaining: 1.7s\n",
      "951:\tlearn: 0.2556933\ttotal: 33s\tremaining: 1.67s\n",
      "952:\tlearn: 0.2555707\ttotal: 33.1s\tremaining: 1.63s\n",
      "953:\tlearn: 0.2555193\ttotal: 33.1s\tremaining: 1.6s\n",
      "954:\tlearn: 0.2554904\ttotal: 33.1s\tremaining: 1.56s\n",
      "955:\tlearn: 0.2553461\ttotal: 33.2s\tremaining: 1.53s\n",
      "956:\tlearn: 0.2551826\ttotal: 33.2s\tremaining: 1.49s\n",
      "957:\tlearn: 0.2550362\ttotal: 33.2s\tremaining: 1.46s\n",
      "958:\tlearn: 0.2549181\ttotal: 33.3s\tremaining: 1.42s\n",
      "959:\tlearn: 0.2548170\ttotal: 33.3s\tremaining: 1.39s\n",
      "960:\tlearn: 0.2547219\ttotal: 33.3s\tremaining: 1.35s\n",
      "961:\tlearn: 0.2546620\ttotal: 33.4s\tremaining: 1.32s\n",
      "962:\tlearn: 0.2545806\ttotal: 33.4s\tremaining: 1.28s\n",
      "963:\tlearn: 0.2545285\ttotal: 33.4s\tremaining: 1.25s\n",
      "964:\tlearn: 0.2543717\ttotal: 33.5s\tremaining: 1.21s\n",
      "965:\tlearn: 0.2543199\ttotal: 33.5s\tremaining: 1.18s\n",
      "966:\tlearn: 0.2541926\ttotal: 33.5s\tremaining: 1.14s\n",
      "967:\tlearn: 0.2540820\ttotal: 33.6s\tremaining: 1.11s\n",
      "968:\tlearn: 0.2540026\ttotal: 33.6s\tremaining: 1.07s\n",
      "969:\tlearn: 0.2538889\ttotal: 33.6s\tremaining: 1.04s\n",
      "970:\tlearn: 0.2537806\ttotal: 33.7s\tremaining: 1.01s\n",
      "971:\tlearn: 0.2536841\ttotal: 33.7s\tremaining: 971ms\n",
      "972:\tlearn: 0.2535791\ttotal: 33.8s\tremaining: 938ms\n",
      "973:\tlearn: 0.2534317\ttotal: 33.8s\tremaining: 902ms\n",
      "974:\tlearn: 0.2533249\ttotal: 33.8s\tremaining: 867ms\n",
      "975:\tlearn: 0.2532291\ttotal: 33.9s\tremaining: 834ms\n",
      "976:\tlearn: 0.2531761\ttotal: 33.9s\tremaining: 798ms\n",
      "977:\tlearn: 0.2530163\ttotal: 34s\tremaining: 764ms\n",
      "978:\tlearn: 0.2529114\ttotal: 34s\tremaining: 729ms\n",
      "979:\tlearn: 0.2528126\ttotal: 34s\tremaining: 694ms\n",
      "980:\tlearn: 0.2527455\ttotal: 34s\tremaining: 658ms\n",
      "981:\tlearn: 0.2526728\ttotal: 34s\tremaining: 623ms\n",
      "982:\tlearn: 0.2525299\ttotal: 34.1s\tremaining: 590ms\n",
      "983:\tlearn: 0.2523897\ttotal: 34.1s\tremaining: 554ms\n",
      "984:\tlearn: 0.2523161\ttotal: 34.1s\tremaining: 519ms\n",
      "985:\tlearn: 0.2521860\ttotal: 34.2s\tremaining: 485ms\n",
      "986:\tlearn: 0.2521083\ttotal: 34.2s\tremaining: 450ms\n",
      "987:\tlearn: 0.2520164\ttotal: 34.3s\tremaining: 417ms\n",
      "988:\tlearn: 0.2519322\ttotal: 34.3s\tremaining: 382ms\n",
      "989:\tlearn: 0.2518222\ttotal: 34.4s\tremaining: 347ms\n",
      "990:\tlearn: 0.2517454\ttotal: 34.4s\tremaining: 312ms\n",
      "991:\tlearn: 0.2516714\ttotal: 34.4s\tremaining: 277ms\n",
      "992:\tlearn: 0.2515497\ttotal: 34.5s\tremaining: 243ms\n",
      "993:\tlearn: 0.2514923\ttotal: 34.5s\tremaining: 208ms\n",
      "994:\tlearn: 0.2513974\ttotal: 34.5s\tremaining: 173ms\n",
      "995:\tlearn: 0.2513193\ttotal: 34.6s\tremaining: 139ms\n",
      "996:\tlearn: 0.2512431\ttotal: 34.6s\tremaining: 104ms\n",
      "997:\tlearn: 0.2511357\ttotal: 34.7s\tremaining: 69.5ms\n",
      "998:\tlearn: 0.2510592\ttotal: 34.7s\tremaining: 34.7ms\n",
      "999:\tlearn: 0.2509748\ttotal: 34.7s\tremaining: 0us\n"
     ]
    },
    {
     "data": {
      "text/plain": [
       "(0.7260596192179285, 0.7743080198722498)"
      ]
     },
     "execution_count": 181,
     "metadata": {},
     "output_type": "execute_result"
    }
   ],
   "source": [
    "model_cbc = CatBoostClassifier(random_state = 12345)\n",
    "model_cbc.fit(features_train, target_train)\n",
    "predict_cbc = model_DTC.predict(features_valid)\n",
    "roc_cbc_val = roc_auc_score(predict_cbc, target_valid)\n",
    "acc_cbc_val = accuracy_score(predict_cbc, target_valid)\n",
    "roc_cbc_val, acc_cbc_val"
   ]
  },
  {
   "cell_type": "markdown",
   "metadata": {},
   "source": [
    "___\n",
    "#### XGBClassifier\n",
    "___"
   ]
  },
  {
   "cell_type": "code",
   "execution_count": 182,
   "metadata": {},
   "outputs": [
    {
     "data": {
      "text/plain": [
       "(0.7478961052289482, 0.7991483321504613)"
      ]
     },
     "execution_count": 182,
     "metadata": {},
     "output_type": "execute_result"
    }
   ],
   "source": [
    "model_xgb = xgb.XGBClassifier(learning_rate=0.14, max_depth= 3, n_estimators=101, random_state = 12345)\n",
    "model_xgb.fit(features_train, target_train)\n",
    "predict_xgb = model_xgb.predict(features_valid)\n",
    "roc_xgb_val = roc_auc_score(predict_xgb, target_valid)\n",
    "acc_xgb_val = accuracy_score(predict_xgb, target_valid)\n",
    "roc_xgb_val, acc_xgb_val"
   ]
  },
  {
   "cell_type": "markdown",
   "metadata": {},
   "source": [
    "___\n",
    "#### LGBMClassifier\n",
    "___"
   ]
  },
  {
   "cell_type": "code",
   "execution_count": 183,
   "metadata": {},
   "outputs": [
    {
     "data": {
      "text/plain": [
       "(0.8108204156230963, 0.7629524485450674)"
      ]
     },
     "execution_count": 183,
     "metadata": {},
     "output_type": "execute_result"
    }
   ],
   "source": [
    "model_LGBM = lgb.LGBMClassifier(n_estimators=5, num_leaves=58, random_state = 12345)\n",
    "model_LGBM.fit(features_train, target_train)\n",
    "predict_LGBM = model_LGBM.predict(features_valid)\n",
    "roc_LGBM_val = roc_auc_score(predict_LGBM, target_valid)\n",
    "acc_LGBM_val = accuracy_score(predict_LGBM, target_valid)\n",
    "roc_LGBM_val, acc_LGBM_val"
   ]
  },
  {
   "cell_type": "markdown",
   "metadata": {},
   "source": [
    "___\n",
    "#### keras\n",
    "___"
   ]
  },
  {
   "cell_type": "code",
   "execution_count": 184,
   "metadata": {},
   "outputs": [],
   "source": [
    "optimizer = Adam(lr=0.0001)"
   ]
  },
  {
   "cell_type": "code",
   "execution_count": 185,
   "metadata": {},
   "outputs": [
    {
     "name": "stdout",
     "output_type": "stream",
     "text": [
      "Train on 4225 samples\n",
      "Epoch 1/50\n",
      "4225/4225 - 2s - loss: 0.7458 - AUC: 0.5250 - accuracy: 0.4679\n",
      "Epoch 2/50\n",
      "4225/4225 - 1s - loss: 0.5567 - AUC: 0.7129 - accuracy: 0.7394\n",
      "Epoch 3/50\n",
      "4225/4225 - 1s - loss: 0.5084 - AUC: 0.8275 - accuracy: 0.7411\n",
      "Epoch 4/50\n",
      "4225/4225 - 1s - loss: 0.4620 - AUC: 0.8317 - accuracy: 0.7839\n",
      "Epoch 5/50\n",
      "4225/4225 - 1s - loss: 0.4376 - AUC: 0.8360 - accuracy: 0.7969\n",
      "Epoch 6/50\n",
      "4225/4225 - 1s - loss: 0.4295 - AUC: 0.8404 - accuracy: 0.7974\n",
      "Epoch 7/50\n",
      "4225/4225 - 1s - loss: 0.4252 - AUC: 0.8423 - accuracy: 0.8000\n",
      "Epoch 8/50\n",
      "4225/4225 - 1s - loss: 0.4222 - AUC: 0.8442 - accuracy: 0.7998\n",
      "Epoch 9/50\n",
      "4225/4225 - 1s - loss: 0.4196 - AUC: 0.8454 - accuracy: 0.7995\n",
      "Epoch 10/50\n",
      "4225/4225 - 1s - loss: 0.4180 - AUC: 0.8463 - accuracy: 0.8019\n",
      "Epoch 11/50\n",
      "4225/4225 - 1s - loss: 0.4156 - AUC: 0.8480 - accuracy: 0.8052\n",
      "Epoch 12/50\n",
      "4225/4225 - 1s - loss: 0.4138 - AUC: 0.8493 - accuracy: 0.8045\n",
      "Epoch 13/50\n",
      "4225/4225 - 1s - loss: 0.4125 - AUC: 0.8502 - accuracy: 0.8064\n",
      "Epoch 14/50\n",
      "4225/4225 - 1s - loss: 0.4105 - AUC: 0.8517 - accuracy: 0.8095\n",
      "Epoch 15/50\n",
      "4225/4225 - 1s - loss: 0.4095 - AUC: 0.8522 - accuracy: 0.8071\n",
      "Epoch 16/50\n",
      "4225/4225 - 1s - loss: 0.4077 - AUC: 0.8537 - accuracy: 0.8097\n",
      "Epoch 17/50\n",
      "4225/4225 - 1s - loss: 0.4071 - AUC: 0.8545 - accuracy: 0.8107\n",
      "Epoch 18/50\n",
      "4225/4225 - 1s - loss: 0.4055 - AUC: 0.8554 - accuracy: 0.8166\n",
      "Epoch 19/50\n",
      "4225/4225 - 1s - loss: 0.4038 - AUC: 0.8567 - accuracy: 0.8133\n",
      "Epoch 20/50\n",
      "4225/4225 - 1s - loss: 0.4024 - AUC: 0.8577 - accuracy: 0.8173\n",
      "Epoch 21/50\n",
      "4225/4225 - 1s - loss: 0.4016 - AUC: 0.8581 - accuracy: 0.8147\n",
      "Epoch 22/50\n",
      "4225/4225 - 1s - loss: 0.3997 - AUC: 0.8595 - accuracy: 0.8173\n",
      "Epoch 23/50\n",
      "4225/4225 - 1s - loss: 0.3992 - AUC: 0.8601 - accuracy: 0.8180\n",
      "Epoch 24/50\n",
      "4225/4225 - 1s - loss: 0.3985 - AUC: 0.8607 - accuracy: 0.8180\n",
      "Epoch 25/50\n",
      "4225/4225 - 1s - loss: 0.3979 - AUC: 0.8609 - accuracy: 0.8166\n",
      "Epoch 26/50\n",
      "4225/4225 - 1s - loss: 0.3965 - AUC: 0.8620 - accuracy: 0.8192\n",
      "Epoch 27/50\n",
      "4225/4225 - 1s - loss: 0.3949 - AUC: 0.8632 - accuracy: 0.8194\n",
      "Epoch 28/50\n",
      "4225/4225 - 1s - loss: 0.3936 - AUC: 0.8643 - accuracy: 0.8225\n",
      "Epoch 29/50\n",
      "4225/4225 - 1s - loss: 0.3926 - AUC: 0.8650 - accuracy: 0.8227\n",
      "Epoch 30/50\n",
      "4225/4225 - 1s - loss: 0.3917 - AUC: 0.8658 - accuracy: 0.8199\n",
      "Epoch 31/50\n",
      "4225/4225 - 1s - loss: 0.3905 - AUC: 0.8664 - accuracy: 0.8218\n",
      "Epoch 32/50\n",
      "4225/4225 - 1s - loss: 0.3896 - AUC: 0.8670 - accuracy: 0.8225\n",
      "Epoch 33/50\n",
      "4225/4225 - 1s - loss: 0.3890 - AUC: 0.8676 - accuracy: 0.8227\n",
      "Epoch 34/50\n",
      "4225/4225 - 1s - loss: 0.3872 - AUC: 0.8688 - accuracy: 0.8218\n",
      "Epoch 35/50\n",
      "4225/4225 - 1s - loss: 0.3866 - AUC: 0.8693 - accuracy: 0.8227\n",
      "Epoch 36/50\n",
      "4225/4225 - 1s - loss: 0.3860 - AUC: 0.8696 - accuracy: 0.8256\n",
      "Epoch 37/50\n",
      "4225/4225 - 1s - loss: 0.3844 - AUC: 0.8709 - accuracy: 0.8270\n",
      "Epoch 38/50\n",
      "4225/4225 - 1s - loss: 0.3837 - AUC: 0.8712 - accuracy: 0.8260\n",
      "Epoch 39/50\n",
      "4225/4225 - 1s - loss: 0.3830 - AUC: 0.8722 - accuracy: 0.8296\n",
      "Epoch 40/50\n",
      "4225/4225 - 1s - loss: 0.3824 - AUC: 0.8722 - accuracy: 0.8253\n",
      "Epoch 41/50\n",
      "4225/4225 - 1s - loss: 0.3811 - AUC: 0.8732 - accuracy: 0.8282\n",
      "Epoch 42/50\n",
      "4225/4225 - 1s - loss: 0.3799 - AUC: 0.8739 - accuracy: 0.8277\n",
      "Epoch 43/50\n",
      "4225/4225 - 1s - loss: 0.3786 - AUC: 0.8752 - accuracy: 0.8282\n",
      "Epoch 44/50\n",
      "4225/4225 - 1s - loss: 0.3784 - AUC: 0.8754 - accuracy: 0.8282\n",
      "Epoch 45/50\n",
      "4225/4225 - 1s - loss: 0.3772 - AUC: 0.8764 - accuracy: 0.8331\n",
      "Epoch 46/50\n",
      "4225/4225 - 1s - loss: 0.3766 - AUC: 0.8763 - accuracy: 0.8305\n",
      "Epoch 47/50\n",
      "4225/4225 - 1s - loss: 0.3759 - AUC: 0.8766 - accuracy: 0.8341\n",
      "Epoch 48/50\n",
      "4225/4225 - 1s - loss: 0.3748 - AUC: 0.8777 - accuracy: 0.8334\n",
      "Epoch 49/50\n",
      "4225/4225 - 1s - loss: 0.3741 - AUC: 0.8781 - accuracy: 0.8331\n",
      "Epoch 50/50\n",
      "4225/4225 - 1s - loss: 0.3741 - AUC: 0.8787 - accuracy: 0.8357\n"
     ]
    },
    {
     "data": {
      "text/plain": [
       "(0.7367553194251852, 0.7920511000709723)"
      ]
     },
     "execution_count": 185,
     "metadata": {},
     "output_type": "execute_result"
    }
   ],
   "source": [
    "model_keras = keras.models.Sequential()\n",
    "\n",
    "model_keras.add(Dense(256, input_dim=features_train.shape[1], activation = 'relu'))\n",
    "model_keras.add(Dense(128, activation = 'sigmoid'))\n",
    "model_keras.add(Dense(64, activation = 'relu'))\n",
    "model_keras.add(Dense(32, activation = 'sigmoid'))\n",
    "model_keras.add(Dense(1, activation = 'sigmoid'))\n",
    "\n",
    "                \n",
    "model_keras.compile(loss='binary_crossentropy', optimizer=optimizer, metrics=['AUC', 'accuracy'])\n",
    "                \n",
    "model_keras.fit(features_train, target_train, epochs=50, verbose=2)\n",
    "predict_keras = model_keras.predict_classes(features_valid)\n",
    "roc_keras_val = roc_auc_score(predict_keras, target_valid)\n",
    "acc_keras_val = accuracy_score(predict_keras, target_valid)\n",
    "roc_keras_val, acc_keras_val"
   ]
  },
  {
   "cell_type": "markdown",
   "metadata": {},
   "source": [
    "___\n",
    "<a name=\"Шаг_4\"></a>\n",
    "### Общий вывод."
   ]
  },
  {
   "cell_type": "code",
   "execution_count": 186,
   "metadata": {},
   "outputs": [],
   "source": [
    "roc_LR_test = roc_auc_score(model_LR.predict(features_test), target_test)\n",
    "acc_LR_test = accuracy_score(model_LR.predict(features_test), target_test)\n",
    "roc_RFC_test = roc_auc_score(model_RFC.predict(features_test), target_test)\n",
    "acc_RFC_test = accuracy_score(model_RFC.predict(features_test), target_test)\n",
    "roc_DTC_test = roc_auc_score(model_DTC.predict(features_test), target_test)\n",
    "acc_DTC_test = accuracy_score(model_DTC.predict(features_test), target_test)\n",
    "roc_cbc_test = roc_auc_score(model_cbc.predict(features_test), target_test)\n",
    "acc_cbc_test = accuracy_score(model_cbc.predict(features_test), target_test)\n",
    "roc_xgb_test = roc_auc_score(model_xgb.predict(features_test), target_test)\n",
    "acc_xgb_test = accuracy_score(model_xgb.predict(features_test), target_test)\n",
    "roc_LGBM_test = roc_auc_score(model_LGBM.predict(features_test), target_test)\n",
    "acc_LGBM_test = accuracy_score(model_LGBM.predict(features_test), target_test)\n",
    "roc_keras_test = roc_auc_score(model_keras.predict_classes(features_test), target_test)\n",
    "acc_keras_test = accuracy_score(model_keras.predict_classes(features_test), target_test)"
   ]
  },
  {
   "cell_type": "code",
   "execution_count": 187,
   "metadata": {},
   "outputs": [],
   "source": [
    "table = pd.DataFrame(\n",
    "    {'name': ['LogisticRegression', 'RandomForestClassifier', 'DecisionTreeClassifier', \n",
    "              'CatBoostClassifier', 'XGBClassifier', 'LGBMClassifier', 'keras'], \n",
    "              'roc_auc_valid': [roc_LR_val, roc_RFC_val, roc_DTC_val, roc_cbc_val, roc_xgb_val, roc_LGBM_val, roc_keras_val],\n",
    "              'roc_auc_test': [roc_LR_test, roc_RFC_test, roc_DTC_test, roc_cbc_test, roc_xgb_test, roc_LGBM_test, roc_keras_test],\n",
    "              'accuracy_test': [acc_LR_test, acc_RFC_test, acc_DTC_test, acc_cbc_test, acc_xgb_test, acc_LGBM_test, acc_keras_test],\n",
    "\n",
    "    }\n",
    ")"
   ]
  },
  {
   "cell_type": "code",
   "execution_count": 189,
   "metadata": {},
   "outputs": [
    {
     "data": {
      "text/html": [
       "<div>\n",
       "<style scoped>\n",
       "    .dataframe tbody tr th:only-of-type {\n",
       "        vertical-align: middle;\n",
       "    }\n",
       "\n",
       "    .dataframe tbody tr th {\n",
       "        vertical-align: top;\n",
       "    }\n",
       "\n",
       "    .dataframe thead th {\n",
       "        text-align: right;\n",
       "    }\n",
       "</style>\n",
       "<table border=\"1\" class=\"dataframe\">\n",
       "  <thead>\n",
       "    <tr style=\"text-align: right;\">\n",
       "      <th></th>\n",
       "      <th>name</th>\n",
       "      <th>roc_auc_valid</th>\n",
       "      <th>roc_auc_test</th>\n",
       "      <th>accuracy_test</th>\n",
       "    </tr>\n",
       "  </thead>\n",
       "  <tbody>\n",
       "    <tr>\n",
       "      <td>0</td>\n",
       "      <td>LogisticRegression</td>\n",
       "      <td>0.751261</td>\n",
       "      <td>0.739311</td>\n",
       "      <td>0.789922</td>\n",
       "    </tr>\n",
       "    <tr>\n",
       "      <td>1</td>\n",
       "      <td>RandomForestClassifier</td>\n",
       "      <td>0.767968</td>\n",
       "      <td>0.811071</td>\n",
       "      <td>0.740241</td>\n",
       "    </tr>\n",
       "    <tr>\n",
       "      <td>2</td>\n",
       "      <td>DecisionTreeClassifier</td>\n",
       "      <td>0.726060</td>\n",
       "      <td>0.736141</td>\n",
       "      <td>0.776437</td>\n",
       "    </tr>\n",
       "    <tr>\n",
       "      <td>3</td>\n",
       "      <td>CatBoostClassifier</td>\n",
       "      <td>0.726060</td>\n",
       "      <td>0.725984</td>\n",
       "      <td>0.780696</td>\n",
       "    </tr>\n",
       "    <tr>\n",
       "      <td>4</td>\n",
       "      <td>XGBClassifier</td>\n",
       "      <td>0.747896</td>\n",
       "      <td>0.729819</td>\n",
       "      <td>0.784244</td>\n",
       "    </tr>\n",
       "    <tr>\n",
       "      <td>5</td>\n",
       "      <td>LGBMClassifier</td>\n",
       "      <td>0.810820</td>\n",
       "      <td>0.809518</td>\n",
       "      <td>0.750887</td>\n",
       "    </tr>\n",
       "    <tr>\n",
       "      <td>6</td>\n",
       "      <td>keras</td>\n",
       "      <td>0.736755</td>\n",
       "      <td>0.715041</td>\n",
       "      <td>0.774308</td>\n",
       "    </tr>\n",
       "  </tbody>\n",
       "</table>\n",
       "</div>"
      ],
      "text/plain": [
       "                     name  roc_auc_valid  roc_auc_test  accuracy_test\n",
       "0      LogisticRegression       0.751261      0.739311       0.789922\n",
       "1  RandomForestClassifier       0.767968      0.811071       0.740241\n",
       "2  DecisionTreeClassifier       0.726060      0.736141       0.776437\n",
       "3      CatBoostClassifier       0.726060      0.725984       0.780696\n",
       "4           XGBClassifier       0.747896      0.729819       0.784244\n",
       "5          LGBMClassifier       0.810820      0.809518       0.750887\n",
       "6                   keras       0.736755      0.715041       0.774308"
      ]
     },
     "execution_count": 189,
     "metadata": {},
     "output_type": "execute_result"
    }
   ],
   "source": [
    "table"
   ]
  },
  {
   "cell_type": "markdown",
   "metadata": {},
   "source": [
    "Итоговые модели. Мой выбор стоит между двумя моделями. На тестовой выборке они показали себя хорошо обе.\n",
    "   + RandomForestClassifier \n",
    "   + LGBMClassifier\n",
    "   + максимально достигнутая мной ключевая метрика 0.811071\tна тесте (RandomForestClassifier(смущает низкое значение на валидационной)), 0.809518\tна тесте (LGBMClassifier)"
   ]
  },
  {
   "cell_type": "markdown",
   "metadata": {},
   "source": [
    "[Вверх](#Оглавление)"
   ]
  }
 ],
 "metadata": {
  "kernelspec": {
   "display_name": "Python 3",
   "language": "python",
   "name": "python3"
  },
  "language_info": {
   "codemirror_mode": {
    "name": "ipython",
    "version": 3
   },
   "file_extension": ".py",
   "mimetype": "text/x-python",
   "name": "python",
   "nbconvert_exporter": "python",
   "pygments_lexer": "ipython3",
   "version": "3.8.3"
  }
 },
 "nbformat": 4,
 "nbformat_minor": 2
}
