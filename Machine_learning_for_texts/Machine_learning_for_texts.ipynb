{
 "cells": [
  {
   "cell_type": "markdown",
   "metadata": {},
   "source": [
    "# 1. Подготовка"
   ]
  },
  {
   "cell_type": "code",
   "execution_count": 1,
   "metadata": {},
   "outputs": [],
   "source": [
    "import pandas as pd\n",
    "import numpy as np\n",
    "import nltk\n",
    "import re\n",
    "from nltk.corpus import wordnet\n",
    "from nltk.stem import WordNetLemmatizer \n",
    "from nltk.corpus import stopwords as nltk_stopwords\n",
    "from sklearn.feature_extraction.text import TfidfVectorizer\n",
    "from sklearn.model_selection import train_test_split\n",
    "from sklearn.linear_model import LogisticRegression\n",
    "from sklearn.ensemble import RandomForestClassifier\n",
    "from sklearn.tree import DecisionTreeClassifier\n",
    "from catboost import CatBoostClassifier\n",
    "import xgboost as xgb\n",
    "from sklearn.metrics import f1_score\n",
    "from sklearn.utils import shuffle"
   ]
  },
  {
   "cell_type": "code",
   "execution_count": 2,
   "metadata": {},
   "outputs": [
    {
     "name": "stderr",
     "output_type": "stream",
     "text": [
      "[nltk_data] Downloading package averaged_perceptron_tagger to\n",
      "[nltk_data]     C:\\Users\\Анатолий\\AppData\\Roaming\\nltk_data...\n",
      "[nltk_data]   Package averaged_perceptron_tagger is already up-to-\n",
      "[nltk_data]       date!\n"
     ]
    },
    {
     "data": {
      "text/plain": [
       "True"
      ]
     },
     "execution_count": 2,
     "metadata": {},
     "output_type": "execute_result"
    }
   ],
   "source": [
    "nltk.download('averaged_perceptron_tagger')"
   ]
  },
  {
   "cell_type": "code",
   "execution_count": 3,
   "metadata": {},
   "outputs": [
    {
     "name": "stderr",
     "output_type": "stream",
     "text": [
      "[nltk_data] Downloading package stopwords to\n",
      "[nltk_data]     C:\\Users\\Анатолий\\AppData\\Roaming\\nltk_data...\n",
      "[nltk_data]   Package stopwords is already up-to-date!\n"
     ]
    },
    {
     "data": {
      "text/plain": [
       "True"
      ]
     },
     "execution_count": 3,
     "metadata": {},
     "output_type": "execute_result"
    }
   ],
   "source": [
    "nltk.download('stopwords')"
   ]
  },
  {
   "cell_type": "code",
   "execution_count": 4,
   "metadata": {},
   "outputs": [],
   "source": [
    "def lemmatize(text):\n",
    "    lem = nltk.word_tokenize(text)\n",
    "    lemmtext = [lemmatizer.lemmatize(i, get_wordnet_pos(i)) for i in nltk.word_tokenize(text)]\n",
    "    return \" \".join(lemmtext)"
   ]
  },
  {
   "cell_type": "code",
   "execution_count": 5,
   "metadata": {},
   "outputs": [],
   "source": [
    "lemmatizer = WordNetLemmatizer()"
   ]
  },
  {
   "cell_type": "code",
   "execution_count": 6,
   "metadata": {},
   "outputs": [],
   "source": [
    "def get_wordnet_pos(word):\n",
    "    tag = nltk.pos_tag([word])[0][1][0].upper()\n",
    "    tag_dict = {\"J\": wordnet.ADJ,\n",
    "                \"N\": wordnet.NOUN,\n",
    "                \"V\": wordnet.VERB,\n",
    "                \"R\": wordnet.ADV}\n",
    "    return tag_dict.get(tag, wordnet.NOUN)"
   ]
  },
  {
   "cell_type": "code",
   "execution_count": 7,
   "metadata": {},
   "outputs": [],
   "source": [
    "def clear_text(text):\n",
    "    txt = re.sub(r'[^a-zA-Z0-9]',' ', text)\n",
    "    txt = str(txt).lower()\n",
    "    return ' '.join(txt.split())"
   ]
  },
  {
   "cell_type": "code",
   "execution_count": 8,
   "metadata": {},
   "outputs": [],
   "source": [
    "def upsample(features, target, repeat):\n",
    "    features_zeros = features[target == 0]\n",
    "    features_ones = features[target == 1]\n",
    "    target_zeros = target[target == 0]\n",
    "    target_ones = target[target == 1]\n",
    "\n",
    "    features_upsampled = pd.concat([features_zeros] + [features_ones] * repeat)\n",
    "    target_upsampled = pd.concat([target_zeros] + [target_ones] * repeat)\n",
    "    \n",
    "    features_upsampled, target_upsampled = shuffle(\n",
    "        features_upsampled, target_upsampled, random_state=12345)\n",
    "    \n",
    "    return features_upsampled, target_upsampled"
   ]
  },
  {
   "cell_type": "code",
   "execution_count": 9,
   "metadata": {},
   "outputs": [],
   "source": [
    "data = pd.read_csv('toxic_comments.csv')"
   ]
  },
  {
   "cell_type": "code",
   "execution_count": 10,
   "metadata": {},
   "outputs": [
    {
     "data": {
      "text/plain": [
       "(159571, 2)"
      ]
     },
     "execution_count": 10,
     "metadata": {},
     "output_type": "execute_result"
    }
   ],
   "source": [
    "data.shape"
   ]
  },
  {
   "cell_type": "code",
   "execution_count": 11,
   "metadata": {},
   "outputs": [
    {
     "data": {
      "text/html": [
       "<div>\n",
       "<style scoped>\n",
       "    .dataframe tbody tr th:only-of-type {\n",
       "        vertical-align: middle;\n",
       "    }\n",
       "\n",
       "    .dataframe tbody tr th {\n",
       "        vertical-align: top;\n",
       "    }\n",
       "\n",
       "    .dataframe thead th {\n",
       "        text-align: right;\n",
       "    }\n",
       "</style>\n",
       "<table border=\"1\" class=\"dataframe\">\n",
       "  <thead>\n",
       "    <tr style=\"text-align: right;\">\n",
       "      <th></th>\n",
       "      <th>text</th>\n",
       "      <th>toxic</th>\n",
       "    </tr>\n",
       "  </thead>\n",
       "  <tbody>\n",
       "    <tr>\n",
       "      <th>0</th>\n",
       "      <td>Explanation\\nWhy the edits made under my usern...</td>\n",
       "      <td>0</td>\n",
       "    </tr>\n",
       "    <tr>\n",
       "      <th>1</th>\n",
       "      <td>D'aww! He matches this background colour I'm s...</td>\n",
       "      <td>0</td>\n",
       "    </tr>\n",
       "    <tr>\n",
       "      <th>2</th>\n",
       "      <td>Hey man, I'm really not trying to edit war. It...</td>\n",
       "      <td>0</td>\n",
       "    </tr>\n",
       "  </tbody>\n",
       "</table>\n",
       "</div>"
      ],
      "text/plain": [
       "                                                text  toxic\n",
       "0  Explanation\\nWhy the edits made under my usern...      0\n",
       "1  D'aww! He matches this background colour I'm s...      0\n",
       "2  Hey man, I'm really not trying to edit war. It...      0"
      ]
     },
     "execution_count": 11,
     "metadata": {},
     "output_type": "execute_result"
    }
   ],
   "source": [
    "data.head(3)"
   ]
  },
  {
   "cell_type": "code",
   "execution_count": 12,
   "metadata": {
    "scrolled": true
   },
   "outputs": [
    {
     "name": "stdout",
     "output_type": "stream",
     "text": [
      "<class 'pandas.core.frame.DataFrame'>\n",
      "RangeIndex: 159571 entries, 0 to 159570\n",
      "Data columns (total 2 columns):\n",
      " #   Column  Non-Null Count   Dtype \n",
      "---  ------  --------------   ----- \n",
      " 0   text    159571 non-null  object\n",
      " 1   toxic   159571 non-null  int64 \n",
      "dtypes: int64(1), object(1)\n",
      "memory usage: 2.4+ MB\n"
     ]
    }
   ],
   "source": [
    "data.info()"
   ]
  },
  {
   "cell_type": "markdown",
   "metadata": {},
   "source": [
    "Тип данных нормально"
   ]
  },
  {
   "cell_type": "code",
   "execution_count": 13,
   "metadata": {},
   "outputs": [
    {
     "data": {
      "text/plain": [
       "0    143346\n",
       "1     16225\n",
       "Name: toxic, dtype: int64"
      ]
     },
     "execution_count": 13,
     "metadata": {},
     "output_type": "execute_result"
    }
   ],
   "source": [
    "data['toxic'].value_counts()"
   ]
  },
  {
   "cell_type": "code",
   "execution_count": 14,
   "metadata": {},
   "outputs": [],
   "source": [
    "data = data.sample(25000)"
   ]
  },
  {
   "cell_type": "code",
   "execution_count": 15,
   "metadata": {},
   "outputs": [],
   "source": [
    "data['lemm_text'] = data['text'].apply(lambda x: lemmatize(x))"
   ]
  },
  {
   "cell_type": "code",
   "execution_count": 16,
   "metadata": {},
   "outputs": [],
   "source": [
    "data['lemm_text'] = data['lemm_text'].apply(lambda x: clear_text(x))"
   ]
  },
  {
   "cell_type": "code",
   "execution_count": 17,
   "metadata": {},
   "outputs": [],
   "source": [
    "data = data.drop(['text'], axis = 1)"
   ]
  },
  {
   "cell_type": "code",
   "execution_count": 18,
   "metadata": {},
   "outputs": [],
   "source": [
    "features = data.drop(['toxic'], axis = 1)"
   ]
  },
  {
   "cell_type": "code",
   "execution_count": 19,
   "metadata": {},
   "outputs": [],
   "source": [
    "target = data['toxic']"
   ]
  },
  {
   "cell_type": "code",
   "execution_count": 20,
   "metadata": {},
   "outputs": [],
   "source": [
    "features_train, features_valid, target_train, target_valid = train_test_split(\n",
    "    features, target, test_size=0.4, random_state=12345)"
   ]
  },
  {
   "cell_type": "code",
   "execution_count": 21,
   "metadata": {},
   "outputs": [],
   "source": [
    "features_valid, features_test, target_valid, target_test = train_test_split(\n",
    "    features_valid, target_valid, test_size=0.5, random_state=12345)"
   ]
  },
  {
   "cell_type": "code",
   "execution_count": 22,
   "metadata": {},
   "outputs": [
    {
     "data": {
      "text/plain": [
       "(15000, 1)"
      ]
     },
     "execution_count": 22,
     "metadata": {},
     "output_type": "execute_result"
    }
   ],
   "source": [
    "features_train.shape"
   ]
  },
  {
   "cell_type": "code",
   "execution_count": 23,
   "metadata": {},
   "outputs": [
    {
     "data": {
      "text/plain": [
       "(5000, 1)"
      ]
     },
     "execution_count": 23,
     "metadata": {},
     "output_type": "execute_result"
    }
   ],
   "source": [
    "features_valid.shape"
   ]
  },
  {
   "cell_type": "code",
   "execution_count": 24,
   "metadata": {},
   "outputs": [
    {
     "data": {
      "text/plain": [
       "(5000, 1)"
      ]
     },
     "execution_count": 24,
     "metadata": {},
     "output_type": "execute_result"
    }
   ],
   "source": [
    "features_test.shape"
   ]
  },
  {
   "cell_type": "code",
   "execution_count": 25,
   "metadata": {},
   "outputs": [
    {
     "data": {
      "text/plain": [
       "(15000,)"
      ]
     },
     "execution_count": 25,
     "metadata": {},
     "output_type": "execute_result"
    }
   ],
   "source": [
    "target_train.shape"
   ]
  },
  {
   "cell_type": "code",
   "execution_count": 26,
   "metadata": {},
   "outputs": [
    {
     "data": {
      "text/plain": [
       "(5000,)"
      ]
     },
     "execution_count": 26,
     "metadata": {},
     "output_type": "execute_result"
    }
   ],
   "source": [
    "target_valid.shape"
   ]
  },
  {
   "cell_type": "code",
   "execution_count": 27,
   "metadata": {},
   "outputs": [
    {
     "data": {
      "text/plain": [
       "(5000,)"
      ]
     },
     "execution_count": 27,
     "metadata": {},
     "output_type": "execute_result"
    }
   ],
   "source": [
    "target_test.shape"
   ]
  },
  {
   "cell_type": "code",
   "execution_count": 28,
   "metadata": {},
   "outputs": [],
   "source": [
    "features_train, target_train = upsample(features_train, target_train, 9)"
   ]
  },
  {
   "cell_type": "markdown",
   "metadata": {},
   "source": [
    "Разбил / Проверил"
   ]
  },
  {
   "cell_type": "code",
   "execution_count": 29,
   "metadata": {},
   "outputs": [],
   "source": [
    "corpus_train = features_train['lemm_text'].values.astype('U')"
   ]
  },
  {
   "cell_type": "code",
   "execution_count": 30,
   "metadata": {},
   "outputs": [],
   "source": [
    "corpus_valid = features_valid['lemm_text'].values.astype('U')"
   ]
  },
  {
   "cell_type": "code",
   "execution_count": 31,
   "metadata": {},
   "outputs": [],
   "source": [
    "corpus_test = features_test['lemm_text'].values.astype('U')"
   ]
  },
  {
   "cell_type": "markdown",
   "metadata": {},
   "source": [
    "Корпус в юникод"
   ]
  },
  {
   "cell_type": "code",
   "execution_count": 32,
   "metadata": {},
   "outputs": [],
   "source": [
    "stopwords = set(nltk_stopwords.words('english'))"
   ]
  },
  {
   "cell_type": "code",
   "execution_count": 33,
   "metadata": {},
   "outputs": [],
   "source": [
    "count_tf_idf = TfidfVectorizer(stop_words=stopwords)"
   ]
  },
  {
   "cell_type": "code",
   "execution_count": 34,
   "metadata": {},
   "outputs": [
    {
     "data": {
      "text/plain": [
       "TfidfVectorizer(stop_words={'a', 'about', 'above', 'after', 'again', 'against',\n",
       "                            'ain', 'all', 'am', 'an', 'and', 'any', 'are',\n",
       "                            'aren', \"aren't\", 'as', 'at', 'be', 'because',\n",
       "                            'been', 'before', 'being', 'below', 'between',\n",
       "                            'both', 'but', 'by', 'can', 'couldn', \"couldn't\", ...})"
      ]
     },
     "execution_count": 34,
     "metadata": {},
     "output_type": "execute_result"
    }
   ],
   "source": [
    "count_tf_idf.fit(corpus_train)"
   ]
  },
  {
   "cell_type": "markdown",
   "metadata": {},
   "source": [
    "Обучил только на трэйн"
   ]
  },
  {
   "cell_type": "code",
   "execution_count": 35,
   "metadata": {},
   "outputs": [],
   "source": [
    "tf_idf_train  = count_tf_idf.transform(corpus_train)"
   ]
  },
  {
   "cell_type": "code",
   "execution_count": 36,
   "metadata": {},
   "outputs": [],
   "source": [
    "tf_idf_valid = count_tf_idf.transform(corpus_valid)"
   ]
  },
  {
   "cell_type": "code",
   "execution_count": 37,
   "metadata": {},
   "outputs": [],
   "source": [
    "tf_idf_test = count_tf_idf.transform(corpus_test)"
   ]
  },
  {
   "cell_type": "markdown",
   "metadata": {},
   "source": [
    "Преобразовал."
   ]
  },
  {
   "cell_type": "markdown",
   "metadata": {},
   "source": [
    "# Обучение / Модели"
   ]
  },
  {
   "cell_type": "markdown",
   "metadata": {},
   "source": [
    "#### LogisticRegression"
   ]
  },
  {
   "cell_type": "code",
   "execution_count": 38,
   "metadata": {},
   "outputs": [],
   "source": [
    "model_LR = LogisticRegression(solver = 'liblinear', random_state = 12345)"
   ]
  },
  {
   "cell_type": "code",
   "execution_count": 39,
   "metadata": {},
   "outputs": [
    {
     "data": {
      "text/plain": [
       "LogisticRegression(random_state=12345, solver='liblinear')"
      ]
     },
     "execution_count": 39,
     "metadata": {},
     "output_type": "execute_result"
    }
   ],
   "source": [
    "model_LR.fit(tf_idf_train, target_train)"
   ]
  },
  {
   "cell_type": "code",
   "execution_count": 40,
   "metadata": {},
   "outputs": [],
   "source": [
    "predict_LR = model_LR.predict(tf_idf_valid)"
   ]
  },
  {
   "cell_type": "code",
   "execution_count": 41,
   "metadata": {},
   "outputs": [],
   "source": [
    "f1_LR = f1_score(target_valid, predict_LR)"
   ]
  },
  {
   "cell_type": "code",
   "execution_count": 42,
   "metadata": {},
   "outputs": [
    {
     "data": {
      "text/plain": [
       "0.7233661593554161"
      ]
     },
     "execution_count": 42,
     "metadata": {},
     "output_type": "execute_result"
    }
   ],
   "source": [
    "f1_LR"
   ]
  },
  {
   "cell_type": "markdown",
   "metadata": {},
   "source": [
    "#### RandomForestClassifier"
   ]
  },
  {
   "cell_type": "code",
   "execution_count": 94,
   "metadata": {},
   "outputs": [],
   "source": [
    "model_RFC =  RandomForestClassifier(n_estimators = 179,\n",
    "                                    max_depth = 320,\n",
    "                                    max_features = 480,\n",
    "                                    n_jobs = 4, \n",
    "                                    random_state = 12345)"
   ]
  },
  {
   "cell_type": "code",
   "execution_count": 95,
   "metadata": {},
   "outputs": [
    {
     "data": {
      "text/plain": [
       "RandomForestClassifier(max_depth=320, max_features=480, n_estimators=179,\n",
       "                       n_jobs=4, random_state=12345)"
      ]
     },
     "execution_count": 95,
     "metadata": {},
     "output_type": "execute_result"
    }
   ],
   "source": [
    "model_RFC.fit(tf_idf_train, target_train)"
   ]
  },
  {
   "cell_type": "code",
   "execution_count": 96,
   "metadata": {},
   "outputs": [],
   "source": [
    "predict_RFC = model_RFC.predict(tf_idf_valid)"
   ]
  },
  {
   "cell_type": "code",
   "execution_count": 97,
   "metadata": {},
   "outputs": [],
   "source": [
    "f1_RFC = f1_score(target_valid, predict_RFC)"
   ]
  },
  {
   "cell_type": "code",
   "execution_count": 98,
   "metadata": {},
   "outputs": [
    {
     "data": {
      "text/plain": [
       "0.7108571428571429"
      ]
     },
     "execution_count": 98,
     "metadata": {},
     "output_type": "execute_result"
    }
   ],
   "source": [
    "f1_RFC"
   ]
  },
  {
   "cell_type": "markdown",
   "metadata": {},
   "source": [
    "#### DecisionTreeClassifier"
   ]
  },
  {
   "cell_type": "code",
   "execution_count": 48,
   "metadata": {},
   "outputs": [],
   "source": [
    "model_DTC = DecisionTreeClassifier(max_depth = 96, random_state = 12345)"
   ]
  },
  {
   "cell_type": "code",
   "execution_count": 49,
   "metadata": {},
   "outputs": [
    {
     "data": {
      "text/plain": [
       "DecisionTreeClassifier(max_depth=96, random_state=12345)"
      ]
     },
     "execution_count": 49,
     "metadata": {},
     "output_type": "execute_result"
    }
   ],
   "source": [
    "model_DTC.fit(tf_idf_train, target_train)"
   ]
  },
  {
   "cell_type": "code",
   "execution_count": 50,
   "metadata": {},
   "outputs": [],
   "source": [
    "predict_DTC = model_DTC.predict(tf_idf_valid)"
   ]
  },
  {
   "cell_type": "code",
   "execution_count": 51,
   "metadata": {},
   "outputs": [],
   "source": [
    "f1_DTC = f1_score(target_valid, predict_DTC)"
   ]
  },
  {
   "cell_type": "code",
   "execution_count": 52,
   "metadata": {},
   "outputs": [
    {
     "data": {
      "text/plain": [
       "0.62580054894785"
      ]
     },
     "execution_count": 52,
     "metadata": {},
     "output_type": "execute_result"
    }
   ],
   "source": [
    "f1_DTC"
   ]
  },
  {
   "cell_type": "markdown",
   "metadata": {},
   "source": [
    "#### CatBoostClassifier"
   ]
  },
  {
   "cell_type": "code",
   "execution_count": 53,
   "metadata": {},
   "outputs": [],
   "source": [
    "model_CBC = CatBoostClassifier(iterations = 91, depth = 6, random_state = 12345)"
   ]
  },
  {
   "cell_type": "code",
   "execution_count": 54,
   "metadata": {},
   "outputs": [
    {
     "name": "stdout",
     "output_type": "stream",
     "text": [
      "Learning rate set to 0.379998\n",
      "0:\tlearn: 0.5714271\ttotal: 805ms\tremaining: 1m 12s\n",
      "1:\tlearn: 0.5351618\ttotal: 1.25s\tremaining: 55.7s\n",
      "2:\tlearn: 0.5139765\ttotal: 1.69s\tremaining: 49.7s\n",
      "3:\tlearn: 0.4946701\ttotal: 2.12s\tremaining: 46s\n",
      "4:\tlearn: 0.4755768\ttotal: 2.53s\tremaining: 43.6s\n",
      "5:\tlearn: 0.4567330\ttotal: 2.96s\tremaining: 41.9s\n",
      "6:\tlearn: 0.4438054\ttotal: 3.38s\tremaining: 40.5s\n",
      "7:\tlearn: 0.4327108\ttotal: 3.8s\tremaining: 39.4s\n",
      "8:\tlearn: 0.4223608\ttotal: 4.22s\tremaining: 38.5s\n",
      "9:\tlearn: 0.4148244\ttotal: 4.64s\tremaining: 37.6s\n",
      "10:\tlearn: 0.4057207\ttotal: 5.06s\tremaining: 36.8s\n",
      "11:\tlearn: 0.3979270\ttotal: 5.48s\tremaining: 36.1s\n",
      "12:\tlearn: 0.3881940\ttotal: 5.91s\tremaining: 35.5s\n",
      "13:\tlearn: 0.3827037\ttotal: 6.32s\tremaining: 34.8s\n",
      "14:\tlearn: 0.3766799\ttotal: 6.75s\tremaining: 34.2s\n",
      "15:\tlearn: 0.3699046\ttotal: 7.18s\tremaining: 33.7s\n",
      "16:\tlearn: 0.3641343\ttotal: 7.61s\tremaining: 33.1s\n",
      "17:\tlearn: 0.3599505\ttotal: 8.03s\tremaining: 32.6s\n",
      "18:\tlearn: 0.3547545\ttotal: 8.44s\tremaining: 32s\n",
      "19:\tlearn: 0.3510990\ttotal: 8.86s\tremaining: 31.4s\n",
      "20:\tlearn: 0.3463135\ttotal: 9.28s\tremaining: 30.9s\n",
      "21:\tlearn: 0.3422808\ttotal: 9.69s\tremaining: 30.4s\n",
      "22:\tlearn: 0.3388055\ttotal: 10.1s\tremaining: 29.9s\n",
      "23:\tlearn: 0.3352440\ttotal: 10.5s\tremaining: 29.4s\n",
      "24:\tlearn: 0.3311934\ttotal: 10.9s\tremaining: 28.9s\n",
      "25:\tlearn: 0.3280711\ttotal: 11.4s\tremaining: 28.4s\n",
      "26:\tlearn: 0.3240203\ttotal: 11.8s\tremaining: 27.9s\n",
      "27:\tlearn: 0.3203487\ttotal: 12.2s\tremaining: 27.4s\n",
      "28:\tlearn: 0.3159330\ttotal: 12.6s\tremaining: 26.9s\n",
      "29:\tlearn: 0.3122588\ttotal: 13s\tremaining: 26.5s\n",
      "30:\tlearn: 0.3091468\ttotal: 13.4s\tremaining: 26s\n",
      "31:\tlearn: 0.3052294\ttotal: 13.9s\tremaining: 25.6s\n",
      "32:\tlearn: 0.3023789\ttotal: 14.3s\tremaining: 25.1s\n",
      "33:\tlearn: 0.2979970\ttotal: 14.7s\tremaining: 24.6s\n",
      "34:\tlearn: 0.2948882\ttotal: 15.1s\tremaining: 24.2s\n",
      "35:\tlearn: 0.2913467\ttotal: 15.5s\tremaining: 23.7s\n",
      "36:\tlearn: 0.2885396\ttotal: 15.9s\tremaining: 23.3s\n",
      "37:\tlearn: 0.2859367\ttotal: 16.3s\tremaining: 22.8s\n",
      "38:\tlearn: 0.2827042\ttotal: 16.8s\tremaining: 22.3s\n",
      "39:\tlearn: 0.2787583\ttotal: 17.2s\tremaining: 21.9s\n",
      "40:\tlearn: 0.2759211\ttotal: 17.6s\tremaining: 21.5s\n",
      "41:\tlearn: 0.2730190\ttotal: 18s\tremaining: 21.1s\n",
      "42:\tlearn: 0.2672729\ttotal: 18.5s\tremaining: 20.6s\n",
      "43:\tlearn: 0.2641520\ttotal: 18.9s\tremaining: 20.2s\n",
      "44:\tlearn: 0.2616326\ttotal: 19.3s\tremaining: 19.8s\n",
      "45:\tlearn: 0.2597249\ttotal: 19.8s\tremaining: 19.3s\n",
      "46:\tlearn: 0.2578046\ttotal: 20.2s\tremaining: 18.9s\n",
      "47:\tlearn: 0.2556300\ttotal: 20.6s\tremaining: 18.5s\n",
      "48:\tlearn: 0.2511048\ttotal: 21s\tremaining: 18s\n",
      "49:\tlearn: 0.2483617\ttotal: 21.5s\tremaining: 17.6s\n",
      "50:\tlearn: 0.2448797\ttotal: 21.9s\tremaining: 17.2s\n",
      "51:\tlearn: 0.2430096\ttotal: 22.3s\tremaining: 16.7s\n",
      "52:\tlearn: 0.2412717\ttotal: 22.8s\tremaining: 16.3s\n",
      "53:\tlearn: 0.2391849\ttotal: 23.2s\tremaining: 15.9s\n",
      "54:\tlearn: 0.2375820\ttotal: 23.7s\tremaining: 15.5s\n",
      "55:\tlearn: 0.2355577\ttotal: 24.2s\tremaining: 15.1s\n",
      "56:\tlearn: 0.2340999\ttotal: 24.7s\tremaining: 14.7s\n",
      "57:\tlearn: 0.2326605\ttotal: 25.1s\tremaining: 14.3s\n",
      "58:\tlearn: 0.2312138\ttotal: 25.6s\tremaining: 13.9s\n",
      "59:\tlearn: 0.2278288\ttotal: 26.1s\tremaining: 13.5s\n",
      "60:\tlearn: 0.2264047\ttotal: 26.5s\tremaining: 13s\n",
      "61:\tlearn: 0.2249035\ttotal: 26.9s\tremaining: 12.6s\n",
      "62:\tlearn: 0.2234833\ttotal: 27.4s\tremaining: 12.2s\n",
      "63:\tlearn: 0.2219838\ttotal: 27.8s\tremaining: 11.7s\n",
      "64:\tlearn: 0.2202025\ttotal: 28.2s\tremaining: 11.3s\n",
      "65:\tlearn: 0.2185299\ttotal: 28.7s\tremaining: 10.9s\n",
      "66:\tlearn: 0.2155146\ttotal: 29.1s\tremaining: 10.4s\n",
      "67:\tlearn: 0.2133070\ttotal: 29.7s\tremaining: 10s\n",
      "68:\tlearn: 0.2097385\ttotal: 30.1s\tremaining: 9.6s\n",
      "69:\tlearn: 0.2069413\ttotal: 30.6s\tremaining: 9.18s\n",
      "70:\tlearn: 0.2056135\ttotal: 31.1s\tremaining: 8.75s\n",
      "71:\tlearn: 0.2039376\ttotal: 31.5s\tremaining: 8.31s\n",
      "72:\tlearn: 0.2024214\ttotal: 31.9s\tremaining: 7.88s\n",
      "73:\tlearn: 0.2005969\ttotal: 32.4s\tremaining: 7.44s\n",
      "74:\tlearn: 0.1982521\ttotal: 32.8s\tremaining: 7s\n",
      "75:\tlearn: 0.1963425\ttotal: 33.3s\tremaining: 6.57s\n",
      "76:\tlearn: 0.1947581\ttotal: 33.7s\tremaining: 6.13s\n",
      "77:\tlearn: 0.1933850\ttotal: 34.1s\tremaining: 5.69s\n",
      "78:\tlearn: 0.1916471\ttotal: 34.6s\tremaining: 5.25s\n",
      "79:\tlearn: 0.1898623\ttotal: 35s\tremaining: 4.82s\n",
      "80:\tlearn: 0.1887811\ttotal: 35.5s\tremaining: 4.38s\n",
      "81:\tlearn: 0.1866851\ttotal: 35.9s\tremaining: 3.94s\n",
      "82:\tlearn: 0.1853253\ttotal: 36.4s\tremaining: 3.5s\n",
      "83:\tlearn: 0.1842705\ttotal: 36.8s\tremaining: 3.06s\n",
      "84:\tlearn: 0.1829716\ttotal: 37.2s\tremaining: 2.63s\n",
      "85:\tlearn: 0.1818474\ttotal: 37.7s\tremaining: 2.19s\n",
      "86:\tlearn: 0.1808127\ttotal: 38.1s\tremaining: 1.75s\n",
      "87:\tlearn: 0.1790641\ttotal: 38.5s\tremaining: 1.31s\n",
      "88:\tlearn: 0.1777197\ttotal: 39s\tremaining: 876ms\n",
      "89:\tlearn: 0.1760338\ttotal: 39.4s\tremaining: 438ms\n",
      "90:\tlearn: 0.1751466\ttotal: 39.8s\tremaining: 0us\n"
     ]
    },
    {
     "data": {
      "text/plain": [
       "<catboost.core.CatBoostClassifier at 0x307c786040>"
      ]
     },
     "execution_count": 54,
     "metadata": {},
     "output_type": "execute_result"
    }
   ],
   "source": [
    "model_CBC.fit(tf_idf_train, target_train)"
   ]
  },
  {
   "cell_type": "code",
   "execution_count": 55,
   "metadata": {},
   "outputs": [],
   "source": [
    "predict_CBC = model_CBC.predict(tf_idf_valid)"
   ]
  },
  {
   "cell_type": "code",
   "execution_count": 56,
   "metadata": {},
   "outputs": [],
   "source": [
    "f1_CBC = f1_score(target_valid, predict_CBC)"
   ]
  },
  {
   "cell_type": "code",
   "execution_count": 57,
   "metadata": {},
   "outputs": [
    {
     "data": {
      "text/plain": [
       "0.7211625794732062"
      ]
     },
     "execution_count": 57,
     "metadata": {},
     "output_type": "execute_result"
    }
   ],
   "source": [
    "f1_CBC"
   ]
  },
  {
   "cell_type": "markdown",
   "metadata": {},
   "source": [
    "#### XGBClassifier"
   ]
  },
  {
   "cell_type": "code",
   "execution_count": 58,
   "metadata": {},
   "outputs": [],
   "source": [
    "model_XGBC = xgb.XGBClassifier(max_depth = 71, n_estimators = 33, random_state = 12345)"
   ]
  },
  {
   "cell_type": "code",
   "execution_count": 59,
   "metadata": {},
   "outputs": [
    {
     "data": {
      "text/plain": [
       "XGBClassifier(base_score=0.5, booster='gbtree', colsample_bylevel=1,\n",
       "              colsample_bynode=1, colsample_bytree=1, gamma=0, gpu_id=-1,\n",
       "              importance_type='gain', interaction_constraints='',\n",
       "              learning_rate=0.300000012, max_delta_step=0, max_depth=71,\n",
       "              min_child_weight=1, missing=nan, monotone_constraints='()',\n",
       "              n_estimators=33, n_jobs=0, num_parallel_tree=1,\n",
       "              random_state=12345, reg_alpha=0, reg_lambda=1, scale_pos_weight=1,\n",
       "              subsample=1, tree_method='exact', validate_parameters=1,\n",
       "              verbosity=None)"
      ]
     },
     "execution_count": 59,
     "metadata": {},
     "output_type": "execute_result"
    }
   ],
   "source": [
    "model_XGBC.fit(tf_idf_train, target_train)"
   ]
  },
  {
   "cell_type": "code",
   "execution_count": 60,
   "metadata": {},
   "outputs": [],
   "source": [
    "predict_XGBC = model_XGBC.predict(tf_idf_valid)"
   ]
  },
  {
   "cell_type": "code",
   "execution_count": 61,
   "metadata": {},
   "outputs": [],
   "source": [
    "f1_XGBC = f1_score(target_valid, predict_XGBC)"
   ]
  },
  {
   "cell_type": "code",
   "execution_count": 62,
   "metadata": {},
   "outputs": [
    {
     "data": {
      "text/plain": [
       "0.7208333333333332"
      ]
     },
     "execution_count": 62,
     "metadata": {},
     "output_type": "execute_result"
    }
   ],
   "source": [
    "f1_XGBC"
   ]
  },
  {
   "cell_type": "markdown",
   "metadata": {},
   "source": [
    "# Выводы / Тест"
   ]
  },
  {
   "cell_type": "markdown",
   "metadata": {},
   "source": [
    "Предсказания на тестовой выборке"
   ]
  },
  {
   "cell_type": "code",
   "execution_count": 63,
   "metadata": {},
   "outputs": [],
   "source": [
    "predict_LR_test = model_LR.predict(tf_idf_test)"
   ]
  },
  {
   "cell_type": "code",
   "execution_count": 64,
   "metadata": {},
   "outputs": [],
   "source": [
    "f1_LR_test = f1_score(target_test, predict_LR_test)"
   ]
  },
  {
   "cell_type": "code",
   "execution_count": 65,
   "metadata": {},
   "outputs": [
    {
     "data": {
      "text/plain": [
       "0.6814671814671814"
      ]
     },
     "execution_count": 65,
     "metadata": {},
     "output_type": "execute_result"
    }
   ],
   "source": [
    "f1_LR_test"
   ]
  },
  {
   "cell_type": "code",
   "execution_count": 66,
   "metadata": {},
   "outputs": [],
   "source": [
    "predict_RFC_test = model_RFC.predict(tf_idf_test)"
   ]
  },
  {
   "cell_type": "code",
   "execution_count": 67,
   "metadata": {},
   "outputs": [],
   "source": [
    "f1_RFC_test = f1_score(target_test, predict_RFC_test)"
   ]
  },
  {
   "cell_type": "code",
   "execution_count": 68,
   "metadata": {},
   "outputs": [
    {
     "data": {
      "text/plain": [
       "0.5505226480836238"
      ]
     },
     "execution_count": 68,
     "metadata": {},
     "output_type": "execute_result"
    }
   ],
   "source": [
    "f1_RFC_test"
   ]
  },
  {
   "cell_type": "code",
   "execution_count": 69,
   "metadata": {},
   "outputs": [],
   "source": [
    "predict_DTC_test = model_DTC.predict(tf_idf_test)"
   ]
  },
  {
   "cell_type": "code",
   "execution_count": 70,
   "metadata": {},
   "outputs": [],
   "source": [
    "f1_DTC_test = f1_score(target_test, predict_DTC_test)"
   ]
  },
  {
   "cell_type": "code",
   "execution_count": 71,
   "metadata": {},
   "outputs": [
    {
     "data": {
      "text/plain": [
       "0.5978987583572112"
      ]
     },
     "execution_count": 71,
     "metadata": {},
     "output_type": "execute_result"
    }
   ],
   "source": [
    "f1_DTC_test"
   ]
  },
  {
   "cell_type": "code",
   "execution_count": 72,
   "metadata": {},
   "outputs": [],
   "source": [
    "predict_CBC_test = model_CBC.predict(tf_idf_test)"
   ]
  },
  {
   "cell_type": "code",
   "execution_count": 73,
   "metadata": {},
   "outputs": [],
   "source": [
    "f1_CBC_test = f1_score(target_test, predict_CBC_test)"
   ]
  },
  {
   "cell_type": "code",
   "execution_count": 74,
   "metadata": {},
   "outputs": [
    {
     "data": {
      "text/plain": [
       "0.6851674641148325"
      ]
     },
     "execution_count": 74,
     "metadata": {},
     "output_type": "execute_result"
    }
   ],
   "source": [
    "f1_CBC_test"
   ]
  },
  {
   "cell_type": "code",
   "execution_count": 75,
   "metadata": {},
   "outputs": [],
   "source": [
    "predict_XGBC_test = model_XGBC.predict(tf_idf_test)"
   ]
  },
  {
   "cell_type": "code",
   "execution_count": 76,
   "metadata": {},
   "outputs": [],
   "source": [
    "f1_XGBC_test = f1_score(target_test, predict_XGBC_test)"
   ]
  },
  {
   "cell_type": "code",
   "execution_count": 77,
   "metadata": {},
   "outputs": [
    {
     "data": {
      "text/plain": [
       "0.6771300448430494"
      ]
     },
     "execution_count": 77,
     "metadata": {},
     "output_type": "execute_result"
    }
   ],
   "source": [
    "f1_XGBC_test"
   ]
  },
  {
   "cell_type": "code",
   "execution_count": 78,
   "metadata": {},
   "outputs": [],
   "source": [
    "table = pd.DataFrame(\n",
    "    {'name': ['LogisticRegression', 'RandomForestClassifier', 'DecisionTreeClassifier', 'CatBoostClassifier', 'XGBClassifier']\n",
    "                      , 'f1_score': [f1_LR, f1_RFC, f1_DTC, f1_CBC, f1_XGBC]\n",
    "                      , 'f1_score_test': [f1_LR_test, f1_RFC_test, f1_DTC_test, f1_CBC_test, f1_XGBC_test]})"
   ]
  },
  {
   "cell_type": "code",
   "execution_count": 79,
   "metadata": {
    "scrolled": true
   },
   "outputs": [
    {
     "data": {
      "text/html": [
       "<div>\n",
       "<style scoped>\n",
       "    .dataframe tbody tr th:only-of-type {\n",
       "        vertical-align: middle;\n",
       "    }\n",
       "\n",
       "    .dataframe tbody tr th {\n",
       "        vertical-align: top;\n",
       "    }\n",
       "\n",
       "    .dataframe thead th {\n",
       "        text-align: right;\n",
       "    }\n",
       "</style>\n",
       "<table border=\"1\" class=\"dataframe\">\n",
       "  <thead>\n",
       "    <tr style=\"text-align: right;\">\n",
       "      <th></th>\n",
       "      <th>name</th>\n",
       "      <th>f1_score</th>\n",
       "      <th>f1_score_test</th>\n",
       "    </tr>\n",
       "  </thead>\n",
       "  <tbody>\n",
       "    <tr>\n",
       "      <th>0</th>\n",
       "      <td>LogisticRegression</td>\n",
       "      <td>0.723366</td>\n",
       "      <td>0.681467</td>\n",
       "    </tr>\n",
       "    <tr>\n",
       "      <th>1</th>\n",
       "      <td>RandomForestClassifier</td>\n",
       "      <td>0.616760</td>\n",
       "      <td>0.550523</td>\n",
       "    </tr>\n",
       "    <tr>\n",
       "      <th>2</th>\n",
       "      <td>DecisionTreeClassifier</td>\n",
       "      <td>0.625801</td>\n",
       "      <td>0.597899</td>\n",
       "    </tr>\n",
       "    <tr>\n",
       "      <th>3</th>\n",
       "      <td>CatBoostClassifier</td>\n",
       "      <td>0.721163</td>\n",
       "      <td>0.685167</td>\n",
       "    </tr>\n",
       "    <tr>\n",
       "      <th>4</th>\n",
       "      <td>XGBClassifier</td>\n",
       "      <td>0.720833</td>\n",
       "      <td>0.677130</td>\n",
       "    </tr>\n",
       "  </tbody>\n",
       "</table>\n",
       "</div>"
      ],
      "text/plain": [
       "                     name  f1_score  f1_score_test\n",
       "0      LogisticRegression  0.723366       0.681467\n",
       "1  RandomForestClassifier  0.616760       0.550523\n",
       "2  DecisionTreeClassifier  0.625801       0.597899\n",
       "3      CatBoostClassifier  0.721163       0.685167\n",
       "4           XGBClassifier  0.720833       0.677130"
      ]
     },
     "execution_count": 79,
     "metadata": {},
     "output_type": "execute_result"
    }
   ],
   "source": [
    "table"
   ]
  },
  {
   "cell_type": "markdown",
   "metadata": {},
   "source": [
    "name |f1_test_1000|f1_test_2500|f1_test_5000|f1_test_7500|f1_test_10000|f1_test_25000|f1_test_50000|f1_test_75000|f1_test_100000|\n",
    "--|--|--|--|--|--|--|--|--|--|\n",
    "LogisticRegression| 0.400000| 0.621622| 0.684783| 0.642336| 0.652742| 0.679630| 0.715939| 0.732978|--|\n",
    "RandomForestClassifier| 0.125000| 0.344828| 0.545455| 0.532020| 0.597786| 0.662469| 0.678218| 0.674679|--|\n",
    "DecisionTreeClassifier| 0.315789| 0.511628| 0.594872| 0.652015| 0.629526| 0.659292| 0.693176| 0.697234|--|\n",
    "CatBoostClassifier| 0.380952|0.492754| 0.565517| 0.571429| 0.587814| 0.647428| 0.702703| 0.700435|--|\n",
    "XGBClassifier| 0.300000| 0.478873| 0.569444| 0.634361| 0.600000| 0.652553| 0.697979| 0.697526|--|\n",
    "\n",
    "+ В результате на сформированной таблице видно, что метрика F1 постепенно увеличивается в зависимости от количества данных, подаваемых на модели."
   ]
  }
 ],
 "metadata": {
  "kernelspec": {
   "display_name": "Python 3",
   "language": "python",
   "name": "python3"
  },
  "language_info": {
   "codemirror_mode": {
    "name": "ipython",
    "version": 3
   },
   "file_extension": ".py",
   "mimetype": "text/x-python",
   "name": "python",
   "nbconvert_exporter": "python",
   "pygments_lexer": "ipython3",
   "version": "3.8.3"
  }
 },
 "nbformat": 4,
 "nbformat_minor": 2
}
